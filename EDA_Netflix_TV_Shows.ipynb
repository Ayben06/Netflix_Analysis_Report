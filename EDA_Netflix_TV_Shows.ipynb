{
  "nbformat": 4,
  "nbformat_minor": 0,
  "metadata": {
    "colab": {
      "provenance": [],
      "authorship_tag": "ABX9TyPvFzdSkWE2Z+SPod/BGFEK",
      "include_colab_link": true
    },
    "kernelspec": {
      "name": "python3",
      "display_name": "Python 3"
    },
    "language_info": {
      "name": "python"
    }
  },
  "cells": [
    {
      "cell_type": "markdown",
      "metadata": {
        "id": "view-in-github",
        "colab_type": "text"
      },
      "source": [
        "<a href=\"https://colab.research.google.com/github/Ayben06/Netflix_Analysis_Report/blob/main/EDA_Netflix_TV_Shows.ipynb\" target=\"_parent\"><img src=\"https://colab.research.google.com/assets/colab-badge.svg\" alt=\"Open In Colab\"/></a>"
      ]
    },
    {
      "cell_type": "markdown",
      "source": [
        "# Importing the relevant libraries\n"
      ],
      "metadata": {
        "id": "6GHoV_PwdIBq"
      }
    },
    {
      "cell_type": "code",
      "source": [
        "import pandas as pd\n",
        "import numpy as np\n",
        "import matplotlib.pyplot as plt\n",
        "import seaborn as sns\n",
        "import plotly.express as px\n",
        "import plotly.graph_objects as go\n",
        "import plotly.figure_factory as ff\n",
        "from plotly.subplots import make_subplots"
      ],
      "metadata": {
        "id": "ufyyi0ambefR"
      },
      "execution_count": 1,
      "outputs": []
    },
    {
      "cell_type": "markdown",
      "source": [
        "# Data Preprocessing"
      ],
      "metadata": {
        "id": "8rPk6_QLda4R"
      }
    },
    {
      "cell_type": "markdown",
      "source": [
        "## Importing the Database"
      ],
      "metadata": {
        "id": "UnZLvKj9djDA"
      }
    },
    {
      "cell_type": "code",
      "source": [
        "data=pd.read_csv('/content/netflix_titles.csv')"
      ],
      "metadata": {
        "id": "2xfn9H-nbeI8"
      },
      "execution_count": 2,
      "outputs": []
    },
    {
      "cell_type": "code",
      "source": [
        "data.head()"
      ],
      "metadata": {
        "colab": {
          "base_uri": "https://localhost:8080/",
          "height": 642
        },
        "id": "oISoT7J6beB0",
        "outputId": "8a097ed4-13e1-49bd-f55c-9cba95b030bc"
      },
      "execution_count": 3,
      "outputs": [
        {
          "output_type": "execute_result",
          "data": {
            "text/plain": [
              "  show_id     type                  title         director  \\\n",
              "0      s1    Movie   Dick Johnson Is Dead  Kirsten Johnson   \n",
              "1      s2  TV Show          Blood & Water              NaN   \n",
              "2      s3  TV Show              Ganglands  Julien Leclercq   \n",
              "3      s4  TV Show  Jailbirds New Orleans              NaN   \n",
              "4      s5  TV Show           Kota Factory              NaN   \n",
              "\n",
              "                                                cast        country  \\\n",
              "0                                                NaN  United States   \n",
              "1  Ama Qamata, Khosi Ngema, Gail Mabalane, Thaban...   South Africa   \n",
              "2  Sami Bouajila, Tracy Gotoas, Samuel Jouy, Nabi...            NaN   \n",
              "3                                                NaN            NaN   \n",
              "4  Mayur More, Jitendra Kumar, Ranjan Raj, Alam K...          India   \n",
              "\n",
              "           date_added  release_year rating   duration  \\\n",
              "0  September 25, 2021          2020  PG-13     90 min   \n",
              "1  September 24, 2021          2021  TV-MA  2 Seasons   \n",
              "2  September 24, 2021          2021  TV-MA   1 Season   \n",
              "3  September 24, 2021          2021  TV-MA   1 Season   \n",
              "4  September 24, 2021          2021  TV-MA  2 Seasons   \n",
              "\n",
              "                                           listed_in  \\\n",
              "0                                      Documentaries   \n",
              "1    International TV Shows, TV Dramas, TV Mysteries   \n",
              "2  Crime TV Shows, International TV Shows, TV Act...   \n",
              "3                             Docuseries, Reality TV   \n",
              "4  International TV Shows, Romantic TV Shows, TV ...   \n",
              "\n",
              "                                         description  \n",
              "0  As her father nears the end of his life, filmm...  \n",
              "1  After crossing paths at a party, a Cape Town t...  \n",
              "2  To protect his family from a powerful drug lor...  \n",
              "3  Feuds, flirtations and toilet talk go down amo...  \n",
              "4  In a city of coaching centers known to train I...  "
            ],
            "text/html": [
              "\n",
              "  <div id=\"df-fddb7036-82d5-4234-9d67-4869a08dec47\" class=\"colab-df-container\">\n",
              "    <div>\n",
              "<style scoped>\n",
              "    .dataframe tbody tr th:only-of-type {\n",
              "        vertical-align: middle;\n",
              "    }\n",
              "\n",
              "    .dataframe tbody tr th {\n",
              "        vertical-align: top;\n",
              "    }\n",
              "\n",
              "    .dataframe thead th {\n",
              "        text-align: right;\n",
              "    }\n",
              "</style>\n",
              "<table border=\"1\" class=\"dataframe\">\n",
              "  <thead>\n",
              "    <tr style=\"text-align: right;\">\n",
              "      <th></th>\n",
              "      <th>show_id</th>\n",
              "      <th>type</th>\n",
              "      <th>title</th>\n",
              "      <th>director</th>\n",
              "      <th>cast</th>\n",
              "      <th>country</th>\n",
              "      <th>date_added</th>\n",
              "      <th>release_year</th>\n",
              "      <th>rating</th>\n",
              "      <th>duration</th>\n",
              "      <th>listed_in</th>\n",
              "      <th>description</th>\n",
              "    </tr>\n",
              "  </thead>\n",
              "  <tbody>\n",
              "    <tr>\n",
              "      <th>0</th>\n",
              "      <td>s1</td>\n",
              "      <td>Movie</td>\n",
              "      <td>Dick Johnson Is Dead</td>\n",
              "      <td>Kirsten Johnson</td>\n",
              "      <td>NaN</td>\n",
              "      <td>United States</td>\n",
              "      <td>September 25, 2021</td>\n",
              "      <td>2020</td>\n",
              "      <td>PG-13</td>\n",
              "      <td>90 min</td>\n",
              "      <td>Documentaries</td>\n",
              "      <td>As her father nears the end of his life, filmm...</td>\n",
              "    </tr>\n",
              "    <tr>\n",
              "      <th>1</th>\n",
              "      <td>s2</td>\n",
              "      <td>TV Show</td>\n",
              "      <td>Blood &amp; Water</td>\n",
              "      <td>NaN</td>\n",
              "      <td>Ama Qamata, Khosi Ngema, Gail Mabalane, Thaban...</td>\n",
              "      <td>South Africa</td>\n",
              "      <td>September 24, 2021</td>\n",
              "      <td>2021</td>\n",
              "      <td>TV-MA</td>\n",
              "      <td>2 Seasons</td>\n",
              "      <td>International TV Shows, TV Dramas, TV Mysteries</td>\n",
              "      <td>After crossing paths at a party, a Cape Town t...</td>\n",
              "    </tr>\n",
              "    <tr>\n",
              "      <th>2</th>\n",
              "      <td>s3</td>\n",
              "      <td>TV Show</td>\n",
              "      <td>Ganglands</td>\n",
              "      <td>Julien Leclercq</td>\n",
              "      <td>Sami Bouajila, Tracy Gotoas, Samuel Jouy, Nabi...</td>\n",
              "      <td>NaN</td>\n",
              "      <td>September 24, 2021</td>\n",
              "      <td>2021</td>\n",
              "      <td>TV-MA</td>\n",
              "      <td>1 Season</td>\n",
              "      <td>Crime TV Shows, International TV Shows, TV Act...</td>\n",
              "      <td>To protect his family from a powerful drug lor...</td>\n",
              "    </tr>\n",
              "    <tr>\n",
              "      <th>3</th>\n",
              "      <td>s4</td>\n",
              "      <td>TV Show</td>\n",
              "      <td>Jailbirds New Orleans</td>\n",
              "      <td>NaN</td>\n",
              "      <td>NaN</td>\n",
              "      <td>NaN</td>\n",
              "      <td>September 24, 2021</td>\n",
              "      <td>2021</td>\n",
              "      <td>TV-MA</td>\n",
              "      <td>1 Season</td>\n",
              "      <td>Docuseries, Reality TV</td>\n",
              "      <td>Feuds, flirtations and toilet talk go down amo...</td>\n",
              "    </tr>\n",
              "    <tr>\n",
              "      <th>4</th>\n",
              "      <td>s5</td>\n",
              "      <td>TV Show</td>\n",
              "      <td>Kota Factory</td>\n",
              "      <td>NaN</td>\n",
              "      <td>Mayur More, Jitendra Kumar, Ranjan Raj, Alam K...</td>\n",
              "      <td>India</td>\n",
              "      <td>September 24, 2021</td>\n",
              "      <td>2021</td>\n",
              "      <td>TV-MA</td>\n",
              "      <td>2 Seasons</td>\n",
              "      <td>International TV Shows, Romantic TV Shows, TV ...</td>\n",
              "      <td>In a city of coaching centers known to train I...</td>\n",
              "    </tr>\n",
              "  </tbody>\n",
              "</table>\n",
              "</div>\n",
              "    <div class=\"colab-df-buttons\">\n",
              "\n",
              "  <div class=\"colab-df-container\">\n",
              "    <button class=\"colab-df-convert\" onclick=\"convertToInteractive('df-fddb7036-82d5-4234-9d67-4869a08dec47')\"\n",
              "            title=\"Convert this dataframe to an interactive table.\"\n",
              "            style=\"display:none;\">\n",
              "\n",
              "  <svg xmlns=\"http://www.w3.org/2000/svg\" height=\"24px\" viewBox=\"0 -960 960 960\">\n",
              "    <path d=\"M120-120v-720h720v720H120Zm60-500h600v-160H180v160Zm220 220h160v-160H400v160Zm0 220h160v-160H400v160ZM180-400h160v-160H180v160Zm440 0h160v-160H620v160ZM180-180h160v-160H180v160Zm440 0h160v-160H620v160Z\"/>\n",
              "  </svg>\n",
              "    </button>\n",
              "\n",
              "  <style>\n",
              "    .colab-df-container {\n",
              "      display:flex;\n",
              "      gap: 12px;\n",
              "    }\n",
              "\n",
              "    .colab-df-convert {\n",
              "      background-color: #E8F0FE;\n",
              "      border: none;\n",
              "      border-radius: 50%;\n",
              "      cursor: pointer;\n",
              "      display: none;\n",
              "      fill: #1967D2;\n",
              "      height: 32px;\n",
              "      padding: 0 0 0 0;\n",
              "      width: 32px;\n",
              "    }\n",
              "\n",
              "    .colab-df-convert:hover {\n",
              "      background-color: #E2EBFA;\n",
              "      box-shadow: 0px 1px 2px rgba(60, 64, 67, 0.3), 0px 1px 3px 1px rgba(60, 64, 67, 0.15);\n",
              "      fill: #174EA6;\n",
              "    }\n",
              "\n",
              "    .colab-df-buttons div {\n",
              "      margin-bottom: 4px;\n",
              "    }\n",
              "\n",
              "    [theme=dark] .colab-df-convert {\n",
              "      background-color: #3B4455;\n",
              "      fill: #D2E3FC;\n",
              "    }\n",
              "\n",
              "    [theme=dark] .colab-df-convert:hover {\n",
              "      background-color: #434B5C;\n",
              "      box-shadow: 0px 1px 3px 1px rgba(0, 0, 0, 0.15);\n",
              "      filter: drop-shadow(0px 1px 2px rgba(0, 0, 0, 0.3));\n",
              "      fill: #FFFFFF;\n",
              "    }\n",
              "  </style>\n",
              "\n",
              "    <script>\n",
              "      const buttonEl =\n",
              "        document.querySelector('#df-fddb7036-82d5-4234-9d67-4869a08dec47 button.colab-df-convert');\n",
              "      buttonEl.style.display =\n",
              "        google.colab.kernel.accessAllowed ? 'block' : 'none';\n",
              "\n",
              "      async function convertToInteractive(key) {\n",
              "        const element = document.querySelector('#df-fddb7036-82d5-4234-9d67-4869a08dec47');\n",
              "        const dataTable =\n",
              "          await google.colab.kernel.invokeFunction('convertToInteractive',\n",
              "                                                    [key], {});\n",
              "        if (!dataTable) return;\n",
              "\n",
              "        const docLinkHtml = 'Like what you see? Visit the ' +\n",
              "          '<a target=\"_blank\" href=https://colab.research.google.com/notebooks/data_table.ipynb>data table notebook</a>'\n",
              "          + ' to learn more about interactive tables.';\n",
              "        element.innerHTML = '';\n",
              "        dataTable['output_type'] = 'display_data';\n",
              "        await google.colab.output.renderOutput(dataTable, element);\n",
              "        const docLink = document.createElement('div');\n",
              "        docLink.innerHTML = docLinkHtml;\n",
              "        element.appendChild(docLink);\n",
              "      }\n",
              "    </script>\n",
              "  </div>\n",
              "\n",
              "\n",
              "<div id=\"df-eaead864-5ee2-45d3-9c19-09968f0536fe\">\n",
              "  <button class=\"colab-df-quickchart\" onclick=\"quickchart('df-eaead864-5ee2-45d3-9c19-09968f0536fe')\"\n",
              "            title=\"Suggest charts\"\n",
              "            style=\"display:none;\">\n",
              "\n",
              "<svg xmlns=\"http://www.w3.org/2000/svg\" height=\"24px\"viewBox=\"0 0 24 24\"\n",
              "     width=\"24px\">\n",
              "    <g>\n",
              "        <path d=\"M19 3H5c-1.1 0-2 .9-2 2v14c0 1.1.9 2 2 2h14c1.1 0 2-.9 2-2V5c0-1.1-.9-2-2-2zM9 17H7v-7h2v7zm4 0h-2V7h2v10zm4 0h-2v-4h2v4z\"/>\n",
              "    </g>\n",
              "</svg>\n",
              "  </button>\n",
              "\n",
              "<style>\n",
              "  .colab-df-quickchart {\n",
              "      --bg-color: #E8F0FE;\n",
              "      --fill-color: #1967D2;\n",
              "      --hover-bg-color: #E2EBFA;\n",
              "      --hover-fill-color: #174EA6;\n",
              "      --disabled-fill-color: #AAA;\n",
              "      --disabled-bg-color: #DDD;\n",
              "  }\n",
              "\n",
              "  [theme=dark] .colab-df-quickchart {\n",
              "      --bg-color: #3B4455;\n",
              "      --fill-color: #D2E3FC;\n",
              "      --hover-bg-color: #434B5C;\n",
              "      --hover-fill-color: #FFFFFF;\n",
              "      --disabled-bg-color: #3B4455;\n",
              "      --disabled-fill-color: #666;\n",
              "  }\n",
              "\n",
              "  .colab-df-quickchart {\n",
              "    background-color: var(--bg-color);\n",
              "    border: none;\n",
              "    border-radius: 50%;\n",
              "    cursor: pointer;\n",
              "    display: none;\n",
              "    fill: var(--fill-color);\n",
              "    height: 32px;\n",
              "    padding: 0;\n",
              "    width: 32px;\n",
              "  }\n",
              "\n",
              "  .colab-df-quickchart:hover {\n",
              "    background-color: var(--hover-bg-color);\n",
              "    box-shadow: 0 1px 2px rgba(60, 64, 67, 0.3), 0 1px 3px 1px rgba(60, 64, 67, 0.15);\n",
              "    fill: var(--button-hover-fill-color);\n",
              "  }\n",
              "\n",
              "  .colab-df-quickchart-complete:disabled,\n",
              "  .colab-df-quickchart-complete:disabled:hover {\n",
              "    background-color: var(--disabled-bg-color);\n",
              "    fill: var(--disabled-fill-color);\n",
              "    box-shadow: none;\n",
              "  }\n",
              "\n",
              "  .colab-df-spinner {\n",
              "    border: 2px solid var(--fill-color);\n",
              "    border-color: transparent;\n",
              "    border-bottom-color: var(--fill-color);\n",
              "    animation:\n",
              "      spin 1s steps(1) infinite;\n",
              "  }\n",
              "\n",
              "  @keyframes spin {\n",
              "    0% {\n",
              "      border-color: transparent;\n",
              "      border-bottom-color: var(--fill-color);\n",
              "      border-left-color: var(--fill-color);\n",
              "    }\n",
              "    20% {\n",
              "      border-color: transparent;\n",
              "      border-left-color: var(--fill-color);\n",
              "      border-top-color: var(--fill-color);\n",
              "    }\n",
              "    30% {\n",
              "      border-color: transparent;\n",
              "      border-left-color: var(--fill-color);\n",
              "      border-top-color: var(--fill-color);\n",
              "      border-right-color: var(--fill-color);\n",
              "    }\n",
              "    40% {\n",
              "      border-color: transparent;\n",
              "      border-right-color: var(--fill-color);\n",
              "      border-top-color: var(--fill-color);\n",
              "    }\n",
              "    60% {\n",
              "      border-color: transparent;\n",
              "      border-right-color: var(--fill-color);\n",
              "    }\n",
              "    80% {\n",
              "      border-color: transparent;\n",
              "      border-right-color: var(--fill-color);\n",
              "      border-bottom-color: var(--fill-color);\n",
              "    }\n",
              "    90% {\n",
              "      border-color: transparent;\n",
              "      border-bottom-color: var(--fill-color);\n",
              "    }\n",
              "  }\n",
              "</style>\n",
              "\n",
              "  <script>\n",
              "    async function quickchart(key) {\n",
              "      const quickchartButtonEl =\n",
              "        document.querySelector('#' + key + ' button');\n",
              "      quickchartButtonEl.disabled = true;  // To prevent multiple clicks.\n",
              "      quickchartButtonEl.classList.add('colab-df-spinner');\n",
              "      try {\n",
              "        const charts = await google.colab.kernel.invokeFunction(\n",
              "            'suggestCharts', [key], {});\n",
              "      } catch (error) {\n",
              "        console.error('Error during call to suggestCharts:', error);\n",
              "      }\n",
              "      quickchartButtonEl.classList.remove('colab-df-spinner');\n",
              "      quickchartButtonEl.classList.add('colab-df-quickchart-complete');\n",
              "    }\n",
              "    (() => {\n",
              "      let quickchartButtonEl =\n",
              "        document.querySelector('#df-eaead864-5ee2-45d3-9c19-09968f0536fe button');\n",
              "      quickchartButtonEl.style.display =\n",
              "        google.colab.kernel.accessAllowed ? 'block' : 'none';\n",
              "    })();\n",
              "  </script>\n",
              "</div>\n",
              "\n",
              "    </div>\n",
              "  </div>\n"
            ]
          },
          "metadata": {},
          "execution_count": 3
        }
      ]
    },
    {
      "cell_type": "code",
      "source": [
        "data.info()"
      ],
      "metadata": {
        "colab": {
          "base_uri": "https://localhost:8080/"
        },
        "id": "kx4n9aUObdS1",
        "outputId": "bd432da6-3df3-4627-e000-774bea0a5f8a"
      },
      "execution_count": 4,
      "outputs": [
        {
          "output_type": "stream",
          "name": "stdout",
          "text": [
            "<class 'pandas.core.frame.DataFrame'>\n",
            "RangeIndex: 8807 entries, 0 to 8806\n",
            "Data columns (total 12 columns):\n",
            " #   Column        Non-Null Count  Dtype \n",
            "---  ------        --------------  ----- \n",
            " 0   show_id       8807 non-null   object\n",
            " 1   type          8807 non-null   object\n",
            " 2   title         8807 non-null   object\n",
            " 3   director      6173 non-null   object\n",
            " 4   cast          7982 non-null   object\n",
            " 5   country       7976 non-null   object\n",
            " 6   date_added    8797 non-null   object\n",
            " 7   release_year  8807 non-null   int64 \n",
            " 8   rating        8803 non-null   object\n",
            " 9   duration      8804 non-null   object\n",
            " 10  listed_in     8807 non-null   object\n",
            " 11  description   8807 non-null   object\n",
            "dtypes: int64(1), object(11)\n",
            "memory usage: 825.8+ KB\n"
          ]
        }
      ]
    },
    {
      "cell_type": "markdown",
      "source": [
        "## Dealing with NaN Values"
      ],
      "metadata": {
        "id": "1I4B3u6GU7f5"
      }
    },
    {
      "cell_type": "code",
      "source": [
        "data.nunique()"
      ],
      "metadata": {
        "colab": {
          "base_uri": "https://localhost:8080/"
        },
        "id": "439ZMPC7bdKl",
        "outputId": "2a3f660d-00f2-40d4-ebef-e9c2f5b1f288"
      },
      "execution_count": 5,
      "outputs": [
        {
          "output_type": "execute_result",
          "data": {
            "text/plain": [
              "show_id         8807\n",
              "type               2\n",
              "title           8807\n",
              "director        4528\n",
              "cast            7692\n",
              "country          748\n",
              "date_added      1767\n",
              "release_year      74\n",
              "rating            17\n",
              "duration         220\n",
              "listed_in        514\n",
              "description     8775\n",
              "dtype: int64"
            ]
          },
          "metadata": {},
          "execution_count": 5
        }
      ]
    },
    {
      "cell_type": "code",
      "source": [
        "data.isnull().sum().sort_values()"
      ],
      "metadata": {
        "colab": {
          "base_uri": "https://localhost:8080/"
        },
        "id": "wkRfWFbObdBU",
        "outputId": "067267af-6c79-4557-aebf-96516dce150f"
      },
      "execution_count": 6,
      "outputs": [
        {
          "output_type": "execute_result",
          "data": {
            "text/plain": [
              "show_id            0\n",
              "type               0\n",
              "title              0\n",
              "release_year       0\n",
              "listed_in          0\n",
              "description        0\n",
              "duration           3\n",
              "rating             4\n",
              "date_added        10\n",
              "cast             825\n",
              "country          831\n",
              "director        2634\n",
              "dtype: int64"
            ]
          },
          "metadata": {},
          "execution_count": 6
        }
      ]
    },
    {
      "cell_type": "code",
      "source": [
        "data[data['rating'].isna()]"
      ],
      "metadata": {
        "colab": {
          "base_uri": "https://localhost:8080/",
          "height": 542
        },
        "id": "oKReHzq-bcgk",
        "outputId": "cbb40132-eed3-4979-b473-22e616796adb"
      },
      "execution_count": 7,
      "outputs": [
        {
          "output_type": "execute_result",
          "data": {
            "text/plain": [
              "     show_id     type                                              title  \\\n",
              "5989   s5990    Movie  13TH: A Conversation with Oprah Winfrey & Ava ...   \n",
              "6827   s6828  TV Show                  Gargantia on the Verdurous Planet   \n",
              "7312   s7313  TV Show                                       Little Lunch   \n",
              "7537   s7538    Movie                               My Honor Was Loyalty   \n",
              "\n",
              "             director                                               cast  \\\n",
              "5989              NaN                        Oprah Winfrey, Ava DuVernay   \n",
              "6827              NaN  Kaito Ishikawa, Hisako Kanemoto, Ai Kayano, Ka...   \n",
              "7312              NaN  Flynn Curry, Olivia Deeble, Madison Lu, Oisín ...   \n",
              "7537  Alessandro Pepe  Leone Frisa, Paolo Vaccarino, Francesco Miglio...   \n",
              "\n",
              "        country        date_added  release_year rating  duration  \\\n",
              "5989        NaN  January 26, 2017          2017    NaN    37 min   \n",
              "6827      Japan  December 1, 2016          2013    NaN  1 Season   \n",
              "7312  Australia  February 1, 2018          2015    NaN  1 Season   \n",
              "7537      Italy     March 1, 2017          2015    NaN   115 min   \n",
              "\n",
              "                                 listed_in  \\\n",
              "5989                                Movies   \n",
              "6827  Anime Series, International TV Shows   \n",
              "7312                 Kids' TV, TV Comedies   \n",
              "7537                                Dramas   \n",
              "\n",
              "                                            description  \n",
              "5989  Oprah Winfrey sits down with director Ava DuVe...  \n",
              "6827  After falling through a wormhole, a space-dwel...  \n",
              "7312  Adopting a child's perspective, this show take...  \n",
              "7537  Amid the chaos and horror of World War II, a c...  "
            ],
            "text/html": [
              "\n",
              "  <div id=\"df-07b060d9-9b8b-4c5b-9750-b8fba6c14fc0\" class=\"colab-df-container\">\n",
              "    <div>\n",
              "<style scoped>\n",
              "    .dataframe tbody tr th:only-of-type {\n",
              "        vertical-align: middle;\n",
              "    }\n",
              "\n",
              "    .dataframe tbody tr th {\n",
              "        vertical-align: top;\n",
              "    }\n",
              "\n",
              "    .dataframe thead th {\n",
              "        text-align: right;\n",
              "    }\n",
              "</style>\n",
              "<table border=\"1\" class=\"dataframe\">\n",
              "  <thead>\n",
              "    <tr style=\"text-align: right;\">\n",
              "      <th></th>\n",
              "      <th>show_id</th>\n",
              "      <th>type</th>\n",
              "      <th>title</th>\n",
              "      <th>director</th>\n",
              "      <th>cast</th>\n",
              "      <th>country</th>\n",
              "      <th>date_added</th>\n",
              "      <th>release_year</th>\n",
              "      <th>rating</th>\n",
              "      <th>duration</th>\n",
              "      <th>listed_in</th>\n",
              "      <th>description</th>\n",
              "    </tr>\n",
              "  </thead>\n",
              "  <tbody>\n",
              "    <tr>\n",
              "      <th>5989</th>\n",
              "      <td>s5990</td>\n",
              "      <td>Movie</td>\n",
              "      <td>13TH: A Conversation with Oprah Winfrey &amp; Ava ...</td>\n",
              "      <td>NaN</td>\n",
              "      <td>Oprah Winfrey, Ava DuVernay</td>\n",
              "      <td>NaN</td>\n",
              "      <td>January 26, 2017</td>\n",
              "      <td>2017</td>\n",
              "      <td>NaN</td>\n",
              "      <td>37 min</td>\n",
              "      <td>Movies</td>\n",
              "      <td>Oprah Winfrey sits down with director Ava DuVe...</td>\n",
              "    </tr>\n",
              "    <tr>\n",
              "      <th>6827</th>\n",
              "      <td>s6828</td>\n",
              "      <td>TV Show</td>\n",
              "      <td>Gargantia on the Verdurous Planet</td>\n",
              "      <td>NaN</td>\n",
              "      <td>Kaito Ishikawa, Hisako Kanemoto, Ai Kayano, Ka...</td>\n",
              "      <td>Japan</td>\n",
              "      <td>December 1, 2016</td>\n",
              "      <td>2013</td>\n",
              "      <td>NaN</td>\n",
              "      <td>1 Season</td>\n",
              "      <td>Anime Series, International TV Shows</td>\n",
              "      <td>After falling through a wormhole, a space-dwel...</td>\n",
              "    </tr>\n",
              "    <tr>\n",
              "      <th>7312</th>\n",
              "      <td>s7313</td>\n",
              "      <td>TV Show</td>\n",
              "      <td>Little Lunch</td>\n",
              "      <td>NaN</td>\n",
              "      <td>Flynn Curry, Olivia Deeble, Madison Lu, Oisín ...</td>\n",
              "      <td>Australia</td>\n",
              "      <td>February 1, 2018</td>\n",
              "      <td>2015</td>\n",
              "      <td>NaN</td>\n",
              "      <td>1 Season</td>\n",
              "      <td>Kids' TV, TV Comedies</td>\n",
              "      <td>Adopting a child's perspective, this show take...</td>\n",
              "    </tr>\n",
              "    <tr>\n",
              "      <th>7537</th>\n",
              "      <td>s7538</td>\n",
              "      <td>Movie</td>\n",
              "      <td>My Honor Was Loyalty</td>\n",
              "      <td>Alessandro Pepe</td>\n",
              "      <td>Leone Frisa, Paolo Vaccarino, Francesco Miglio...</td>\n",
              "      <td>Italy</td>\n",
              "      <td>March 1, 2017</td>\n",
              "      <td>2015</td>\n",
              "      <td>NaN</td>\n",
              "      <td>115 min</td>\n",
              "      <td>Dramas</td>\n",
              "      <td>Amid the chaos and horror of World War II, a c...</td>\n",
              "    </tr>\n",
              "  </tbody>\n",
              "</table>\n",
              "</div>\n",
              "    <div class=\"colab-df-buttons\">\n",
              "\n",
              "  <div class=\"colab-df-container\">\n",
              "    <button class=\"colab-df-convert\" onclick=\"convertToInteractive('df-07b060d9-9b8b-4c5b-9750-b8fba6c14fc0')\"\n",
              "            title=\"Convert this dataframe to an interactive table.\"\n",
              "            style=\"display:none;\">\n",
              "\n",
              "  <svg xmlns=\"http://www.w3.org/2000/svg\" height=\"24px\" viewBox=\"0 -960 960 960\">\n",
              "    <path d=\"M120-120v-720h720v720H120Zm60-500h600v-160H180v160Zm220 220h160v-160H400v160Zm0 220h160v-160H400v160ZM180-400h160v-160H180v160Zm440 0h160v-160H620v160ZM180-180h160v-160H180v160Zm440 0h160v-160H620v160Z\"/>\n",
              "  </svg>\n",
              "    </button>\n",
              "\n",
              "  <style>\n",
              "    .colab-df-container {\n",
              "      display:flex;\n",
              "      gap: 12px;\n",
              "    }\n",
              "\n",
              "    .colab-df-convert {\n",
              "      background-color: #E8F0FE;\n",
              "      border: none;\n",
              "      border-radius: 50%;\n",
              "      cursor: pointer;\n",
              "      display: none;\n",
              "      fill: #1967D2;\n",
              "      height: 32px;\n",
              "      padding: 0 0 0 0;\n",
              "      width: 32px;\n",
              "    }\n",
              "\n",
              "    .colab-df-convert:hover {\n",
              "      background-color: #E2EBFA;\n",
              "      box-shadow: 0px 1px 2px rgba(60, 64, 67, 0.3), 0px 1px 3px 1px rgba(60, 64, 67, 0.15);\n",
              "      fill: #174EA6;\n",
              "    }\n",
              "\n",
              "    .colab-df-buttons div {\n",
              "      margin-bottom: 4px;\n",
              "    }\n",
              "\n",
              "    [theme=dark] .colab-df-convert {\n",
              "      background-color: #3B4455;\n",
              "      fill: #D2E3FC;\n",
              "    }\n",
              "\n",
              "    [theme=dark] .colab-df-convert:hover {\n",
              "      background-color: #434B5C;\n",
              "      box-shadow: 0px 1px 3px 1px rgba(0, 0, 0, 0.15);\n",
              "      filter: drop-shadow(0px 1px 2px rgba(0, 0, 0, 0.3));\n",
              "      fill: #FFFFFF;\n",
              "    }\n",
              "  </style>\n",
              "\n",
              "    <script>\n",
              "      const buttonEl =\n",
              "        document.querySelector('#df-07b060d9-9b8b-4c5b-9750-b8fba6c14fc0 button.colab-df-convert');\n",
              "      buttonEl.style.display =\n",
              "        google.colab.kernel.accessAllowed ? 'block' : 'none';\n",
              "\n",
              "      async function convertToInteractive(key) {\n",
              "        const element = document.querySelector('#df-07b060d9-9b8b-4c5b-9750-b8fba6c14fc0');\n",
              "        const dataTable =\n",
              "          await google.colab.kernel.invokeFunction('convertToInteractive',\n",
              "                                                    [key], {});\n",
              "        if (!dataTable) return;\n",
              "\n",
              "        const docLinkHtml = 'Like what you see? Visit the ' +\n",
              "          '<a target=\"_blank\" href=https://colab.research.google.com/notebooks/data_table.ipynb>data table notebook</a>'\n",
              "          + ' to learn more about interactive tables.';\n",
              "        element.innerHTML = '';\n",
              "        dataTable['output_type'] = 'display_data';\n",
              "        await google.colab.output.renderOutput(dataTable, element);\n",
              "        const docLink = document.createElement('div');\n",
              "        docLink.innerHTML = docLinkHtml;\n",
              "        element.appendChild(docLink);\n",
              "      }\n",
              "    </script>\n",
              "  </div>\n",
              "\n",
              "\n",
              "<div id=\"df-9027a527-8eac-4a63-a1c3-ced351b1c306\">\n",
              "  <button class=\"colab-df-quickchart\" onclick=\"quickchart('df-9027a527-8eac-4a63-a1c3-ced351b1c306')\"\n",
              "            title=\"Suggest charts\"\n",
              "            style=\"display:none;\">\n",
              "\n",
              "<svg xmlns=\"http://www.w3.org/2000/svg\" height=\"24px\"viewBox=\"0 0 24 24\"\n",
              "     width=\"24px\">\n",
              "    <g>\n",
              "        <path d=\"M19 3H5c-1.1 0-2 .9-2 2v14c0 1.1.9 2 2 2h14c1.1 0 2-.9 2-2V5c0-1.1-.9-2-2-2zM9 17H7v-7h2v7zm4 0h-2V7h2v10zm4 0h-2v-4h2v4z\"/>\n",
              "    </g>\n",
              "</svg>\n",
              "  </button>\n",
              "\n",
              "<style>\n",
              "  .colab-df-quickchart {\n",
              "      --bg-color: #E8F0FE;\n",
              "      --fill-color: #1967D2;\n",
              "      --hover-bg-color: #E2EBFA;\n",
              "      --hover-fill-color: #174EA6;\n",
              "      --disabled-fill-color: #AAA;\n",
              "      --disabled-bg-color: #DDD;\n",
              "  }\n",
              "\n",
              "  [theme=dark] .colab-df-quickchart {\n",
              "      --bg-color: #3B4455;\n",
              "      --fill-color: #D2E3FC;\n",
              "      --hover-bg-color: #434B5C;\n",
              "      --hover-fill-color: #FFFFFF;\n",
              "      --disabled-bg-color: #3B4455;\n",
              "      --disabled-fill-color: #666;\n",
              "  }\n",
              "\n",
              "  .colab-df-quickchart {\n",
              "    background-color: var(--bg-color);\n",
              "    border: none;\n",
              "    border-radius: 50%;\n",
              "    cursor: pointer;\n",
              "    display: none;\n",
              "    fill: var(--fill-color);\n",
              "    height: 32px;\n",
              "    padding: 0;\n",
              "    width: 32px;\n",
              "  }\n",
              "\n",
              "  .colab-df-quickchart:hover {\n",
              "    background-color: var(--hover-bg-color);\n",
              "    box-shadow: 0 1px 2px rgba(60, 64, 67, 0.3), 0 1px 3px 1px rgba(60, 64, 67, 0.15);\n",
              "    fill: var(--button-hover-fill-color);\n",
              "  }\n",
              "\n",
              "  .colab-df-quickchart-complete:disabled,\n",
              "  .colab-df-quickchart-complete:disabled:hover {\n",
              "    background-color: var(--disabled-bg-color);\n",
              "    fill: var(--disabled-fill-color);\n",
              "    box-shadow: none;\n",
              "  }\n",
              "\n",
              "  .colab-df-spinner {\n",
              "    border: 2px solid var(--fill-color);\n",
              "    border-color: transparent;\n",
              "    border-bottom-color: var(--fill-color);\n",
              "    animation:\n",
              "      spin 1s steps(1) infinite;\n",
              "  }\n",
              "\n",
              "  @keyframes spin {\n",
              "    0% {\n",
              "      border-color: transparent;\n",
              "      border-bottom-color: var(--fill-color);\n",
              "      border-left-color: var(--fill-color);\n",
              "    }\n",
              "    20% {\n",
              "      border-color: transparent;\n",
              "      border-left-color: var(--fill-color);\n",
              "      border-top-color: var(--fill-color);\n",
              "    }\n",
              "    30% {\n",
              "      border-color: transparent;\n",
              "      border-left-color: var(--fill-color);\n",
              "      border-top-color: var(--fill-color);\n",
              "      border-right-color: var(--fill-color);\n",
              "    }\n",
              "    40% {\n",
              "      border-color: transparent;\n",
              "      border-right-color: var(--fill-color);\n",
              "      border-top-color: var(--fill-color);\n",
              "    }\n",
              "    60% {\n",
              "      border-color: transparent;\n",
              "      border-right-color: var(--fill-color);\n",
              "    }\n",
              "    80% {\n",
              "      border-color: transparent;\n",
              "      border-right-color: var(--fill-color);\n",
              "      border-bottom-color: var(--fill-color);\n",
              "    }\n",
              "    90% {\n",
              "      border-color: transparent;\n",
              "      border-bottom-color: var(--fill-color);\n",
              "    }\n",
              "  }\n",
              "</style>\n",
              "\n",
              "  <script>\n",
              "    async function quickchart(key) {\n",
              "      const quickchartButtonEl =\n",
              "        document.querySelector('#' + key + ' button');\n",
              "      quickchartButtonEl.disabled = true;  // To prevent multiple clicks.\n",
              "      quickchartButtonEl.classList.add('colab-df-spinner');\n",
              "      try {\n",
              "        const charts = await google.colab.kernel.invokeFunction(\n",
              "            'suggestCharts', [key], {});\n",
              "      } catch (error) {\n",
              "        console.error('Error during call to suggestCharts:', error);\n",
              "      }\n",
              "      quickchartButtonEl.classList.remove('colab-df-spinner');\n",
              "      quickchartButtonEl.classList.add('colab-df-quickchart-complete');\n",
              "    }\n",
              "    (() => {\n",
              "      let quickchartButtonEl =\n",
              "        document.querySelector('#df-9027a527-8eac-4a63-a1c3-ced351b1c306 button');\n",
              "      quickchartButtonEl.style.display =\n",
              "        google.colab.kernel.accessAllowed ? 'block' : 'none';\n",
              "    })();\n",
              "  </script>\n",
              "</div>\n",
              "\n",
              "    </div>\n",
              "  </div>\n"
            ]
          },
          "metadata": {},
          "execution_count": 7
        }
      ]
    },
    {
      "cell_type": "code",
      "source": [
        "data['rating'].unique()"
      ],
      "metadata": {
        "colab": {
          "base_uri": "https://localhost:8080/"
        },
        "id": "RWeBID3LbcBN",
        "outputId": "3dc686fd-69cb-442f-8e91-01b95e795537"
      },
      "execution_count": 8,
      "outputs": [
        {
          "output_type": "execute_result",
          "data": {
            "text/plain": [
              "array(['PG-13', 'TV-MA', 'PG', 'TV-14', 'TV-PG', 'TV-Y', 'TV-Y7', 'R',\n",
              "       'TV-G', 'G', 'NC-17', '74 min', '84 min', '66 min', 'NR', nan,\n",
              "       'TV-Y7-FV', 'UR'], dtype=object)"
            ]
          },
          "metadata": {},
          "execution_count": 8
        }
      ]
    },
    {
      "cell_type": "code",
      "execution_count": 9,
      "metadata": {
        "id": "3BzbU1LtTguK"
      },
      "outputs": [],
      "source": [
        "data=data[data['rating'].notna()]"
      ]
    },
    {
      "cell_type": "code",
      "source": [
        "data[data['duration'].isna()]"
      ],
      "metadata": {
        "id": "wOgXl-g4ihvL",
        "colab": {
          "base_uri": "https://localhost:8080/",
          "height": 337
        },
        "outputId": "00aa0ecd-25f0-4d14-fb76-3a0f0c468924"
      },
      "execution_count": 10,
      "outputs": [
        {
          "output_type": "execute_result",
          "data": {
            "text/plain": [
              "     show_id   type                                 title    director  \\\n",
              "5541   s5542  Movie                       Louis C.K. 2017  Louis C.K.   \n",
              "5794   s5795  Movie                 Louis C.K.: Hilarious  Louis C.K.   \n",
              "5813   s5814  Movie  Louis C.K.: Live at the Comedy Store  Louis C.K.   \n",
              "\n",
              "            cast        country          date_added  release_year  rating  \\\n",
              "5541  Louis C.K.  United States       April 4, 2017          2017  74 min   \n",
              "5794  Louis C.K.  United States  September 16, 2016          2010  84 min   \n",
              "5813  Louis C.K.  United States     August 15, 2016          2015  66 min   \n",
              "\n",
              "     duration listed_in                                        description  \n",
              "5541      NaN    Movies  Louis C.K. muses on religion, eternal love, gi...  \n",
              "5794      NaN    Movies  Emmy-winning comedy writer Louis C.K. brings h...  \n",
              "5813      NaN    Movies  The comic puts his trademark hilarious/thought...  "
            ],
            "text/html": [
              "\n",
              "  <div id=\"df-28cb0195-0d18-4c46-88a8-352d3d52e2d5\" class=\"colab-df-container\">\n",
              "    <div>\n",
              "<style scoped>\n",
              "    .dataframe tbody tr th:only-of-type {\n",
              "        vertical-align: middle;\n",
              "    }\n",
              "\n",
              "    .dataframe tbody tr th {\n",
              "        vertical-align: top;\n",
              "    }\n",
              "\n",
              "    .dataframe thead th {\n",
              "        text-align: right;\n",
              "    }\n",
              "</style>\n",
              "<table border=\"1\" class=\"dataframe\">\n",
              "  <thead>\n",
              "    <tr style=\"text-align: right;\">\n",
              "      <th></th>\n",
              "      <th>show_id</th>\n",
              "      <th>type</th>\n",
              "      <th>title</th>\n",
              "      <th>director</th>\n",
              "      <th>cast</th>\n",
              "      <th>country</th>\n",
              "      <th>date_added</th>\n",
              "      <th>release_year</th>\n",
              "      <th>rating</th>\n",
              "      <th>duration</th>\n",
              "      <th>listed_in</th>\n",
              "      <th>description</th>\n",
              "    </tr>\n",
              "  </thead>\n",
              "  <tbody>\n",
              "    <tr>\n",
              "      <th>5541</th>\n",
              "      <td>s5542</td>\n",
              "      <td>Movie</td>\n",
              "      <td>Louis C.K. 2017</td>\n",
              "      <td>Louis C.K.</td>\n",
              "      <td>Louis C.K.</td>\n",
              "      <td>United States</td>\n",
              "      <td>April 4, 2017</td>\n",
              "      <td>2017</td>\n",
              "      <td>74 min</td>\n",
              "      <td>NaN</td>\n",
              "      <td>Movies</td>\n",
              "      <td>Louis C.K. muses on religion, eternal love, gi...</td>\n",
              "    </tr>\n",
              "    <tr>\n",
              "      <th>5794</th>\n",
              "      <td>s5795</td>\n",
              "      <td>Movie</td>\n",
              "      <td>Louis C.K.: Hilarious</td>\n",
              "      <td>Louis C.K.</td>\n",
              "      <td>Louis C.K.</td>\n",
              "      <td>United States</td>\n",
              "      <td>September 16, 2016</td>\n",
              "      <td>2010</td>\n",
              "      <td>84 min</td>\n",
              "      <td>NaN</td>\n",
              "      <td>Movies</td>\n",
              "      <td>Emmy-winning comedy writer Louis C.K. brings h...</td>\n",
              "    </tr>\n",
              "    <tr>\n",
              "      <th>5813</th>\n",
              "      <td>s5814</td>\n",
              "      <td>Movie</td>\n",
              "      <td>Louis C.K.: Live at the Comedy Store</td>\n",
              "      <td>Louis C.K.</td>\n",
              "      <td>Louis C.K.</td>\n",
              "      <td>United States</td>\n",
              "      <td>August 15, 2016</td>\n",
              "      <td>2015</td>\n",
              "      <td>66 min</td>\n",
              "      <td>NaN</td>\n",
              "      <td>Movies</td>\n",
              "      <td>The comic puts his trademark hilarious/thought...</td>\n",
              "    </tr>\n",
              "  </tbody>\n",
              "</table>\n",
              "</div>\n",
              "    <div class=\"colab-df-buttons\">\n",
              "\n",
              "  <div class=\"colab-df-container\">\n",
              "    <button class=\"colab-df-convert\" onclick=\"convertToInteractive('df-28cb0195-0d18-4c46-88a8-352d3d52e2d5')\"\n",
              "            title=\"Convert this dataframe to an interactive table.\"\n",
              "            style=\"display:none;\">\n",
              "\n",
              "  <svg xmlns=\"http://www.w3.org/2000/svg\" height=\"24px\" viewBox=\"0 -960 960 960\">\n",
              "    <path d=\"M120-120v-720h720v720H120Zm60-500h600v-160H180v160Zm220 220h160v-160H400v160Zm0 220h160v-160H400v160ZM180-400h160v-160H180v160Zm440 0h160v-160H620v160ZM180-180h160v-160H180v160Zm440 0h160v-160H620v160Z\"/>\n",
              "  </svg>\n",
              "    </button>\n",
              "\n",
              "  <style>\n",
              "    .colab-df-container {\n",
              "      display:flex;\n",
              "      gap: 12px;\n",
              "    }\n",
              "\n",
              "    .colab-df-convert {\n",
              "      background-color: #E8F0FE;\n",
              "      border: none;\n",
              "      border-radius: 50%;\n",
              "      cursor: pointer;\n",
              "      display: none;\n",
              "      fill: #1967D2;\n",
              "      height: 32px;\n",
              "      padding: 0 0 0 0;\n",
              "      width: 32px;\n",
              "    }\n",
              "\n",
              "    .colab-df-convert:hover {\n",
              "      background-color: #E2EBFA;\n",
              "      box-shadow: 0px 1px 2px rgba(60, 64, 67, 0.3), 0px 1px 3px 1px rgba(60, 64, 67, 0.15);\n",
              "      fill: #174EA6;\n",
              "    }\n",
              "\n",
              "    .colab-df-buttons div {\n",
              "      margin-bottom: 4px;\n",
              "    }\n",
              "\n",
              "    [theme=dark] .colab-df-convert {\n",
              "      background-color: #3B4455;\n",
              "      fill: #D2E3FC;\n",
              "    }\n",
              "\n",
              "    [theme=dark] .colab-df-convert:hover {\n",
              "      background-color: #434B5C;\n",
              "      box-shadow: 0px 1px 3px 1px rgba(0, 0, 0, 0.15);\n",
              "      filter: drop-shadow(0px 1px 2px rgba(0, 0, 0, 0.3));\n",
              "      fill: #FFFFFF;\n",
              "    }\n",
              "  </style>\n",
              "\n",
              "    <script>\n",
              "      const buttonEl =\n",
              "        document.querySelector('#df-28cb0195-0d18-4c46-88a8-352d3d52e2d5 button.colab-df-convert');\n",
              "      buttonEl.style.display =\n",
              "        google.colab.kernel.accessAllowed ? 'block' : 'none';\n",
              "\n",
              "      async function convertToInteractive(key) {\n",
              "        const element = document.querySelector('#df-28cb0195-0d18-4c46-88a8-352d3d52e2d5');\n",
              "        const dataTable =\n",
              "          await google.colab.kernel.invokeFunction('convertToInteractive',\n",
              "                                                    [key], {});\n",
              "        if (!dataTable) return;\n",
              "\n",
              "        const docLinkHtml = 'Like what you see? Visit the ' +\n",
              "          '<a target=\"_blank\" href=https://colab.research.google.com/notebooks/data_table.ipynb>data table notebook</a>'\n",
              "          + ' to learn more about interactive tables.';\n",
              "        element.innerHTML = '';\n",
              "        dataTable['output_type'] = 'display_data';\n",
              "        await google.colab.output.renderOutput(dataTable, element);\n",
              "        const docLink = document.createElement('div');\n",
              "        docLink.innerHTML = docLinkHtml;\n",
              "        element.appendChild(docLink);\n",
              "      }\n",
              "    </script>\n",
              "  </div>\n",
              "\n",
              "\n",
              "<div id=\"df-17adaa46-3140-4db4-a64f-c89f37a025e8\">\n",
              "  <button class=\"colab-df-quickchart\" onclick=\"quickchart('df-17adaa46-3140-4db4-a64f-c89f37a025e8')\"\n",
              "            title=\"Suggest charts\"\n",
              "            style=\"display:none;\">\n",
              "\n",
              "<svg xmlns=\"http://www.w3.org/2000/svg\" height=\"24px\"viewBox=\"0 0 24 24\"\n",
              "     width=\"24px\">\n",
              "    <g>\n",
              "        <path d=\"M19 3H5c-1.1 0-2 .9-2 2v14c0 1.1.9 2 2 2h14c1.1 0 2-.9 2-2V5c0-1.1-.9-2-2-2zM9 17H7v-7h2v7zm4 0h-2V7h2v10zm4 0h-2v-4h2v4z\"/>\n",
              "    </g>\n",
              "</svg>\n",
              "  </button>\n",
              "\n",
              "<style>\n",
              "  .colab-df-quickchart {\n",
              "      --bg-color: #E8F0FE;\n",
              "      --fill-color: #1967D2;\n",
              "      --hover-bg-color: #E2EBFA;\n",
              "      --hover-fill-color: #174EA6;\n",
              "      --disabled-fill-color: #AAA;\n",
              "      --disabled-bg-color: #DDD;\n",
              "  }\n",
              "\n",
              "  [theme=dark] .colab-df-quickchart {\n",
              "      --bg-color: #3B4455;\n",
              "      --fill-color: #D2E3FC;\n",
              "      --hover-bg-color: #434B5C;\n",
              "      --hover-fill-color: #FFFFFF;\n",
              "      --disabled-bg-color: #3B4455;\n",
              "      --disabled-fill-color: #666;\n",
              "  }\n",
              "\n",
              "  .colab-df-quickchart {\n",
              "    background-color: var(--bg-color);\n",
              "    border: none;\n",
              "    border-radius: 50%;\n",
              "    cursor: pointer;\n",
              "    display: none;\n",
              "    fill: var(--fill-color);\n",
              "    height: 32px;\n",
              "    padding: 0;\n",
              "    width: 32px;\n",
              "  }\n",
              "\n",
              "  .colab-df-quickchart:hover {\n",
              "    background-color: var(--hover-bg-color);\n",
              "    box-shadow: 0 1px 2px rgba(60, 64, 67, 0.3), 0 1px 3px 1px rgba(60, 64, 67, 0.15);\n",
              "    fill: var(--button-hover-fill-color);\n",
              "  }\n",
              "\n",
              "  .colab-df-quickchart-complete:disabled,\n",
              "  .colab-df-quickchart-complete:disabled:hover {\n",
              "    background-color: var(--disabled-bg-color);\n",
              "    fill: var(--disabled-fill-color);\n",
              "    box-shadow: none;\n",
              "  }\n",
              "\n",
              "  .colab-df-spinner {\n",
              "    border: 2px solid var(--fill-color);\n",
              "    border-color: transparent;\n",
              "    border-bottom-color: var(--fill-color);\n",
              "    animation:\n",
              "      spin 1s steps(1) infinite;\n",
              "  }\n",
              "\n",
              "  @keyframes spin {\n",
              "    0% {\n",
              "      border-color: transparent;\n",
              "      border-bottom-color: var(--fill-color);\n",
              "      border-left-color: var(--fill-color);\n",
              "    }\n",
              "    20% {\n",
              "      border-color: transparent;\n",
              "      border-left-color: var(--fill-color);\n",
              "      border-top-color: var(--fill-color);\n",
              "    }\n",
              "    30% {\n",
              "      border-color: transparent;\n",
              "      border-left-color: var(--fill-color);\n",
              "      border-top-color: var(--fill-color);\n",
              "      border-right-color: var(--fill-color);\n",
              "    }\n",
              "    40% {\n",
              "      border-color: transparent;\n",
              "      border-right-color: var(--fill-color);\n",
              "      border-top-color: var(--fill-color);\n",
              "    }\n",
              "    60% {\n",
              "      border-color: transparent;\n",
              "      border-right-color: var(--fill-color);\n",
              "    }\n",
              "    80% {\n",
              "      border-color: transparent;\n",
              "      border-right-color: var(--fill-color);\n",
              "      border-bottom-color: var(--fill-color);\n",
              "    }\n",
              "    90% {\n",
              "      border-color: transparent;\n",
              "      border-bottom-color: var(--fill-color);\n",
              "    }\n",
              "  }\n",
              "</style>\n",
              "\n",
              "  <script>\n",
              "    async function quickchart(key) {\n",
              "      const quickchartButtonEl =\n",
              "        document.querySelector('#' + key + ' button');\n",
              "      quickchartButtonEl.disabled = true;  // To prevent multiple clicks.\n",
              "      quickchartButtonEl.classList.add('colab-df-spinner');\n",
              "      try {\n",
              "        const charts = await google.colab.kernel.invokeFunction(\n",
              "            'suggestCharts', [key], {});\n",
              "      } catch (error) {\n",
              "        console.error('Error during call to suggestCharts:', error);\n",
              "      }\n",
              "      quickchartButtonEl.classList.remove('colab-df-spinner');\n",
              "      quickchartButtonEl.classList.add('colab-df-quickchart-complete');\n",
              "    }\n",
              "    (() => {\n",
              "      let quickchartButtonEl =\n",
              "        document.querySelector('#df-17adaa46-3140-4db4-a64f-c89f37a025e8 button');\n",
              "      quickchartButtonEl.style.display =\n",
              "        google.colab.kernel.accessAllowed ? 'block' : 'none';\n",
              "    })();\n",
              "  </script>\n",
              "</div>\n",
              "\n",
              "    </div>\n",
              "  </div>\n"
            ]
          },
          "metadata": {},
          "execution_count": 10
        }
      ]
    },
    {
      "cell_type": "code",
      "source": [
        "data['duration'] = data['duration'].fillna(data['rating'])"
      ],
      "metadata": {
        "id": "ZuG11S7DXAxp"
      },
      "execution_count": 11,
      "outputs": []
    },
    {
      "cell_type": "code",
      "source": [
        "data[data['duration'].isna()]"
      ],
      "metadata": {
        "colab": {
          "base_uri": "https://localhost:8080/",
          "height": 73
        },
        "id": "GD75BZJznGXN",
        "outputId": "0253139a-3f67-4143-86d8-ed891feff791"
      },
      "execution_count": 12,
      "outputs": [
        {
          "output_type": "execute_result",
          "data": {
            "text/plain": [
              "Empty DataFrame\n",
              "Columns: [show_id, type, title, director, cast, country, date_added, release_year, rating, duration, listed_in, description]\n",
              "Index: []"
            ],
            "text/html": [
              "\n",
              "  <div id=\"df-373c20a0-cbd1-48be-852f-8dc13c153083\" class=\"colab-df-container\">\n",
              "    <div>\n",
              "<style scoped>\n",
              "    .dataframe tbody tr th:only-of-type {\n",
              "        vertical-align: middle;\n",
              "    }\n",
              "\n",
              "    .dataframe tbody tr th {\n",
              "        vertical-align: top;\n",
              "    }\n",
              "\n",
              "    .dataframe thead th {\n",
              "        text-align: right;\n",
              "    }\n",
              "</style>\n",
              "<table border=\"1\" class=\"dataframe\">\n",
              "  <thead>\n",
              "    <tr style=\"text-align: right;\">\n",
              "      <th></th>\n",
              "      <th>show_id</th>\n",
              "      <th>type</th>\n",
              "      <th>title</th>\n",
              "      <th>director</th>\n",
              "      <th>cast</th>\n",
              "      <th>country</th>\n",
              "      <th>date_added</th>\n",
              "      <th>release_year</th>\n",
              "      <th>rating</th>\n",
              "      <th>duration</th>\n",
              "      <th>listed_in</th>\n",
              "      <th>description</th>\n",
              "    </tr>\n",
              "  </thead>\n",
              "  <tbody>\n",
              "  </tbody>\n",
              "</table>\n",
              "</div>\n",
              "    <div class=\"colab-df-buttons\">\n",
              "\n",
              "  <div class=\"colab-df-container\">\n",
              "    <button class=\"colab-df-convert\" onclick=\"convertToInteractive('df-373c20a0-cbd1-48be-852f-8dc13c153083')\"\n",
              "            title=\"Convert this dataframe to an interactive table.\"\n",
              "            style=\"display:none;\">\n",
              "\n",
              "  <svg xmlns=\"http://www.w3.org/2000/svg\" height=\"24px\" viewBox=\"0 -960 960 960\">\n",
              "    <path d=\"M120-120v-720h720v720H120Zm60-500h600v-160H180v160Zm220 220h160v-160H400v160Zm0 220h160v-160H400v160ZM180-400h160v-160H180v160Zm440 0h160v-160H620v160ZM180-180h160v-160H180v160Zm440 0h160v-160H620v160Z\"/>\n",
              "  </svg>\n",
              "    </button>\n",
              "\n",
              "  <style>\n",
              "    .colab-df-container {\n",
              "      display:flex;\n",
              "      gap: 12px;\n",
              "    }\n",
              "\n",
              "    .colab-df-convert {\n",
              "      background-color: #E8F0FE;\n",
              "      border: none;\n",
              "      border-radius: 50%;\n",
              "      cursor: pointer;\n",
              "      display: none;\n",
              "      fill: #1967D2;\n",
              "      height: 32px;\n",
              "      padding: 0 0 0 0;\n",
              "      width: 32px;\n",
              "    }\n",
              "\n",
              "    .colab-df-convert:hover {\n",
              "      background-color: #E2EBFA;\n",
              "      box-shadow: 0px 1px 2px rgba(60, 64, 67, 0.3), 0px 1px 3px 1px rgba(60, 64, 67, 0.15);\n",
              "      fill: #174EA6;\n",
              "    }\n",
              "\n",
              "    .colab-df-buttons div {\n",
              "      margin-bottom: 4px;\n",
              "    }\n",
              "\n",
              "    [theme=dark] .colab-df-convert {\n",
              "      background-color: #3B4455;\n",
              "      fill: #D2E3FC;\n",
              "    }\n",
              "\n",
              "    [theme=dark] .colab-df-convert:hover {\n",
              "      background-color: #434B5C;\n",
              "      box-shadow: 0px 1px 3px 1px rgba(0, 0, 0, 0.15);\n",
              "      filter: drop-shadow(0px 1px 2px rgba(0, 0, 0, 0.3));\n",
              "      fill: #FFFFFF;\n",
              "    }\n",
              "  </style>\n",
              "\n",
              "    <script>\n",
              "      const buttonEl =\n",
              "        document.querySelector('#df-373c20a0-cbd1-48be-852f-8dc13c153083 button.colab-df-convert');\n",
              "      buttonEl.style.display =\n",
              "        google.colab.kernel.accessAllowed ? 'block' : 'none';\n",
              "\n",
              "      async function convertToInteractive(key) {\n",
              "        const element = document.querySelector('#df-373c20a0-cbd1-48be-852f-8dc13c153083');\n",
              "        const dataTable =\n",
              "          await google.colab.kernel.invokeFunction('convertToInteractive',\n",
              "                                                    [key], {});\n",
              "        if (!dataTable) return;\n",
              "\n",
              "        const docLinkHtml = 'Like what you see? Visit the ' +\n",
              "          '<a target=\"_blank\" href=https://colab.research.google.com/notebooks/data_table.ipynb>data table notebook</a>'\n",
              "          + ' to learn more about interactive tables.';\n",
              "        element.innerHTML = '';\n",
              "        dataTable['output_type'] = 'display_data';\n",
              "        await google.colab.output.renderOutput(dataTable, element);\n",
              "        const docLink = document.createElement('div');\n",
              "        docLink.innerHTML = docLinkHtml;\n",
              "        element.appendChild(docLink);\n",
              "      }\n",
              "    </script>\n",
              "  </div>\n",
              "\n",
              "\n",
              "    </div>\n",
              "  </div>\n"
            ]
          },
          "metadata": {},
          "execution_count": 12
        }
      ]
    },
    {
      "cell_type": "code",
      "source": [
        "data.at[5541,'rating']=data['rating'].mode()[0]\n",
        "data.at[5794,'rating']=data['rating'].mode()[0]\n",
        "data.at[5813,'rating']=data['rating'].mode()[0]"
      ],
      "metadata": {
        "id": "SpSW-mp8nVYy"
      },
      "execution_count": 13,
      "outputs": []
    },
    {
      "cell_type": "code",
      "source": [
        "data.groupby('type')['country'].agg(pd.Series.mode)"
      ],
      "metadata": {
        "colab": {
          "base_uri": "https://localhost:8080/"
        },
        "id": "ZDjRko7KoJoc",
        "outputId": "f2548758-5092-4b0a-8eaa-173c9814a526"
      },
      "execution_count": 14,
      "outputs": [
        {
          "output_type": "execute_result",
          "data": {
            "text/plain": [
              "type\n",
              "Movie      United States\n",
              "TV Show    United States\n",
              "Name: country, dtype: object"
            ]
          },
          "metadata": {},
          "execution_count": 14
        }
      ]
    },
    {
      "cell_type": "code",
      "source": [
        "data['country']=data['country'].fillna(data['country'].mode()[0])"
      ],
      "metadata": {
        "id": "YD_5Z8QToJf0"
      },
      "execution_count": 15,
      "outputs": []
    },
    {
      "cell_type": "code",
      "source": [
        "data=data[data['date_added'].notna()]"
      ],
      "metadata": {
        "id": "jeKjNWLMoJXv"
      },
      "execution_count": 16,
      "outputs": []
    },
    {
      "cell_type": "code",
      "source": [
        "data=data.drop(columns=['cast','director'])"
      ],
      "metadata": {
        "id": "DIZQA6I3rvC1"
      },
      "execution_count": 17,
      "outputs": []
    },
    {
      "cell_type": "code",
      "source": [
        "data.isnull().sum().sort_values()"
      ],
      "metadata": {
        "colab": {
          "base_uri": "https://localhost:8080/"
        },
        "id": "CFsDF6fRoJQi",
        "outputId": "186e4427-56f3-4815-fe08-e01d5e872aff"
      },
      "execution_count": 18,
      "outputs": [
        {
          "output_type": "execute_result",
          "data": {
            "text/plain": [
              "show_id         0\n",
              "type            0\n",
              "title           0\n",
              "country         0\n",
              "date_added      0\n",
              "release_year    0\n",
              "rating          0\n",
              "duration        0\n",
              "listed_in       0\n",
              "description     0\n",
              "dtype: int64"
            ]
          },
          "metadata": {},
          "execution_count": 18
        }
      ]
    },
    {
      "cell_type": "code",
      "source": [
        "data[['duration', 'min']] = data['duration'].str.split(expand=True, n=1)"
      ],
      "metadata": {
        "id": "pp6kdiOwoI1k"
      },
      "execution_count": 19,
      "outputs": []
    },
    {
      "cell_type": "code",
      "source": [
        "data['duration']=pd.to_numeric(data['duration'],errors='coerce')"
      ],
      "metadata": {
        "id": "mMuSTTLkoIif"
      },
      "execution_count": 20,
      "outputs": []
    },
    {
      "cell_type": "code",
      "source": [
        "data.groupby('min')['duration'].mean()"
      ],
      "metadata": {
        "colab": {
          "base_uri": "https://localhost:8080/"
        },
        "id": "Zm7_oiYxniwX",
        "outputId": "9cee933d-8076-42f5-bcaf-c66dfd498797"
      },
      "execution_count": 21,
      "outputs": [
        {
          "output_type": "execute_result",
          "data": {
            "text/plain": [
              "min\n",
              "Season      1.000000\n",
              "Seasons     3.294387\n",
              "min        99.572687\n",
              "Name: duration, dtype: float64"
            ]
          },
          "metadata": {},
          "execution_count": 21
        }
      ]
    },
    {
      "cell_type": "code",
      "source": [
        "data['year_added']=data['date_added'].apply(lambda x : x.split(' ')[-1])\n",
        "data['year_added'].head()"
      ],
      "metadata": {
        "colab": {
          "base_uri": "https://localhost:8080/"
        },
        "id": "6x2RZD7T5itf",
        "outputId": "b396684d-7f5f-445b-c8ee-0fcb5ae6a702"
      },
      "execution_count": 22,
      "outputs": [
        {
          "output_type": "execute_result",
          "data": {
            "text/plain": [
              "0    2021\n",
              "1    2021\n",
              "2    2021\n",
              "3    2021\n",
              "4    2021\n",
              "Name: year_added, dtype: object"
            ]
          },
          "metadata": {},
          "execution_count": 22
        }
      ]
    },
    {
      "cell_type": "code",
      "source": [
        "data['month_added']=data['date_added'].apply(lambda x : x.split(' ')[0])\n",
        "data['month_added']"
      ],
      "metadata": {
        "colab": {
          "base_uri": "https://localhost:8080/"
        },
        "id": "WSXRWE_b5ile",
        "outputId": "9b5ff202-2c8a-4163-ef97-1fb8f9d94f8d"
      },
      "execution_count": 23,
      "outputs": [
        {
          "output_type": "execute_result",
          "data": {
            "text/plain": [
              "0       September\n",
              "1       September\n",
              "2       September\n",
              "3       September\n",
              "4       September\n",
              "          ...    \n",
              "8802     November\n",
              "8803         July\n",
              "8804     November\n",
              "8805      January\n",
              "8806        March\n",
              "Name: month_added, Length: 8793, dtype: object"
            ]
          },
          "metadata": {},
          "execution_count": 23
        }
      ]
    },
    {
      "cell_type": "code",
      "source": [
        "ratings_ages = {\n",
        "    'TV-PG': 'Older Kids',\n",
        "    'TV-MA': 'Adults',\n",
        "    'TV-Y7-FV': 'Older Kids',\n",
        "    'TV-Y7': 'Older Kids',\n",
        "    'TV-14': 'Teens',\n",
        "    'R': 'Adults',\n",
        "    'TV-Y': 'Kids',\n",
        "    'NR': 'Adults',\n",
        "    'PG-13': 'Teens',\n",
        "    'TV-G': 'Kids',\n",
        "    'PG': 'Older Kids',\n",
        "    'G': 'Kids',\n",
        "    'UR': 'Adults',\n",
        "    'NC-17': 'Adults'\n",
        "}"
      ],
      "metadata": {
        "id": "HKYcpyKD5ido"
      },
      "execution_count": 24,
      "outputs": []
    },
    {
      "cell_type": "code",
      "source": [
        "data['targets_age']=data['rating'].replace(ratings_ages)\n",
        "data['targets_age'].unique()"
      ],
      "metadata": {
        "colab": {
          "base_uri": "https://localhost:8080/"
        },
        "id": "1flErTVj5iVz",
        "outputId": "baf10ef0-7ea7-431f-a84f-f7bc94e77725"
      },
      "execution_count": 25,
      "outputs": [
        {
          "output_type": "execute_result",
          "data": {
            "text/plain": [
              "array(['Teens', 'Adults', 'Older Kids', 'Kids'], dtype=object)"
            ]
          },
          "metadata": {},
          "execution_count": 25
        }
      ]
    },
    {
      "cell_type": "code",
      "source": [
        "data['prinsipal_country']=data['country'].apply(lambda x : x.split(',')[0])\n",
        "data['prinsipal_country'].head()"
      ],
      "metadata": {
        "colab": {
          "base_uri": "https://localhost:8080/"
        },
        "id": "_m2EefSt5iLB",
        "outputId": "6cd820cd-865f-4431-926f-7c1d83f14666"
      },
      "execution_count": 26,
      "outputs": [
        {
          "output_type": "execute_result",
          "data": {
            "text/plain": [
              "0    United States\n",
              "1     South Africa\n",
              "2    United States\n",
              "3    United States\n",
              "4            India\n",
              "Name: prinsipal_country, dtype: object"
            ]
          },
          "metadata": {},
          "execution_count": 26
        }
      ]
    },
    {
      "cell_type": "code",
      "source": [
        "data['type']=pd.Categorical(data['type'])"
      ],
      "metadata": {
        "id": "bZRh99n-5iCe"
      },
      "execution_count": 27,
      "outputs": []
    },
    {
      "cell_type": "code",
      "source": [
        "data['targets_age']=pd.Categorical(data['targets_age'],categories=['Kids', 'Older Kids', 'Teens', 'Adults'])\n",
        "data['year_added']=pd.to_numeric(data['year_added'])"
      ],
      "metadata": {
        "id": "PeC9sGaKYjdm"
      },
      "execution_count": 28,
      "outputs": []
    },
    {
      "cell_type": "code",
      "source": [
        "data.dtypes"
      ],
      "metadata": {
        "id": "ZouubvdSYjUI",
        "colab": {
          "base_uri": "https://localhost:8080/"
        },
        "outputId": "7f6a5970-341c-4b9d-b8f4-fe98d4cdfc1c"
      },
      "execution_count": 29,
      "outputs": [
        {
          "output_type": "execute_result",
          "data": {
            "text/plain": [
              "show_id                object\n",
              "type                 category\n",
              "title                  object\n",
              "country                object\n",
              "date_added             object\n",
              "release_year            int64\n",
              "rating                 object\n",
              "duration                int64\n",
              "listed_in              object\n",
              "description            object\n",
              "min                    object\n",
              "year_added              int64\n",
              "month_added            object\n",
              "targets_age          category\n",
              "prinsipal_country      object\n",
              "dtype: object"
            ]
          },
          "metadata": {},
          "execution_count": 29
        }
      ]
    },
    {
      "cell_type": "code",
      "source": [
        "data.head()"
      ],
      "metadata": {
        "id": "1WiJuIr7Yip2",
        "colab": {
          "base_uri": "https://localhost:8080/",
          "height": 538
        },
        "outputId": "d2e7a46d-11f2-4af5-c4ab-c09dadd9ca30"
      },
      "execution_count": 30,
      "outputs": [
        {
          "output_type": "execute_result",
          "data": {
            "text/plain": [
              "  show_id     type                  title        country          date_added  \\\n",
              "0      s1    Movie   Dick Johnson Is Dead  United States  September 25, 2021   \n",
              "1      s2  TV Show          Blood & Water   South Africa  September 24, 2021   \n",
              "2      s3  TV Show              Ganglands  United States  September 24, 2021   \n",
              "3      s4  TV Show  Jailbirds New Orleans  United States  September 24, 2021   \n",
              "4      s5  TV Show           Kota Factory          India  September 24, 2021   \n",
              "\n",
              "   release_year rating  duration  \\\n",
              "0          2020  PG-13        90   \n",
              "1          2021  TV-MA         2   \n",
              "2          2021  TV-MA         1   \n",
              "3          2021  TV-MA         1   \n",
              "4          2021  TV-MA         2   \n",
              "\n",
              "                                           listed_in  \\\n",
              "0                                      Documentaries   \n",
              "1    International TV Shows, TV Dramas, TV Mysteries   \n",
              "2  Crime TV Shows, International TV Shows, TV Act...   \n",
              "3                             Docuseries, Reality TV   \n",
              "4  International TV Shows, Romantic TV Shows, TV ...   \n",
              "\n",
              "                                         description      min  year_added  \\\n",
              "0  As her father nears the end of his life, filmm...      min        2021   \n",
              "1  After crossing paths at a party, a Cape Town t...  Seasons        2021   \n",
              "2  To protect his family from a powerful drug lor...   Season        2021   \n",
              "3  Feuds, flirtations and toilet talk go down amo...   Season        2021   \n",
              "4  In a city of coaching centers known to train I...  Seasons        2021   \n",
              "\n",
              "  month_added targets_age prinsipal_country  \n",
              "0   September       Teens     United States  \n",
              "1   September      Adults      South Africa  \n",
              "2   September      Adults     United States  \n",
              "3   September      Adults     United States  \n",
              "4   September      Adults             India  "
            ],
            "text/html": [
              "\n",
              "  <div id=\"df-b9d6ee39-8a61-4c08-b14d-a36dac7af606\" class=\"colab-df-container\">\n",
              "    <div>\n",
              "<style scoped>\n",
              "    .dataframe tbody tr th:only-of-type {\n",
              "        vertical-align: middle;\n",
              "    }\n",
              "\n",
              "    .dataframe tbody tr th {\n",
              "        vertical-align: top;\n",
              "    }\n",
              "\n",
              "    .dataframe thead th {\n",
              "        text-align: right;\n",
              "    }\n",
              "</style>\n",
              "<table border=\"1\" class=\"dataframe\">\n",
              "  <thead>\n",
              "    <tr style=\"text-align: right;\">\n",
              "      <th></th>\n",
              "      <th>show_id</th>\n",
              "      <th>type</th>\n",
              "      <th>title</th>\n",
              "      <th>country</th>\n",
              "      <th>date_added</th>\n",
              "      <th>release_year</th>\n",
              "      <th>rating</th>\n",
              "      <th>duration</th>\n",
              "      <th>listed_in</th>\n",
              "      <th>description</th>\n",
              "      <th>min</th>\n",
              "      <th>year_added</th>\n",
              "      <th>month_added</th>\n",
              "      <th>targets_age</th>\n",
              "      <th>prinsipal_country</th>\n",
              "    </tr>\n",
              "  </thead>\n",
              "  <tbody>\n",
              "    <tr>\n",
              "      <th>0</th>\n",
              "      <td>s1</td>\n",
              "      <td>Movie</td>\n",
              "      <td>Dick Johnson Is Dead</td>\n",
              "      <td>United States</td>\n",
              "      <td>September 25, 2021</td>\n",
              "      <td>2020</td>\n",
              "      <td>PG-13</td>\n",
              "      <td>90</td>\n",
              "      <td>Documentaries</td>\n",
              "      <td>As her father nears the end of his life, filmm...</td>\n",
              "      <td>min</td>\n",
              "      <td>2021</td>\n",
              "      <td>September</td>\n",
              "      <td>Teens</td>\n",
              "      <td>United States</td>\n",
              "    </tr>\n",
              "    <tr>\n",
              "      <th>1</th>\n",
              "      <td>s2</td>\n",
              "      <td>TV Show</td>\n",
              "      <td>Blood &amp; Water</td>\n",
              "      <td>South Africa</td>\n",
              "      <td>September 24, 2021</td>\n",
              "      <td>2021</td>\n",
              "      <td>TV-MA</td>\n",
              "      <td>2</td>\n",
              "      <td>International TV Shows, TV Dramas, TV Mysteries</td>\n",
              "      <td>After crossing paths at a party, a Cape Town t...</td>\n",
              "      <td>Seasons</td>\n",
              "      <td>2021</td>\n",
              "      <td>September</td>\n",
              "      <td>Adults</td>\n",
              "      <td>South Africa</td>\n",
              "    </tr>\n",
              "    <tr>\n",
              "      <th>2</th>\n",
              "      <td>s3</td>\n",
              "      <td>TV Show</td>\n",
              "      <td>Ganglands</td>\n",
              "      <td>United States</td>\n",
              "      <td>September 24, 2021</td>\n",
              "      <td>2021</td>\n",
              "      <td>TV-MA</td>\n",
              "      <td>1</td>\n",
              "      <td>Crime TV Shows, International TV Shows, TV Act...</td>\n",
              "      <td>To protect his family from a powerful drug lor...</td>\n",
              "      <td>Season</td>\n",
              "      <td>2021</td>\n",
              "      <td>September</td>\n",
              "      <td>Adults</td>\n",
              "      <td>United States</td>\n",
              "    </tr>\n",
              "    <tr>\n",
              "      <th>3</th>\n",
              "      <td>s4</td>\n",
              "      <td>TV Show</td>\n",
              "      <td>Jailbirds New Orleans</td>\n",
              "      <td>United States</td>\n",
              "      <td>September 24, 2021</td>\n",
              "      <td>2021</td>\n",
              "      <td>TV-MA</td>\n",
              "      <td>1</td>\n",
              "      <td>Docuseries, Reality TV</td>\n",
              "      <td>Feuds, flirtations and toilet talk go down amo...</td>\n",
              "      <td>Season</td>\n",
              "      <td>2021</td>\n",
              "      <td>September</td>\n",
              "      <td>Adults</td>\n",
              "      <td>United States</td>\n",
              "    </tr>\n",
              "    <tr>\n",
              "      <th>4</th>\n",
              "      <td>s5</td>\n",
              "      <td>TV Show</td>\n",
              "      <td>Kota Factory</td>\n",
              "      <td>India</td>\n",
              "      <td>September 24, 2021</td>\n",
              "      <td>2021</td>\n",
              "      <td>TV-MA</td>\n",
              "      <td>2</td>\n",
              "      <td>International TV Shows, Romantic TV Shows, TV ...</td>\n",
              "      <td>In a city of coaching centers known to train I...</td>\n",
              "      <td>Seasons</td>\n",
              "      <td>2021</td>\n",
              "      <td>September</td>\n",
              "      <td>Adults</td>\n",
              "      <td>India</td>\n",
              "    </tr>\n",
              "  </tbody>\n",
              "</table>\n",
              "</div>\n",
              "    <div class=\"colab-df-buttons\">\n",
              "\n",
              "  <div class=\"colab-df-container\">\n",
              "    <button class=\"colab-df-convert\" onclick=\"convertToInteractive('df-b9d6ee39-8a61-4c08-b14d-a36dac7af606')\"\n",
              "            title=\"Convert this dataframe to an interactive table.\"\n",
              "            style=\"display:none;\">\n",
              "\n",
              "  <svg xmlns=\"http://www.w3.org/2000/svg\" height=\"24px\" viewBox=\"0 -960 960 960\">\n",
              "    <path d=\"M120-120v-720h720v720H120Zm60-500h600v-160H180v160Zm220 220h160v-160H400v160Zm0 220h160v-160H400v160ZM180-400h160v-160H180v160Zm440 0h160v-160H620v160ZM180-180h160v-160H180v160Zm440 0h160v-160H620v160Z\"/>\n",
              "  </svg>\n",
              "    </button>\n",
              "\n",
              "  <style>\n",
              "    .colab-df-container {\n",
              "      display:flex;\n",
              "      gap: 12px;\n",
              "    }\n",
              "\n",
              "    .colab-df-convert {\n",
              "      background-color: #E8F0FE;\n",
              "      border: none;\n",
              "      border-radius: 50%;\n",
              "      cursor: pointer;\n",
              "      display: none;\n",
              "      fill: #1967D2;\n",
              "      height: 32px;\n",
              "      padding: 0 0 0 0;\n",
              "      width: 32px;\n",
              "    }\n",
              "\n",
              "    .colab-df-convert:hover {\n",
              "      background-color: #E2EBFA;\n",
              "      box-shadow: 0px 1px 2px rgba(60, 64, 67, 0.3), 0px 1px 3px 1px rgba(60, 64, 67, 0.15);\n",
              "      fill: #174EA6;\n",
              "    }\n",
              "\n",
              "    .colab-df-buttons div {\n",
              "      margin-bottom: 4px;\n",
              "    }\n",
              "\n",
              "    [theme=dark] .colab-df-convert {\n",
              "      background-color: #3B4455;\n",
              "      fill: #D2E3FC;\n",
              "    }\n",
              "\n",
              "    [theme=dark] .colab-df-convert:hover {\n",
              "      background-color: #434B5C;\n",
              "      box-shadow: 0px 1px 3px 1px rgba(0, 0, 0, 0.15);\n",
              "      filter: drop-shadow(0px 1px 2px rgba(0, 0, 0, 0.3));\n",
              "      fill: #FFFFFF;\n",
              "    }\n",
              "  </style>\n",
              "\n",
              "    <script>\n",
              "      const buttonEl =\n",
              "        document.querySelector('#df-b9d6ee39-8a61-4c08-b14d-a36dac7af606 button.colab-df-convert');\n",
              "      buttonEl.style.display =\n",
              "        google.colab.kernel.accessAllowed ? 'block' : 'none';\n",
              "\n",
              "      async function convertToInteractive(key) {\n",
              "        const element = document.querySelector('#df-b9d6ee39-8a61-4c08-b14d-a36dac7af606');\n",
              "        const dataTable =\n",
              "          await google.colab.kernel.invokeFunction('convertToInteractive',\n",
              "                                                    [key], {});\n",
              "        if (!dataTable) return;\n",
              "\n",
              "        const docLinkHtml = 'Like what you see? Visit the ' +\n",
              "          '<a target=\"_blank\" href=https://colab.research.google.com/notebooks/data_table.ipynb>data table notebook</a>'\n",
              "          + ' to learn more about interactive tables.';\n",
              "        element.innerHTML = '';\n",
              "        dataTable['output_type'] = 'display_data';\n",
              "        await google.colab.output.renderOutput(dataTable, element);\n",
              "        const docLink = document.createElement('div');\n",
              "        docLink.innerHTML = docLinkHtml;\n",
              "        element.appendChild(docLink);\n",
              "      }\n",
              "    </script>\n",
              "  </div>\n",
              "\n",
              "\n",
              "<div id=\"df-0b1e9185-fe93-4529-801d-14a356abf003\">\n",
              "  <button class=\"colab-df-quickchart\" onclick=\"quickchart('df-0b1e9185-fe93-4529-801d-14a356abf003')\"\n",
              "            title=\"Suggest charts\"\n",
              "            style=\"display:none;\">\n",
              "\n",
              "<svg xmlns=\"http://www.w3.org/2000/svg\" height=\"24px\"viewBox=\"0 0 24 24\"\n",
              "     width=\"24px\">\n",
              "    <g>\n",
              "        <path d=\"M19 3H5c-1.1 0-2 .9-2 2v14c0 1.1.9 2 2 2h14c1.1 0 2-.9 2-2V5c0-1.1-.9-2-2-2zM9 17H7v-7h2v7zm4 0h-2V7h2v10zm4 0h-2v-4h2v4z\"/>\n",
              "    </g>\n",
              "</svg>\n",
              "  </button>\n",
              "\n",
              "<style>\n",
              "  .colab-df-quickchart {\n",
              "      --bg-color: #E8F0FE;\n",
              "      --fill-color: #1967D2;\n",
              "      --hover-bg-color: #E2EBFA;\n",
              "      --hover-fill-color: #174EA6;\n",
              "      --disabled-fill-color: #AAA;\n",
              "      --disabled-bg-color: #DDD;\n",
              "  }\n",
              "\n",
              "  [theme=dark] .colab-df-quickchart {\n",
              "      --bg-color: #3B4455;\n",
              "      --fill-color: #D2E3FC;\n",
              "      --hover-bg-color: #434B5C;\n",
              "      --hover-fill-color: #FFFFFF;\n",
              "      --disabled-bg-color: #3B4455;\n",
              "      --disabled-fill-color: #666;\n",
              "  }\n",
              "\n",
              "  .colab-df-quickchart {\n",
              "    background-color: var(--bg-color);\n",
              "    border: none;\n",
              "    border-radius: 50%;\n",
              "    cursor: pointer;\n",
              "    display: none;\n",
              "    fill: var(--fill-color);\n",
              "    height: 32px;\n",
              "    padding: 0;\n",
              "    width: 32px;\n",
              "  }\n",
              "\n",
              "  .colab-df-quickchart:hover {\n",
              "    background-color: var(--hover-bg-color);\n",
              "    box-shadow: 0 1px 2px rgba(60, 64, 67, 0.3), 0 1px 3px 1px rgba(60, 64, 67, 0.15);\n",
              "    fill: var(--button-hover-fill-color);\n",
              "  }\n",
              "\n",
              "  .colab-df-quickchart-complete:disabled,\n",
              "  .colab-df-quickchart-complete:disabled:hover {\n",
              "    background-color: var(--disabled-bg-color);\n",
              "    fill: var(--disabled-fill-color);\n",
              "    box-shadow: none;\n",
              "  }\n",
              "\n",
              "  .colab-df-spinner {\n",
              "    border: 2px solid var(--fill-color);\n",
              "    border-color: transparent;\n",
              "    border-bottom-color: var(--fill-color);\n",
              "    animation:\n",
              "      spin 1s steps(1) infinite;\n",
              "  }\n",
              "\n",
              "  @keyframes spin {\n",
              "    0% {\n",
              "      border-color: transparent;\n",
              "      border-bottom-color: var(--fill-color);\n",
              "      border-left-color: var(--fill-color);\n",
              "    }\n",
              "    20% {\n",
              "      border-color: transparent;\n",
              "      border-left-color: var(--fill-color);\n",
              "      border-top-color: var(--fill-color);\n",
              "    }\n",
              "    30% {\n",
              "      border-color: transparent;\n",
              "      border-left-color: var(--fill-color);\n",
              "      border-top-color: var(--fill-color);\n",
              "      border-right-color: var(--fill-color);\n",
              "    }\n",
              "    40% {\n",
              "      border-color: transparent;\n",
              "      border-right-color: var(--fill-color);\n",
              "      border-top-color: var(--fill-color);\n",
              "    }\n",
              "    60% {\n",
              "      border-color: transparent;\n",
              "      border-right-color: var(--fill-color);\n",
              "    }\n",
              "    80% {\n",
              "      border-color: transparent;\n",
              "      border-right-color: var(--fill-color);\n",
              "      border-bottom-color: var(--fill-color);\n",
              "    }\n",
              "    90% {\n",
              "      border-color: transparent;\n",
              "      border-bottom-color: var(--fill-color);\n",
              "    }\n",
              "  }\n",
              "</style>\n",
              "\n",
              "  <script>\n",
              "    async function quickchart(key) {\n",
              "      const quickchartButtonEl =\n",
              "        document.querySelector('#' + key + ' button');\n",
              "      quickchartButtonEl.disabled = true;  // To prevent multiple clicks.\n",
              "      quickchartButtonEl.classList.add('colab-df-spinner');\n",
              "      try {\n",
              "        const charts = await google.colab.kernel.invokeFunction(\n",
              "            'suggestCharts', [key], {});\n",
              "      } catch (error) {\n",
              "        console.error('Error during call to suggestCharts:', error);\n",
              "      }\n",
              "      quickchartButtonEl.classList.remove('colab-df-spinner');\n",
              "      quickchartButtonEl.classList.add('colab-df-quickchart-complete');\n",
              "    }\n",
              "    (() => {\n",
              "      let quickchartButtonEl =\n",
              "        document.querySelector('#df-0b1e9185-fe93-4529-801d-14a356abf003 button');\n",
              "      quickchartButtonEl.style.display =\n",
              "        google.colab.kernel.accessAllowed ? 'block' : 'none';\n",
              "    })();\n",
              "  </script>\n",
              "</div>\n",
              "\n",
              "    </div>\n",
              "  </div>\n"
            ]
          },
          "metadata": {},
          "execution_count": 30
        }
      ]
    },
    {
      "cell_type": "code",
      "source": [
        "data['genre']=data['listed_in'].apply(lambda x: x.replace(', ',',').replace(' ,',',').split(','))\n",
        "data['genre'].head()"
      ],
      "metadata": {
        "id": "d34Vpf2ZajQD",
        "colab": {
          "base_uri": "https://localhost:8080/"
        },
        "outputId": "ff123f37-ebb8-4f5c-db0a-fd9658c4c956"
      },
      "execution_count": 31,
      "outputs": [
        {
          "output_type": "execute_result",
          "data": {
            "text/plain": [
              "0                                      [Documentaries]\n",
              "1    [International TV Shows, TV Dramas, TV Mysteries]\n",
              "2    [Crime TV Shows, International TV Shows, TV Ac...\n",
              "3                             [Docuseries, Reality TV]\n",
              "4    [International TV Shows, Romantic TV Shows, TV...\n",
              "Name: genre, dtype: object"
            ]
          },
          "metadata": {},
          "execution_count": 31
        }
      ]
    },
    {
      "cell_type": "code",
      "source": [
        "data_movie=data[data['type']=='Movie']\n",
        "data_show=data[data['type']=='TV Show']"
      ],
      "metadata": {
        "id": "YyRwOP4sBsCW"
      },
      "execution_count": 32,
      "outputs": []
    },
    {
      "cell_type": "code",
      "source": [
        "fig=px.pie(data['type'].value_counts().reset_index(),values='type',names='index')\n",
        "fig.update_traces(textposition='inside',textinfo='percent+label')\n",
        "fig.show()"
      ],
      "metadata": {
        "colab": {
          "base_uri": "https://localhost:8080/",
          "height": 542
        },
        "id": "hFUtMOG2CcL8",
        "outputId": "7e61ff10-d31e-4575-9b47-122e985975f3"
      },
      "execution_count": 33,
      "outputs": [
        {
          "output_type": "display_data",
          "data": {
            "text/html": [
              "<html>\n",
              "<head><meta charset=\"utf-8\" /></head>\n",
              "<body>\n",
              "    <div>            <script src=\"https://cdnjs.cloudflare.com/ajax/libs/mathjax/2.7.5/MathJax.js?config=TeX-AMS-MML_SVG\"></script><script type=\"text/javascript\">if (window.MathJax && window.MathJax.Hub && window.MathJax.Hub.Config) {window.MathJax.Hub.Config({SVG: {font: \"STIX-Web\"}});}</script>                <script type=\"text/javascript\">window.PlotlyConfig = {MathJaxConfig: 'local'};</script>\n",
              "        <script charset=\"utf-8\" src=\"https://cdn.plot.ly/plotly-2.24.1.min.js\"></script>                <div id=\"32ac3e36-e6cf-4c9f-90f5-fc0e2cf4abde\" class=\"plotly-graph-div\" style=\"height:525px; width:100%;\"></div>            <script type=\"text/javascript\">                                    window.PLOTLYENV=window.PLOTLYENV || {};                                    if (document.getElementById(\"32ac3e36-e6cf-4c9f-90f5-fc0e2cf4abde\")) {                    Plotly.newPlot(                        \"32ac3e36-e6cf-4c9f-90f5-fc0e2cf4abde\",                        [{\"domain\":{\"x\":[0.0,1.0],\"y\":[0.0,1.0]},\"hovertemplate\":\"index=%{label}\\u003cbr\\u003etype=%{value}\\u003cextra\\u003e\\u003c\\u002fextra\\u003e\",\"labels\":[\"Movie\",\"TV Show\"],\"legendgroup\":\"\",\"name\":\"\",\"showlegend\":true,\"values\":[6129,2664],\"type\":\"pie\",\"textinfo\":\"percent+label\",\"textposition\":\"inside\"}],                        {\"template\":{\"data\":{\"histogram2dcontour\":[{\"type\":\"histogram2dcontour\",\"colorbar\":{\"outlinewidth\":0,\"ticks\":\"\"},\"colorscale\":[[0.0,\"#0d0887\"],[0.1111111111111111,\"#46039f\"],[0.2222222222222222,\"#7201a8\"],[0.3333333333333333,\"#9c179e\"],[0.4444444444444444,\"#bd3786\"],[0.5555555555555556,\"#d8576b\"],[0.6666666666666666,\"#ed7953\"],[0.7777777777777778,\"#fb9f3a\"],[0.8888888888888888,\"#fdca26\"],[1.0,\"#f0f921\"]]}],\"choropleth\":[{\"type\":\"choropleth\",\"colorbar\":{\"outlinewidth\":0,\"ticks\":\"\"}}],\"histogram2d\":[{\"type\":\"histogram2d\",\"colorbar\":{\"outlinewidth\":0,\"ticks\":\"\"},\"colorscale\":[[0.0,\"#0d0887\"],[0.1111111111111111,\"#46039f\"],[0.2222222222222222,\"#7201a8\"],[0.3333333333333333,\"#9c179e\"],[0.4444444444444444,\"#bd3786\"],[0.5555555555555556,\"#d8576b\"],[0.6666666666666666,\"#ed7953\"],[0.7777777777777778,\"#fb9f3a\"],[0.8888888888888888,\"#fdca26\"],[1.0,\"#f0f921\"]]}],\"heatmap\":[{\"type\":\"heatmap\",\"colorbar\":{\"outlinewidth\":0,\"ticks\":\"\"},\"colorscale\":[[0.0,\"#0d0887\"],[0.1111111111111111,\"#46039f\"],[0.2222222222222222,\"#7201a8\"],[0.3333333333333333,\"#9c179e\"],[0.4444444444444444,\"#bd3786\"],[0.5555555555555556,\"#d8576b\"],[0.6666666666666666,\"#ed7953\"],[0.7777777777777778,\"#fb9f3a\"],[0.8888888888888888,\"#fdca26\"],[1.0,\"#f0f921\"]]}],\"heatmapgl\":[{\"type\":\"heatmapgl\",\"colorbar\":{\"outlinewidth\":0,\"ticks\":\"\"},\"colorscale\":[[0.0,\"#0d0887\"],[0.1111111111111111,\"#46039f\"],[0.2222222222222222,\"#7201a8\"],[0.3333333333333333,\"#9c179e\"],[0.4444444444444444,\"#bd3786\"],[0.5555555555555556,\"#d8576b\"],[0.6666666666666666,\"#ed7953\"],[0.7777777777777778,\"#fb9f3a\"],[0.8888888888888888,\"#fdca26\"],[1.0,\"#f0f921\"]]}],\"contourcarpet\":[{\"type\":\"contourcarpet\",\"colorbar\":{\"outlinewidth\":0,\"ticks\":\"\"}}],\"contour\":[{\"type\":\"contour\",\"colorbar\":{\"outlinewidth\":0,\"ticks\":\"\"},\"colorscale\":[[0.0,\"#0d0887\"],[0.1111111111111111,\"#46039f\"],[0.2222222222222222,\"#7201a8\"],[0.3333333333333333,\"#9c179e\"],[0.4444444444444444,\"#bd3786\"],[0.5555555555555556,\"#d8576b\"],[0.6666666666666666,\"#ed7953\"],[0.7777777777777778,\"#fb9f3a\"],[0.8888888888888888,\"#fdca26\"],[1.0,\"#f0f921\"]]}],\"surface\":[{\"type\":\"surface\",\"colorbar\":{\"outlinewidth\":0,\"ticks\":\"\"},\"colorscale\":[[0.0,\"#0d0887\"],[0.1111111111111111,\"#46039f\"],[0.2222222222222222,\"#7201a8\"],[0.3333333333333333,\"#9c179e\"],[0.4444444444444444,\"#bd3786\"],[0.5555555555555556,\"#d8576b\"],[0.6666666666666666,\"#ed7953\"],[0.7777777777777778,\"#fb9f3a\"],[0.8888888888888888,\"#fdca26\"],[1.0,\"#f0f921\"]]}],\"mesh3d\":[{\"type\":\"mesh3d\",\"colorbar\":{\"outlinewidth\":0,\"ticks\":\"\"}}],\"scatter\":[{\"fillpattern\":{\"fillmode\":\"overlay\",\"size\":10,\"solidity\":0.2},\"type\":\"scatter\"}],\"parcoords\":[{\"type\":\"parcoords\",\"line\":{\"colorbar\":{\"outlinewidth\":0,\"ticks\":\"\"}}}],\"scatterpolargl\":[{\"type\":\"scatterpolargl\",\"marker\":{\"colorbar\":{\"outlinewidth\":0,\"ticks\":\"\"}}}],\"bar\":[{\"error_x\":{\"color\":\"#2a3f5f\"},\"error_y\":{\"color\":\"#2a3f5f\"},\"marker\":{\"line\":{\"color\":\"#E5ECF6\",\"width\":0.5},\"pattern\":{\"fillmode\":\"overlay\",\"size\":10,\"solidity\":0.2}},\"type\":\"bar\"}],\"scattergeo\":[{\"type\":\"scattergeo\",\"marker\":{\"colorbar\":{\"outlinewidth\":0,\"ticks\":\"\"}}}],\"scatterpolar\":[{\"type\":\"scatterpolar\",\"marker\":{\"colorbar\":{\"outlinewidth\":0,\"ticks\":\"\"}}}],\"histogram\":[{\"marker\":{\"pattern\":{\"fillmode\":\"overlay\",\"size\":10,\"solidity\":0.2}},\"type\":\"histogram\"}],\"scattergl\":[{\"type\":\"scattergl\",\"marker\":{\"colorbar\":{\"outlinewidth\":0,\"ticks\":\"\"}}}],\"scatter3d\":[{\"type\":\"scatter3d\",\"line\":{\"colorbar\":{\"outlinewidth\":0,\"ticks\":\"\"}},\"marker\":{\"colorbar\":{\"outlinewidth\":0,\"ticks\":\"\"}}}],\"scattermapbox\":[{\"type\":\"scattermapbox\",\"marker\":{\"colorbar\":{\"outlinewidth\":0,\"ticks\":\"\"}}}],\"scatterternary\":[{\"type\":\"scatterternary\",\"marker\":{\"colorbar\":{\"outlinewidth\":0,\"ticks\":\"\"}}}],\"scattercarpet\":[{\"type\":\"scattercarpet\",\"marker\":{\"colorbar\":{\"outlinewidth\":0,\"ticks\":\"\"}}}],\"carpet\":[{\"aaxis\":{\"endlinecolor\":\"#2a3f5f\",\"gridcolor\":\"white\",\"linecolor\":\"white\",\"minorgridcolor\":\"white\",\"startlinecolor\":\"#2a3f5f\"},\"baxis\":{\"endlinecolor\":\"#2a3f5f\",\"gridcolor\":\"white\",\"linecolor\":\"white\",\"minorgridcolor\":\"white\",\"startlinecolor\":\"#2a3f5f\"},\"type\":\"carpet\"}],\"table\":[{\"cells\":{\"fill\":{\"color\":\"#EBF0F8\"},\"line\":{\"color\":\"white\"}},\"header\":{\"fill\":{\"color\":\"#C8D4E3\"},\"line\":{\"color\":\"white\"}},\"type\":\"table\"}],\"barpolar\":[{\"marker\":{\"line\":{\"color\":\"#E5ECF6\",\"width\":0.5},\"pattern\":{\"fillmode\":\"overlay\",\"size\":10,\"solidity\":0.2}},\"type\":\"barpolar\"}],\"pie\":[{\"automargin\":true,\"type\":\"pie\"}]},\"layout\":{\"autotypenumbers\":\"strict\",\"colorway\":[\"#636efa\",\"#EF553B\",\"#00cc96\",\"#ab63fa\",\"#FFA15A\",\"#19d3f3\",\"#FF6692\",\"#B6E880\",\"#FF97FF\",\"#FECB52\"],\"font\":{\"color\":\"#2a3f5f\"},\"hovermode\":\"closest\",\"hoverlabel\":{\"align\":\"left\"},\"paper_bgcolor\":\"white\",\"plot_bgcolor\":\"#E5ECF6\",\"polar\":{\"bgcolor\":\"#E5ECF6\",\"angularaxis\":{\"gridcolor\":\"white\",\"linecolor\":\"white\",\"ticks\":\"\"},\"radialaxis\":{\"gridcolor\":\"white\",\"linecolor\":\"white\",\"ticks\":\"\"}},\"ternary\":{\"bgcolor\":\"#E5ECF6\",\"aaxis\":{\"gridcolor\":\"white\",\"linecolor\":\"white\",\"ticks\":\"\"},\"baxis\":{\"gridcolor\":\"white\",\"linecolor\":\"white\",\"ticks\":\"\"},\"caxis\":{\"gridcolor\":\"white\",\"linecolor\":\"white\",\"ticks\":\"\"}},\"coloraxis\":{\"colorbar\":{\"outlinewidth\":0,\"ticks\":\"\"}},\"colorscale\":{\"sequential\":[[0.0,\"#0d0887\"],[0.1111111111111111,\"#46039f\"],[0.2222222222222222,\"#7201a8\"],[0.3333333333333333,\"#9c179e\"],[0.4444444444444444,\"#bd3786\"],[0.5555555555555556,\"#d8576b\"],[0.6666666666666666,\"#ed7953\"],[0.7777777777777778,\"#fb9f3a\"],[0.8888888888888888,\"#fdca26\"],[1.0,\"#f0f921\"]],\"sequentialminus\":[[0.0,\"#0d0887\"],[0.1111111111111111,\"#46039f\"],[0.2222222222222222,\"#7201a8\"],[0.3333333333333333,\"#9c179e\"],[0.4444444444444444,\"#bd3786\"],[0.5555555555555556,\"#d8576b\"],[0.6666666666666666,\"#ed7953\"],[0.7777777777777778,\"#fb9f3a\"],[0.8888888888888888,\"#fdca26\"],[1.0,\"#f0f921\"]],\"diverging\":[[0,\"#8e0152\"],[0.1,\"#c51b7d\"],[0.2,\"#de77ae\"],[0.3,\"#f1b6da\"],[0.4,\"#fde0ef\"],[0.5,\"#f7f7f7\"],[0.6,\"#e6f5d0\"],[0.7,\"#b8e186\"],[0.8,\"#7fbc41\"],[0.9,\"#4d9221\"],[1,\"#276419\"]]},\"xaxis\":{\"gridcolor\":\"white\",\"linecolor\":\"white\",\"ticks\":\"\",\"title\":{\"standoff\":15},\"zerolinecolor\":\"white\",\"automargin\":true,\"zerolinewidth\":2},\"yaxis\":{\"gridcolor\":\"white\",\"linecolor\":\"white\",\"ticks\":\"\",\"title\":{\"standoff\":15},\"zerolinecolor\":\"white\",\"automargin\":true,\"zerolinewidth\":2},\"scene\":{\"xaxis\":{\"backgroundcolor\":\"#E5ECF6\",\"gridcolor\":\"white\",\"linecolor\":\"white\",\"showbackground\":true,\"ticks\":\"\",\"zerolinecolor\":\"white\",\"gridwidth\":2},\"yaxis\":{\"backgroundcolor\":\"#E5ECF6\",\"gridcolor\":\"white\",\"linecolor\":\"white\",\"showbackground\":true,\"ticks\":\"\",\"zerolinecolor\":\"white\",\"gridwidth\":2},\"zaxis\":{\"backgroundcolor\":\"#E5ECF6\",\"gridcolor\":\"white\",\"linecolor\":\"white\",\"showbackground\":true,\"ticks\":\"\",\"zerolinecolor\":\"white\",\"gridwidth\":2}},\"shapedefaults\":{\"line\":{\"color\":\"#2a3f5f\"}},\"annotationdefaults\":{\"arrowcolor\":\"#2a3f5f\",\"arrowhead\":0,\"arrowwidth\":1},\"geo\":{\"bgcolor\":\"white\",\"landcolor\":\"#E5ECF6\",\"subunitcolor\":\"white\",\"showland\":true,\"showlakes\":true,\"lakecolor\":\"white\"},\"title\":{\"x\":0.05},\"mapbox\":{\"style\":\"light\"}}},\"legend\":{\"tracegroupgap\":0},\"margin\":{\"t\":60}},                        {\"responsive\": true}                    ).then(function(){\n",
              "                            \n",
              "var gd = document.getElementById('32ac3e36-e6cf-4c9f-90f5-fc0e2cf4abde');\n",
              "var x = new MutationObserver(function (mutations, observer) {{\n",
              "        var display = window.getComputedStyle(gd).display;\n",
              "        if (!display || display === 'none') {{\n",
              "            console.log([gd, 'removed!']);\n",
              "            Plotly.purge(gd);\n",
              "            observer.disconnect();\n",
              "        }}\n",
              "}});\n",
              "\n",
              "// Listen for the removal of the full notebook cells\n",
              "var notebookContainer = gd.closest('#notebook-container');\n",
              "if (notebookContainer) {{\n",
              "    x.observe(notebookContainer, {childList: true});\n",
              "}}\n",
              "\n",
              "// Listen for the clearing of the current output cell\n",
              "var outputEl = gd.closest('.output');\n",
              "if (outputEl) {{\n",
              "    x.observe(outputEl, {childList: true});\n",
              "}}\n",
              "\n",
              "                        })                };                            </script>        </div>\n",
              "</body>\n",
              "</html>"
            ]
          },
          "metadata": {}
        }
      ]
    },
    {
      "cell_type": "code",
      "source": [
        "def generete_rating(data):\n",
        "  rating_data=data.groupby(['rating','targets_age']).agg({'show_id':'count'}).reset_index()\n",
        "  rating_data=rating_data[rating_data['show_id']!=0]\n",
        "  rating_data.columns=['rating','targets_age','counts']\n",
        "  rating_data=rating_data.sort_values('targets_age')\n",
        "  return rating_data"
      ],
      "metadata": {
        "id": "iS50eRYdEHme"
      },
      "execution_count": 34,
      "outputs": []
    },
    {
      "cell_type": "code",
      "source": [
        "rating_data=generete_rating(data)\n",
        "fig=px.bar(rating_data,x='rating',y='counts',color='targets_age')\n",
        "fig.show()"
      ],
      "metadata": {
        "colab": {
          "base_uri": "https://localhost:8080/",
          "height": 542
        },
        "id": "8rHdkm6sEHe9",
        "outputId": "a9a2250c-ade9-4fed-81d4-2d7e3a78f844"
      },
      "execution_count": 35,
      "outputs": [
        {
          "output_type": "display_data",
          "data": {
            "text/html": [
              "<html>\n",
              "<head><meta charset=\"utf-8\" /></head>\n",
              "<body>\n",
              "    <div>            <script src=\"https://cdnjs.cloudflare.com/ajax/libs/mathjax/2.7.5/MathJax.js?config=TeX-AMS-MML_SVG\"></script><script type=\"text/javascript\">if (window.MathJax && window.MathJax.Hub && window.MathJax.Hub.Config) {window.MathJax.Hub.Config({SVG: {font: \"STIX-Web\"}});}</script>                <script type=\"text/javascript\">window.PlotlyConfig = {MathJaxConfig: 'local'};</script>\n",
              "        <script charset=\"utf-8\" src=\"https://cdn.plot.ly/plotly-2.24.1.min.js\"></script>                <div id=\"7daa4025-ae34-4995-8579-df2c5310cfb9\" class=\"plotly-graph-div\" style=\"height:525px; width:100%;\"></div>            <script type=\"text/javascript\">                                    window.PLOTLYENV=window.PLOTLYENV || {};                                    if (document.getElementById(\"7daa4025-ae34-4995-8579-df2c5310cfb9\")) {                    Plotly.newPlot(                        \"7daa4025-ae34-4995-8579-df2c5310cfb9\",                        [{\"alignmentgroup\":\"True\",\"hovertemplate\":\"targets_age=Kids\\u003cbr\\u003erating=%{x}\\u003cbr\\u003ecounts=%{y}\\u003cextra\\u003e\\u003c\\u002fextra\\u003e\",\"legendgroup\":\"Kids\",\"marker\":{\"color\":\"#636efa\",\"pattern\":{\"shape\":\"\"}},\"name\":\"Kids\",\"offsetgroup\":\"Kids\",\"orientation\":\"v\",\"showlegend\":true,\"textposition\":\"auto\",\"x\":[\"G\",\"TV-G\",\"TV-Y\"],\"xaxis\":\"x\",\"y\":[41,220,306],\"yaxis\":\"y\",\"type\":\"bar\"},{\"alignmentgroup\":\"True\",\"hovertemplate\":\"targets_age=Older Kids\\u003cbr\\u003erating=%{x}\\u003cbr\\u003ecounts=%{y}\\u003cextra\\u003e\\u003c\\u002fextra\\u003e\",\"legendgroup\":\"Older Kids\",\"marker\":{\"color\":\"#EF553B\",\"pattern\":{\"shape\":\"\"}},\"name\":\"Older Kids\",\"offsetgroup\":\"Older Kids\",\"orientation\":\"v\",\"showlegend\":true,\"textposition\":\"auto\",\"x\":[\"PG\",\"TV-PG\",\"TV-Y7\",\"TV-Y7-FV\"],\"xaxis\":\"x\",\"y\":[287,861,333,6],\"yaxis\":\"y\",\"type\":\"bar\"},{\"alignmentgroup\":\"True\",\"hovertemplate\":\"targets_age=Teens\\u003cbr\\u003erating=%{x}\\u003cbr\\u003ecounts=%{y}\\u003cextra\\u003e\\u003c\\u002fextra\\u003e\",\"legendgroup\":\"Teens\",\"marker\":{\"color\":\"#00cc96\",\"pattern\":{\"shape\":\"\"}},\"name\":\"Teens\",\"offsetgroup\":\"Teens\",\"orientation\":\"v\",\"showlegend\":true,\"textposition\":\"auto\",\"x\":[\"PG-13\",\"TV-14\"],\"xaxis\":\"x\",\"y\":[490,2157],\"yaxis\":\"y\",\"type\":\"bar\"},{\"alignmentgroup\":\"True\",\"hovertemplate\":\"targets_age=Adults\\u003cbr\\u003erating=%{x}\\u003cbr\\u003ecounts=%{y}\\u003cextra\\u003e\\u003c\\u002fextra\\u003e\",\"legendgroup\":\"Adults\",\"marker\":{\"color\":\"#ab63fa\",\"pattern\":{\"shape\":\"\"}},\"name\":\"Adults\",\"offsetgroup\":\"Adults\",\"orientation\":\"v\",\"showlegend\":true,\"textposition\":\"auto\",\"x\":[\"NC-17\",\"NR\",\"R\",\"TV-MA\",\"UR\"],\"xaxis\":\"x\",\"y\":[3,79,799,3208,3],\"yaxis\":\"y\",\"type\":\"bar\"}],                        {\"template\":{\"data\":{\"histogram2dcontour\":[{\"type\":\"histogram2dcontour\",\"colorbar\":{\"outlinewidth\":0,\"ticks\":\"\"},\"colorscale\":[[0.0,\"#0d0887\"],[0.1111111111111111,\"#46039f\"],[0.2222222222222222,\"#7201a8\"],[0.3333333333333333,\"#9c179e\"],[0.4444444444444444,\"#bd3786\"],[0.5555555555555556,\"#d8576b\"],[0.6666666666666666,\"#ed7953\"],[0.7777777777777778,\"#fb9f3a\"],[0.8888888888888888,\"#fdca26\"],[1.0,\"#f0f921\"]]}],\"choropleth\":[{\"type\":\"choropleth\",\"colorbar\":{\"outlinewidth\":0,\"ticks\":\"\"}}],\"histogram2d\":[{\"type\":\"histogram2d\",\"colorbar\":{\"outlinewidth\":0,\"ticks\":\"\"},\"colorscale\":[[0.0,\"#0d0887\"],[0.1111111111111111,\"#46039f\"],[0.2222222222222222,\"#7201a8\"],[0.3333333333333333,\"#9c179e\"],[0.4444444444444444,\"#bd3786\"],[0.5555555555555556,\"#d8576b\"],[0.6666666666666666,\"#ed7953\"],[0.7777777777777778,\"#fb9f3a\"],[0.8888888888888888,\"#fdca26\"],[1.0,\"#f0f921\"]]}],\"heatmap\":[{\"type\":\"heatmap\",\"colorbar\":{\"outlinewidth\":0,\"ticks\":\"\"},\"colorscale\":[[0.0,\"#0d0887\"],[0.1111111111111111,\"#46039f\"],[0.2222222222222222,\"#7201a8\"],[0.3333333333333333,\"#9c179e\"],[0.4444444444444444,\"#bd3786\"],[0.5555555555555556,\"#d8576b\"],[0.6666666666666666,\"#ed7953\"],[0.7777777777777778,\"#fb9f3a\"],[0.8888888888888888,\"#fdca26\"],[1.0,\"#f0f921\"]]}],\"heatmapgl\":[{\"type\":\"heatmapgl\",\"colorbar\":{\"outlinewidth\":0,\"ticks\":\"\"},\"colorscale\":[[0.0,\"#0d0887\"],[0.1111111111111111,\"#46039f\"],[0.2222222222222222,\"#7201a8\"],[0.3333333333333333,\"#9c179e\"],[0.4444444444444444,\"#bd3786\"],[0.5555555555555556,\"#d8576b\"],[0.6666666666666666,\"#ed7953\"],[0.7777777777777778,\"#fb9f3a\"],[0.8888888888888888,\"#fdca26\"],[1.0,\"#f0f921\"]]}],\"contourcarpet\":[{\"type\":\"contourcarpet\",\"colorbar\":{\"outlinewidth\":0,\"ticks\":\"\"}}],\"contour\":[{\"type\":\"contour\",\"colorbar\":{\"outlinewidth\":0,\"ticks\":\"\"},\"colorscale\":[[0.0,\"#0d0887\"],[0.1111111111111111,\"#46039f\"],[0.2222222222222222,\"#7201a8\"],[0.3333333333333333,\"#9c179e\"],[0.4444444444444444,\"#bd3786\"],[0.5555555555555556,\"#d8576b\"],[0.6666666666666666,\"#ed7953\"],[0.7777777777777778,\"#fb9f3a\"],[0.8888888888888888,\"#fdca26\"],[1.0,\"#f0f921\"]]}],\"surface\":[{\"type\":\"surface\",\"colorbar\":{\"outlinewidth\":0,\"ticks\":\"\"},\"colorscale\":[[0.0,\"#0d0887\"],[0.1111111111111111,\"#46039f\"],[0.2222222222222222,\"#7201a8\"],[0.3333333333333333,\"#9c179e\"],[0.4444444444444444,\"#bd3786\"],[0.5555555555555556,\"#d8576b\"],[0.6666666666666666,\"#ed7953\"],[0.7777777777777778,\"#fb9f3a\"],[0.8888888888888888,\"#fdca26\"],[1.0,\"#f0f921\"]]}],\"mesh3d\":[{\"type\":\"mesh3d\",\"colorbar\":{\"outlinewidth\":0,\"ticks\":\"\"}}],\"scatter\":[{\"fillpattern\":{\"fillmode\":\"overlay\",\"size\":10,\"solidity\":0.2},\"type\":\"scatter\"}],\"parcoords\":[{\"type\":\"parcoords\",\"line\":{\"colorbar\":{\"outlinewidth\":0,\"ticks\":\"\"}}}],\"scatterpolargl\":[{\"type\":\"scatterpolargl\",\"marker\":{\"colorbar\":{\"outlinewidth\":0,\"ticks\":\"\"}}}],\"bar\":[{\"error_x\":{\"color\":\"#2a3f5f\"},\"error_y\":{\"color\":\"#2a3f5f\"},\"marker\":{\"line\":{\"color\":\"#E5ECF6\",\"width\":0.5},\"pattern\":{\"fillmode\":\"overlay\",\"size\":10,\"solidity\":0.2}},\"type\":\"bar\"}],\"scattergeo\":[{\"type\":\"scattergeo\",\"marker\":{\"colorbar\":{\"outlinewidth\":0,\"ticks\":\"\"}}}],\"scatterpolar\":[{\"type\":\"scatterpolar\",\"marker\":{\"colorbar\":{\"outlinewidth\":0,\"ticks\":\"\"}}}],\"histogram\":[{\"marker\":{\"pattern\":{\"fillmode\":\"overlay\",\"size\":10,\"solidity\":0.2}},\"type\":\"histogram\"}],\"scattergl\":[{\"type\":\"scattergl\",\"marker\":{\"colorbar\":{\"outlinewidth\":0,\"ticks\":\"\"}}}],\"scatter3d\":[{\"type\":\"scatter3d\",\"line\":{\"colorbar\":{\"outlinewidth\":0,\"ticks\":\"\"}},\"marker\":{\"colorbar\":{\"outlinewidth\":0,\"ticks\":\"\"}}}],\"scattermapbox\":[{\"type\":\"scattermapbox\",\"marker\":{\"colorbar\":{\"outlinewidth\":0,\"ticks\":\"\"}}}],\"scatterternary\":[{\"type\":\"scatterternary\",\"marker\":{\"colorbar\":{\"outlinewidth\":0,\"ticks\":\"\"}}}],\"scattercarpet\":[{\"type\":\"scattercarpet\",\"marker\":{\"colorbar\":{\"outlinewidth\":0,\"ticks\":\"\"}}}],\"carpet\":[{\"aaxis\":{\"endlinecolor\":\"#2a3f5f\",\"gridcolor\":\"white\",\"linecolor\":\"white\",\"minorgridcolor\":\"white\",\"startlinecolor\":\"#2a3f5f\"},\"baxis\":{\"endlinecolor\":\"#2a3f5f\",\"gridcolor\":\"white\",\"linecolor\":\"white\",\"minorgridcolor\":\"white\",\"startlinecolor\":\"#2a3f5f\"},\"type\":\"carpet\"}],\"table\":[{\"cells\":{\"fill\":{\"color\":\"#EBF0F8\"},\"line\":{\"color\":\"white\"}},\"header\":{\"fill\":{\"color\":\"#C8D4E3\"},\"line\":{\"color\":\"white\"}},\"type\":\"table\"}],\"barpolar\":[{\"marker\":{\"line\":{\"color\":\"#E5ECF6\",\"width\":0.5},\"pattern\":{\"fillmode\":\"overlay\",\"size\":10,\"solidity\":0.2}},\"type\":\"barpolar\"}],\"pie\":[{\"automargin\":true,\"type\":\"pie\"}]},\"layout\":{\"autotypenumbers\":\"strict\",\"colorway\":[\"#636efa\",\"#EF553B\",\"#00cc96\",\"#ab63fa\",\"#FFA15A\",\"#19d3f3\",\"#FF6692\",\"#B6E880\",\"#FF97FF\",\"#FECB52\"],\"font\":{\"color\":\"#2a3f5f\"},\"hovermode\":\"closest\",\"hoverlabel\":{\"align\":\"left\"},\"paper_bgcolor\":\"white\",\"plot_bgcolor\":\"#E5ECF6\",\"polar\":{\"bgcolor\":\"#E5ECF6\",\"angularaxis\":{\"gridcolor\":\"white\",\"linecolor\":\"white\",\"ticks\":\"\"},\"radialaxis\":{\"gridcolor\":\"white\",\"linecolor\":\"white\",\"ticks\":\"\"}},\"ternary\":{\"bgcolor\":\"#E5ECF6\",\"aaxis\":{\"gridcolor\":\"white\",\"linecolor\":\"white\",\"ticks\":\"\"},\"baxis\":{\"gridcolor\":\"white\",\"linecolor\":\"white\",\"ticks\":\"\"},\"caxis\":{\"gridcolor\":\"white\",\"linecolor\":\"white\",\"ticks\":\"\"}},\"coloraxis\":{\"colorbar\":{\"outlinewidth\":0,\"ticks\":\"\"}},\"colorscale\":{\"sequential\":[[0.0,\"#0d0887\"],[0.1111111111111111,\"#46039f\"],[0.2222222222222222,\"#7201a8\"],[0.3333333333333333,\"#9c179e\"],[0.4444444444444444,\"#bd3786\"],[0.5555555555555556,\"#d8576b\"],[0.6666666666666666,\"#ed7953\"],[0.7777777777777778,\"#fb9f3a\"],[0.8888888888888888,\"#fdca26\"],[1.0,\"#f0f921\"]],\"sequentialminus\":[[0.0,\"#0d0887\"],[0.1111111111111111,\"#46039f\"],[0.2222222222222222,\"#7201a8\"],[0.3333333333333333,\"#9c179e\"],[0.4444444444444444,\"#bd3786\"],[0.5555555555555556,\"#d8576b\"],[0.6666666666666666,\"#ed7953\"],[0.7777777777777778,\"#fb9f3a\"],[0.8888888888888888,\"#fdca26\"],[1.0,\"#f0f921\"]],\"diverging\":[[0,\"#8e0152\"],[0.1,\"#c51b7d\"],[0.2,\"#de77ae\"],[0.3,\"#f1b6da\"],[0.4,\"#fde0ef\"],[0.5,\"#f7f7f7\"],[0.6,\"#e6f5d0\"],[0.7,\"#b8e186\"],[0.8,\"#7fbc41\"],[0.9,\"#4d9221\"],[1,\"#276419\"]]},\"xaxis\":{\"gridcolor\":\"white\",\"linecolor\":\"white\",\"ticks\":\"\",\"title\":{\"standoff\":15},\"zerolinecolor\":\"white\",\"automargin\":true,\"zerolinewidth\":2},\"yaxis\":{\"gridcolor\":\"white\",\"linecolor\":\"white\",\"ticks\":\"\",\"title\":{\"standoff\":15},\"zerolinecolor\":\"white\",\"automargin\":true,\"zerolinewidth\":2},\"scene\":{\"xaxis\":{\"backgroundcolor\":\"#E5ECF6\",\"gridcolor\":\"white\",\"linecolor\":\"white\",\"showbackground\":true,\"ticks\":\"\",\"zerolinecolor\":\"white\",\"gridwidth\":2},\"yaxis\":{\"backgroundcolor\":\"#E5ECF6\",\"gridcolor\":\"white\",\"linecolor\":\"white\",\"showbackground\":true,\"ticks\":\"\",\"zerolinecolor\":\"white\",\"gridwidth\":2},\"zaxis\":{\"backgroundcolor\":\"#E5ECF6\",\"gridcolor\":\"white\",\"linecolor\":\"white\",\"showbackground\":true,\"ticks\":\"\",\"zerolinecolor\":\"white\",\"gridwidth\":2}},\"shapedefaults\":{\"line\":{\"color\":\"#2a3f5f\"}},\"annotationdefaults\":{\"arrowcolor\":\"#2a3f5f\",\"arrowhead\":0,\"arrowwidth\":1},\"geo\":{\"bgcolor\":\"white\",\"landcolor\":\"#E5ECF6\",\"subunitcolor\":\"white\",\"showland\":true,\"showlakes\":true,\"lakecolor\":\"white\"},\"title\":{\"x\":0.05},\"mapbox\":{\"style\":\"light\"}}},\"xaxis\":{\"anchor\":\"y\",\"domain\":[0.0,1.0],\"title\":{\"text\":\"rating\"}},\"yaxis\":{\"anchor\":\"x\",\"domain\":[0.0,1.0],\"title\":{\"text\":\"counts\"}},\"legend\":{\"title\":{\"text\":\"targets_age\"},\"tracegroupgap\":0},\"margin\":{\"t\":60},\"barmode\":\"relative\"},                        {\"responsive\": true}                    ).then(function(){\n",
              "                            \n",
              "var gd = document.getElementById('7daa4025-ae34-4995-8579-df2c5310cfb9');\n",
              "var x = new MutationObserver(function (mutations, observer) {{\n",
              "        var display = window.getComputedStyle(gd).display;\n",
              "        if (!display || display === 'none') {{\n",
              "            console.log([gd, 'removed!']);\n",
              "            Plotly.purge(gd);\n",
              "            observer.disconnect();\n",
              "        }}\n",
              "}});\n",
              "\n",
              "// Listen for the removal of the full notebook cells\n",
              "var notebookContainer = gd.closest('#notebook-container');\n",
              "if (notebookContainer) {{\n",
              "    x.observe(notebookContainer, {childList: true});\n",
              "}}\n",
              "\n",
              "// Listen for the clearing of the current output cell\n",
              "var outputEl = gd.closest('.output');\n",
              "if (outputEl) {{\n",
              "    x.observe(outputEl, {childList: true});\n",
              "}}\n",
              "\n",
              "                        })                };                            </script>        </div>\n",
              "</body>\n",
              "</html>"
            ]
          },
          "metadata": {}
        }
      ]
    },
    {
      "cell_type": "code",
      "source": [
        "data_movie_rating=generete_rating(data_movie)\n",
        "data_show_rating=generete_rating(data_show)\n",
        "\n",
        "fIg=make_subplots(rows=1,cols=2,specs=[[{\"type\": \"pie\"}, {\"type\": \"pie\"}]])\n",
        "\n",
        "fig.add_trace(go.Pie(labels=data_movie_rating['targets_age'], values=data_movie_rating['counts']), row=1, col=1)\n",
        "\n",
        "fig.add_trace(go.Pie(labels=data_show_rating['targets_age'],values=data_show_rating['counts']),row=1,col=2)\n",
        "\n",
        "fig.update_traces(textposition='inside',hole=0.4,hoverinfo='label+percent+name')\n",
        "fig.update_layout(\n",
        "    title_text='Rating distribution by Type of content',\n",
        "    annotations=[dict(text='Movies',x=0.16,y=0.5,font_size=12,showarrow=False),\n",
        "              dict(text='TV Shows',x=0.82,y=0.5,font_size=12,showarrow=False)])\n",
        "\n",
        "fig.show()"
      ],
      "metadata": {
        "id": "EcUpr9wpEHBp",
        "colab": {
          "base_uri": "https://localhost:8080/",
          "height": 542
        },
        "outputId": "79185de0-2f57-4f8e-9370-42d952599371"
      },
      "execution_count": 37,
      "outputs": [
        {
          "output_type": "display_data",
          "data": {
            "text/html": [
              "<html>\n",
              "<head><meta charset=\"utf-8\" /></head>\n",
              "<body>\n",
              "    <div>            <script src=\"https://cdnjs.cloudflare.com/ajax/libs/mathjax/2.7.5/MathJax.js?config=TeX-AMS-MML_SVG\"></script><script type=\"text/javascript\">if (window.MathJax && window.MathJax.Hub && window.MathJax.Hub.Config) {window.MathJax.Hub.Config({SVG: {font: \"STIX-Web\"}});}</script>                <script type=\"text/javascript\">window.PlotlyConfig = {MathJaxConfig: 'local'};</script>\n",
              "        <script charset=\"utf-8\" src=\"https://cdn.plot.ly/plotly-2.24.1.min.js\"></script>                <div id=\"0dd03604-90f1-42a9-984e-25a64906d8a0\" class=\"plotly-graph-div\" style=\"height:525px; width:100%;\"></div>            <script type=\"text/javascript\">                                    window.PLOTLYENV=window.PLOTLYENV || {};                                    if (document.getElementById(\"0dd03604-90f1-42a9-984e-25a64906d8a0\")) {                    Plotly.newPlot(                        \"0dd03604-90f1-42a9-984e-25a64906d8a0\",                        [{\"labels\":[\"Kids\",\"Kids\",\"Kids\",\"Older Kids\",\"Older Kids\",\"Older Kids\",\"Older Kids\",\"Teens\",\"Teens\",\"Adults\",\"Adults\",\"Adults\",\"Adults\",\"Adults\"],\"values\":[41,126,131,287,540,139,5,490,1427,3,75,797,2065,3],\"type\":\"pie\",\"domain\":{\"x\":[0.0,0.45],\"y\":[0.0,1.0]},\"hole\":0.4,\"hoverinfo\":\"label+percent+name\",\"textposition\":\"inside\"},{\"labels\":[\"Kids\",\"Kids\",\"Older Kids\",\"Older Kids\",\"Older Kids\",\"Teens\",\"Adults\",\"Adults\",\"Adults\"],\"values\":[94,175,321,194,1,730,4,2,1143],\"type\":\"pie\",\"domain\":{\"x\":[0.55,1.0],\"y\":[0.0,1.0]},\"hole\":0.4,\"hoverinfo\":\"label+percent+name\",\"textposition\":\"inside\"}],                        {\"template\":{\"data\":{\"histogram2dcontour\":[{\"type\":\"histogram2dcontour\",\"colorbar\":{\"outlinewidth\":0,\"ticks\":\"\"},\"colorscale\":[[0.0,\"#0d0887\"],[0.1111111111111111,\"#46039f\"],[0.2222222222222222,\"#7201a8\"],[0.3333333333333333,\"#9c179e\"],[0.4444444444444444,\"#bd3786\"],[0.5555555555555556,\"#d8576b\"],[0.6666666666666666,\"#ed7953\"],[0.7777777777777778,\"#fb9f3a\"],[0.8888888888888888,\"#fdca26\"],[1.0,\"#f0f921\"]]}],\"choropleth\":[{\"type\":\"choropleth\",\"colorbar\":{\"outlinewidth\":0,\"ticks\":\"\"}}],\"histogram2d\":[{\"type\":\"histogram2d\",\"colorbar\":{\"outlinewidth\":0,\"ticks\":\"\"},\"colorscale\":[[0.0,\"#0d0887\"],[0.1111111111111111,\"#46039f\"],[0.2222222222222222,\"#7201a8\"],[0.3333333333333333,\"#9c179e\"],[0.4444444444444444,\"#bd3786\"],[0.5555555555555556,\"#d8576b\"],[0.6666666666666666,\"#ed7953\"],[0.7777777777777778,\"#fb9f3a\"],[0.8888888888888888,\"#fdca26\"],[1.0,\"#f0f921\"]]}],\"heatmap\":[{\"type\":\"heatmap\",\"colorbar\":{\"outlinewidth\":0,\"ticks\":\"\"},\"colorscale\":[[0.0,\"#0d0887\"],[0.1111111111111111,\"#46039f\"],[0.2222222222222222,\"#7201a8\"],[0.3333333333333333,\"#9c179e\"],[0.4444444444444444,\"#bd3786\"],[0.5555555555555556,\"#d8576b\"],[0.6666666666666666,\"#ed7953\"],[0.7777777777777778,\"#fb9f3a\"],[0.8888888888888888,\"#fdca26\"],[1.0,\"#f0f921\"]]}],\"heatmapgl\":[{\"type\":\"heatmapgl\",\"colorbar\":{\"outlinewidth\":0,\"ticks\":\"\"},\"colorscale\":[[0.0,\"#0d0887\"],[0.1111111111111111,\"#46039f\"],[0.2222222222222222,\"#7201a8\"],[0.3333333333333333,\"#9c179e\"],[0.4444444444444444,\"#bd3786\"],[0.5555555555555556,\"#d8576b\"],[0.6666666666666666,\"#ed7953\"],[0.7777777777777778,\"#fb9f3a\"],[0.8888888888888888,\"#fdca26\"],[1.0,\"#f0f921\"]]}],\"contourcarpet\":[{\"type\":\"contourcarpet\",\"colorbar\":{\"outlinewidth\":0,\"ticks\":\"\"}}],\"contour\":[{\"type\":\"contour\",\"colorbar\":{\"outlinewidth\":0,\"ticks\":\"\"},\"colorscale\":[[0.0,\"#0d0887\"],[0.1111111111111111,\"#46039f\"],[0.2222222222222222,\"#7201a8\"],[0.3333333333333333,\"#9c179e\"],[0.4444444444444444,\"#bd3786\"],[0.5555555555555556,\"#d8576b\"],[0.6666666666666666,\"#ed7953\"],[0.7777777777777778,\"#fb9f3a\"],[0.8888888888888888,\"#fdca26\"],[1.0,\"#f0f921\"]]}],\"surface\":[{\"type\":\"surface\",\"colorbar\":{\"outlinewidth\":0,\"ticks\":\"\"},\"colorscale\":[[0.0,\"#0d0887\"],[0.1111111111111111,\"#46039f\"],[0.2222222222222222,\"#7201a8\"],[0.3333333333333333,\"#9c179e\"],[0.4444444444444444,\"#bd3786\"],[0.5555555555555556,\"#d8576b\"],[0.6666666666666666,\"#ed7953\"],[0.7777777777777778,\"#fb9f3a\"],[0.8888888888888888,\"#fdca26\"],[1.0,\"#f0f921\"]]}],\"mesh3d\":[{\"type\":\"mesh3d\",\"colorbar\":{\"outlinewidth\":0,\"ticks\":\"\"}}],\"scatter\":[{\"fillpattern\":{\"fillmode\":\"overlay\",\"size\":10,\"solidity\":0.2},\"type\":\"scatter\"}],\"parcoords\":[{\"type\":\"parcoords\",\"line\":{\"colorbar\":{\"outlinewidth\":0,\"ticks\":\"\"}}}],\"scatterpolargl\":[{\"type\":\"scatterpolargl\",\"marker\":{\"colorbar\":{\"outlinewidth\":0,\"ticks\":\"\"}}}],\"bar\":[{\"error_x\":{\"color\":\"#2a3f5f\"},\"error_y\":{\"color\":\"#2a3f5f\"},\"marker\":{\"line\":{\"color\":\"#E5ECF6\",\"width\":0.5},\"pattern\":{\"fillmode\":\"overlay\",\"size\":10,\"solidity\":0.2}},\"type\":\"bar\"}],\"scattergeo\":[{\"type\":\"scattergeo\",\"marker\":{\"colorbar\":{\"outlinewidth\":0,\"ticks\":\"\"}}}],\"scatterpolar\":[{\"type\":\"scatterpolar\",\"marker\":{\"colorbar\":{\"outlinewidth\":0,\"ticks\":\"\"}}}],\"histogram\":[{\"marker\":{\"pattern\":{\"fillmode\":\"overlay\",\"size\":10,\"solidity\":0.2}},\"type\":\"histogram\"}],\"scattergl\":[{\"type\":\"scattergl\",\"marker\":{\"colorbar\":{\"outlinewidth\":0,\"ticks\":\"\"}}}],\"scatter3d\":[{\"type\":\"scatter3d\",\"line\":{\"colorbar\":{\"outlinewidth\":0,\"ticks\":\"\"}},\"marker\":{\"colorbar\":{\"outlinewidth\":0,\"ticks\":\"\"}}}],\"scattermapbox\":[{\"type\":\"scattermapbox\",\"marker\":{\"colorbar\":{\"outlinewidth\":0,\"ticks\":\"\"}}}],\"scatterternary\":[{\"type\":\"scatterternary\",\"marker\":{\"colorbar\":{\"outlinewidth\":0,\"ticks\":\"\"}}}],\"scattercarpet\":[{\"type\":\"scattercarpet\",\"marker\":{\"colorbar\":{\"outlinewidth\":0,\"ticks\":\"\"}}}],\"carpet\":[{\"aaxis\":{\"endlinecolor\":\"#2a3f5f\",\"gridcolor\":\"white\",\"linecolor\":\"white\",\"minorgridcolor\":\"white\",\"startlinecolor\":\"#2a3f5f\"},\"baxis\":{\"endlinecolor\":\"#2a3f5f\",\"gridcolor\":\"white\",\"linecolor\":\"white\",\"minorgridcolor\":\"white\",\"startlinecolor\":\"#2a3f5f\"},\"type\":\"carpet\"}],\"table\":[{\"cells\":{\"fill\":{\"color\":\"#EBF0F8\"},\"line\":{\"color\":\"white\"}},\"header\":{\"fill\":{\"color\":\"#C8D4E3\"},\"line\":{\"color\":\"white\"}},\"type\":\"table\"}],\"barpolar\":[{\"marker\":{\"line\":{\"color\":\"#E5ECF6\",\"width\":0.5},\"pattern\":{\"fillmode\":\"overlay\",\"size\":10,\"solidity\":0.2}},\"type\":\"barpolar\"}],\"pie\":[{\"automargin\":true,\"type\":\"pie\"}]},\"layout\":{\"autotypenumbers\":\"strict\",\"colorway\":[\"#636efa\",\"#EF553B\",\"#00cc96\",\"#ab63fa\",\"#FFA15A\",\"#19d3f3\",\"#FF6692\",\"#B6E880\",\"#FF97FF\",\"#FECB52\"],\"font\":{\"color\":\"#2a3f5f\"},\"hovermode\":\"closest\",\"hoverlabel\":{\"align\":\"left\"},\"paper_bgcolor\":\"white\",\"plot_bgcolor\":\"#E5ECF6\",\"polar\":{\"bgcolor\":\"#E5ECF6\",\"angularaxis\":{\"gridcolor\":\"white\",\"linecolor\":\"white\",\"ticks\":\"\"},\"radialaxis\":{\"gridcolor\":\"white\",\"linecolor\":\"white\",\"ticks\":\"\"}},\"ternary\":{\"bgcolor\":\"#E5ECF6\",\"aaxis\":{\"gridcolor\":\"white\",\"linecolor\":\"white\",\"ticks\":\"\"},\"baxis\":{\"gridcolor\":\"white\",\"linecolor\":\"white\",\"ticks\":\"\"},\"caxis\":{\"gridcolor\":\"white\",\"linecolor\":\"white\",\"ticks\":\"\"}},\"coloraxis\":{\"colorbar\":{\"outlinewidth\":0,\"ticks\":\"\"}},\"colorscale\":{\"sequential\":[[0.0,\"#0d0887\"],[0.1111111111111111,\"#46039f\"],[0.2222222222222222,\"#7201a8\"],[0.3333333333333333,\"#9c179e\"],[0.4444444444444444,\"#bd3786\"],[0.5555555555555556,\"#d8576b\"],[0.6666666666666666,\"#ed7953\"],[0.7777777777777778,\"#fb9f3a\"],[0.8888888888888888,\"#fdca26\"],[1.0,\"#f0f921\"]],\"sequentialminus\":[[0.0,\"#0d0887\"],[0.1111111111111111,\"#46039f\"],[0.2222222222222222,\"#7201a8\"],[0.3333333333333333,\"#9c179e\"],[0.4444444444444444,\"#bd3786\"],[0.5555555555555556,\"#d8576b\"],[0.6666666666666666,\"#ed7953\"],[0.7777777777777778,\"#fb9f3a\"],[0.8888888888888888,\"#fdca26\"],[1.0,\"#f0f921\"]],\"diverging\":[[0,\"#8e0152\"],[0.1,\"#c51b7d\"],[0.2,\"#de77ae\"],[0.3,\"#f1b6da\"],[0.4,\"#fde0ef\"],[0.5,\"#f7f7f7\"],[0.6,\"#e6f5d0\"],[0.7,\"#b8e186\"],[0.8,\"#7fbc41\"],[0.9,\"#4d9221\"],[1,\"#276419\"]]},\"xaxis\":{\"gridcolor\":\"white\",\"linecolor\":\"white\",\"ticks\":\"\",\"title\":{\"standoff\":15},\"zerolinecolor\":\"white\",\"automargin\":true,\"zerolinewidth\":2},\"yaxis\":{\"gridcolor\":\"white\",\"linecolor\":\"white\",\"ticks\":\"\",\"title\":{\"standoff\":15},\"zerolinecolor\":\"white\",\"automargin\":true,\"zerolinewidth\":2},\"scene\":{\"xaxis\":{\"backgroundcolor\":\"#E5ECF6\",\"gridcolor\":\"white\",\"linecolor\":\"white\",\"showbackground\":true,\"ticks\":\"\",\"zerolinecolor\":\"white\",\"gridwidth\":2},\"yaxis\":{\"backgroundcolor\":\"#E5ECF6\",\"gridcolor\":\"white\",\"linecolor\":\"white\",\"showbackground\":true,\"ticks\":\"\",\"zerolinecolor\":\"white\",\"gridwidth\":2},\"zaxis\":{\"backgroundcolor\":\"#E5ECF6\",\"gridcolor\":\"white\",\"linecolor\":\"white\",\"showbackground\":true,\"ticks\":\"\",\"zerolinecolor\":\"white\",\"gridwidth\":2}},\"shapedefaults\":{\"line\":{\"color\":\"#2a3f5f\"}},\"annotationdefaults\":{\"arrowcolor\":\"#2a3f5f\",\"arrowhead\":0,\"arrowwidth\":1},\"geo\":{\"bgcolor\":\"white\",\"landcolor\":\"#E5ECF6\",\"subunitcolor\":\"white\",\"showland\":true,\"showlakes\":true,\"lakecolor\":\"white\"},\"title\":{\"x\":0.05},\"mapbox\":{\"style\":\"light\"}}},\"title\":{\"text\":\"Rating distribution by Type of content\"},\"annotations\":[{\"showarrow\":false,\"text\":\"Movies\",\"x\":0.16,\"y\":0.5,\"font\":{\"size\":12}},{\"showarrow\":false,\"text\":\"TV Shows\",\"x\":0.82,\"y\":0.5,\"font\":{\"size\":12}}]},                        {\"responsive\": true}                    ).then(function(){\n",
              "                            \n",
              "var gd = document.getElementById('0dd03604-90f1-42a9-984e-25a64906d8a0');\n",
              "var x = new MutationObserver(function (mutations, observer) {{\n",
              "        var display = window.getComputedStyle(gd).display;\n",
              "        if (!display || display === 'none') {{\n",
              "            console.log([gd, 'removed!']);\n",
              "            Plotly.purge(gd);\n",
              "            observer.disconnect();\n",
              "        }}\n",
              "}});\n",
              "\n",
              "// Listen for the removal of the full notebook cells\n",
              "var notebookContainer = gd.closest('#notebook-container');\n",
              "if (notebookContainer) {{\n",
              "    x.observe(notebookContainer, {childList: true});\n",
              "}}\n",
              "\n",
              "// Listen for the clearing of the current output cell\n",
              "var outputEl = gd.closest('.output');\n",
              "if (outputEl) {{\n",
              "    x.observe(outputEl, {childList: true});\n",
              "}}\n",
              "\n",
              "                        })                };                            </script>        </div>\n",
              "</body>\n",
              "</html>"
            ]
          },
          "metadata": {}
        }
      ]
    },
    {
      "cell_type": "code",
      "source": [
        "country_data=data['prinsipal_country'].value_counts().reset_index()\n",
        "country_data=country_data[country_data['prinsipal_country']/country_data['prinsipal_country'].sum()>0.01]\n",
        "\n",
        "fig=px.pie(country_data,values='prinsipal_country',names='index')\n",
        "fig.update_traces(textposition='inside',textinfo='percent+label')\n",
        "fig.show()"
      ],
      "metadata": {
        "id": "p3d7ePOGEG5q",
        "colab": {
          "base_uri": "https://localhost:8080/",
          "height": 542
        },
        "outputId": "c52c49f8-08fe-43a0-bd8f-acab2e6c1379"
      },
      "execution_count": 38,
      "outputs": [
        {
          "output_type": "display_data",
          "data": {
            "text/html": [
              "<html>\n",
              "<head><meta charset=\"utf-8\" /></head>\n",
              "<body>\n",
              "    <div>            <script src=\"https://cdnjs.cloudflare.com/ajax/libs/mathjax/2.7.5/MathJax.js?config=TeX-AMS-MML_SVG\"></script><script type=\"text/javascript\">if (window.MathJax && window.MathJax.Hub && window.MathJax.Hub.Config) {window.MathJax.Hub.Config({SVG: {font: \"STIX-Web\"}});}</script>                <script type=\"text/javascript\">window.PlotlyConfig = {MathJaxConfig: 'local'};</script>\n",
              "        <script charset=\"utf-8\" src=\"https://cdn.plot.ly/plotly-2.24.1.min.js\"></script>                <div id=\"ca852121-d2a3-43a3-9997-1905761f8a63\" class=\"plotly-graph-div\" style=\"height:525px; width:100%;\"></div>            <script type=\"text/javascript\">                                    window.PLOTLYENV=window.PLOTLYENV || {};                                    if (document.getElementById(\"ca852121-d2a3-43a3-9997-1905761f8a63\")) {                    Plotly.newPlot(                        \"ca852121-d2a3-43a3-9997-1905761f8a63\",                        [{\"domain\":{\"x\":[0.0,1.0],\"y\":[0.0,1.0]},\"hovertemplate\":\"index=%{label}\\u003cbr\\u003eprinsipal_country=%{value}\\u003cextra\\u003e\\u003c\\u002fextra\\u003e\",\"labels\":[\"United States\",\"India\",\"United Kingdom\",\"Canada\",\"Japan\",\"France\",\"South Korea\",\"Spain\",\"Mexico\",\"Australia\",\"Egypt\",\"Turkey\",\"Germany\",\"China\",\"Nigeria\"],\"legendgroup\":\"\",\"name\":\"\",\"showlegend\":true,\"values\":[4034,1008,627,271,257,212,211,181,134,115,112,111,103,100,96],\"type\":\"pie\",\"textinfo\":\"percent+label\",\"textposition\":\"inside\"}],                        {\"template\":{\"data\":{\"histogram2dcontour\":[{\"type\":\"histogram2dcontour\",\"colorbar\":{\"outlinewidth\":0,\"ticks\":\"\"},\"colorscale\":[[0.0,\"#0d0887\"],[0.1111111111111111,\"#46039f\"],[0.2222222222222222,\"#7201a8\"],[0.3333333333333333,\"#9c179e\"],[0.4444444444444444,\"#bd3786\"],[0.5555555555555556,\"#d8576b\"],[0.6666666666666666,\"#ed7953\"],[0.7777777777777778,\"#fb9f3a\"],[0.8888888888888888,\"#fdca26\"],[1.0,\"#f0f921\"]]}],\"choropleth\":[{\"type\":\"choropleth\",\"colorbar\":{\"outlinewidth\":0,\"ticks\":\"\"}}],\"histogram2d\":[{\"type\":\"histogram2d\",\"colorbar\":{\"outlinewidth\":0,\"ticks\":\"\"},\"colorscale\":[[0.0,\"#0d0887\"],[0.1111111111111111,\"#46039f\"],[0.2222222222222222,\"#7201a8\"],[0.3333333333333333,\"#9c179e\"],[0.4444444444444444,\"#bd3786\"],[0.5555555555555556,\"#d8576b\"],[0.6666666666666666,\"#ed7953\"],[0.7777777777777778,\"#fb9f3a\"],[0.8888888888888888,\"#fdca26\"],[1.0,\"#f0f921\"]]}],\"heatmap\":[{\"type\":\"heatmap\",\"colorbar\":{\"outlinewidth\":0,\"ticks\":\"\"},\"colorscale\":[[0.0,\"#0d0887\"],[0.1111111111111111,\"#46039f\"],[0.2222222222222222,\"#7201a8\"],[0.3333333333333333,\"#9c179e\"],[0.4444444444444444,\"#bd3786\"],[0.5555555555555556,\"#d8576b\"],[0.6666666666666666,\"#ed7953\"],[0.7777777777777778,\"#fb9f3a\"],[0.8888888888888888,\"#fdca26\"],[1.0,\"#f0f921\"]]}],\"heatmapgl\":[{\"type\":\"heatmapgl\",\"colorbar\":{\"outlinewidth\":0,\"ticks\":\"\"},\"colorscale\":[[0.0,\"#0d0887\"],[0.1111111111111111,\"#46039f\"],[0.2222222222222222,\"#7201a8\"],[0.3333333333333333,\"#9c179e\"],[0.4444444444444444,\"#bd3786\"],[0.5555555555555556,\"#d8576b\"],[0.6666666666666666,\"#ed7953\"],[0.7777777777777778,\"#fb9f3a\"],[0.8888888888888888,\"#fdca26\"],[1.0,\"#f0f921\"]]}],\"contourcarpet\":[{\"type\":\"contourcarpet\",\"colorbar\":{\"outlinewidth\":0,\"ticks\":\"\"}}],\"contour\":[{\"type\":\"contour\",\"colorbar\":{\"outlinewidth\":0,\"ticks\":\"\"},\"colorscale\":[[0.0,\"#0d0887\"],[0.1111111111111111,\"#46039f\"],[0.2222222222222222,\"#7201a8\"],[0.3333333333333333,\"#9c179e\"],[0.4444444444444444,\"#bd3786\"],[0.5555555555555556,\"#d8576b\"],[0.6666666666666666,\"#ed7953\"],[0.7777777777777778,\"#fb9f3a\"],[0.8888888888888888,\"#fdca26\"],[1.0,\"#f0f921\"]]}],\"surface\":[{\"type\":\"surface\",\"colorbar\":{\"outlinewidth\":0,\"ticks\":\"\"},\"colorscale\":[[0.0,\"#0d0887\"],[0.1111111111111111,\"#46039f\"],[0.2222222222222222,\"#7201a8\"],[0.3333333333333333,\"#9c179e\"],[0.4444444444444444,\"#bd3786\"],[0.5555555555555556,\"#d8576b\"],[0.6666666666666666,\"#ed7953\"],[0.7777777777777778,\"#fb9f3a\"],[0.8888888888888888,\"#fdca26\"],[1.0,\"#f0f921\"]]}],\"mesh3d\":[{\"type\":\"mesh3d\",\"colorbar\":{\"outlinewidth\":0,\"ticks\":\"\"}}],\"scatter\":[{\"fillpattern\":{\"fillmode\":\"overlay\",\"size\":10,\"solidity\":0.2},\"type\":\"scatter\"}],\"parcoords\":[{\"type\":\"parcoords\",\"line\":{\"colorbar\":{\"outlinewidth\":0,\"ticks\":\"\"}}}],\"scatterpolargl\":[{\"type\":\"scatterpolargl\",\"marker\":{\"colorbar\":{\"outlinewidth\":0,\"ticks\":\"\"}}}],\"bar\":[{\"error_x\":{\"color\":\"#2a3f5f\"},\"error_y\":{\"color\":\"#2a3f5f\"},\"marker\":{\"line\":{\"color\":\"#E5ECF6\",\"width\":0.5},\"pattern\":{\"fillmode\":\"overlay\",\"size\":10,\"solidity\":0.2}},\"type\":\"bar\"}],\"scattergeo\":[{\"type\":\"scattergeo\",\"marker\":{\"colorbar\":{\"outlinewidth\":0,\"ticks\":\"\"}}}],\"scatterpolar\":[{\"type\":\"scatterpolar\",\"marker\":{\"colorbar\":{\"outlinewidth\":0,\"ticks\":\"\"}}}],\"histogram\":[{\"marker\":{\"pattern\":{\"fillmode\":\"overlay\",\"size\":10,\"solidity\":0.2}},\"type\":\"histogram\"}],\"scattergl\":[{\"type\":\"scattergl\",\"marker\":{\"colorbar\":{\"outlinewidth\":0,\"ticks\":\"\"}}}],\"scatter3d\":[{\"type\":\"scatter3d\",\"line\":{\"colorbar\":{\"outlinewidth\":0,\"ticks\":\"\"}},\"marker\":{\"colorbar\":{\"outlinewidth\":0,\"ticks\":\"\"}}}],\"scattermapbox\":[{\"type\":\"scattermapbox\",\"marker\":{\"colorbar\":{\"outlinewidth\":0,\"ticks\":\"\"}}}],\"scatterternary\":[{\"type\":\"scatterternary\",\"marker\":{\"colorbar\":{\"outlinewidth\":0,\"ticks\":\"\"}}}],\"scattercarpet\":[{\"type\":\"scattercarpet\",\"marker\":{\"colorbar\":{\"outlinewidth\":0,\"ticks\":\"\"}}}],\"carpet\":[{\"aaxis\":{\"endlinecolor\":\"#2a3f5f\",\"gridcolor\":\"white\",\"linecolor\":\"white\",\"minorgridcolor\":\"white\",\"startlinecolor\":\"#2a3f5f\"},\"baxis\":{\"endlinecolor\":\"#2a3f5f\",\"gridcolor\":\"white\",\"linecolor\":\"white\",\"minorgridcolor\":\"white\",\"startlinecolor\":\"#2a3f5f\"},\"type\":\"carpet\"}],\"table\":[{\"cells\":{\"fill\":{\"color\":\"#EBF0F8\"},\"line\":{\"color\":\"white\"}},\"header\":{\"fill\":{\"color\":\"#C8D4E3\"},\"line\":{\"color\":\"white\"}},\"type\":\"table\"}],\"barpolar\":[{\"marker\":{\"line\":{\"color\":\"#E5ECF6\",\"width\":0.5},\"pattern\":{\"fillmode\":\"overlay\",\"size\":10,\"solidity\":0.2}},\"type\":\"barpolar\"}],\"pie\":[{\"automargin\":true,\"type\":\"pie\"}]},\"layout\":{\"autotypenumbers\":\"strict\",\"colorway\":[\"#636efa\",\"#EF553B\",\"#00cc96\",\"#ab63fa\",\"#FFA15A\",\"#19d3f3\",\"#FF6692\",\"#B6E880\",\"#FF97FF\",\"#FECB52\"],\"font\":{\"color\":\"#2a3f5f\"},\"hovermode\":\"closest\",\"hoverlabel\":{\"align\":\"left\"},\"paper_bgcolor\":\"white\",\"plot_bgcolor\":\"#E5ECF6\",\"polar\":{\"bgcolor\":\"#E5ECF6\",\"angularaxis\":{\"gridcolor\":\"white\",\"linecolor\":\"white\",\"ticks\":\"\"},\"radialaxis\":{\"gridcolor\":\"white\",\"linecolor\":\"white\",\"ticks\":\"\"}},\"ternary\":{\"bgcolor\":\"#E5ECF6\",\"aaxis\":{\"gridcolor\":\"white\",\"linecolor\":\"white\",\"ticks\":\"\"},\"baxis\":{\"gridcolor\":\"white\",\"linecolor\":\"white\",\"ticks\":\"\"},\"caxis\":{\"gridcolor\":\"white\",\"linecolor\":\"white\",\"ticks\":\"\"}},\"coloraxis\":{\"colorbar\":{\"outlinewidth\":0,\"ticks\":\"\"}},\"colorscale\":{\"sequential\":[[0.0,\"#0d0887\"],[0.1111111111111111,\"#46039f\"],[0.2222222222222222,\"#7201a8\"],[0.3333333333333333,\"#9c179e\"],[0.4444444444444444,\"#bd3786\"],[0.5555555555555556,\"#d8576b\"],[0.6666666666666666,\"#ed7953\"],[0.7777777777777778,\"#fb9f3a\"],[0.8888888888888888,\"#fdca26\"],[1.0,\"#f0f921\"]],\"sequentialminus\":[[0.0,\"#0d0887\"],[0.1111111111111111,\"#46039f\"],[0.2222222222222222,\"#7201a8\"],[0.3333333333333333,\"#9c179e\"],[0.4444444444444444,\"#bd3786\"],[0.5555555555555556,\"#d8576b\"],[0.6666666666666666,\"#ed7953\"],[0.7777777777777778,\"#fb9f3a\"],[0.8888888888888888,\"#fdca26\"],[1.0,\"#f0f921\"]],\"diverging\":[[0,\"#8e0152\"],[0.1,\"#c51b7d\"],[0.2,\"#de77ae\"],[0.3,\"#f1b6da\"],[0.4,\"#fde0ef\"],[0.5,\"#f7f7f7\"],[0.6,\"#e6f5d0\"],[0.7,\"#b8e186\"],[0.8,\"#7fbc41\"],[0.9,\"#4d9221\"],[1,\"#276419\"]]},\"xaxis\":{\"gridcolor\":\"white\",\"linecolor\":\"white\",\"ticks\":\"\",\"title\":{\"standoff\":15},\"zerolinecolor\":\"white\",\"automargin\":true,\"zerolinewidth\":2},\"yaxis\":{\"gridcolor\":\"white\",\"linecolor\":\"white\",\"ticks\":\"\",\"title\":{\"standoff\":15},\"zerolinecolor\":\"white\",\"automargin\":true,\"zerolinewidth\":2},\"scene\":{\"xaxis\":{\"backgroundcolor\":\"#E5ECF6\",\"gridcolor\":\"white\",\"linecolor\":\"white\",\"showbackground\":true,\"ticks\":\"\",\"zerolinecolor\":\"white\",\"gridwidth\":2},\"yaxis\":{\"backgroundcolor\":\"#E5ECF6\",\"gridcolor\":\"white\",\"linecolor\":\"white\",\"showbackground\":true,\"ticks\":\"\",\"zerolinecolor\":\"white\",\"gridwidth\":2},\"zaxis\":{\"backgroundcolor\":\"#E5ECF6\",\"gridcolor\":\"white\",\"linecolor\":\"white\",\"showbackground\":true,\"ticks\":\"\",\"zerolinecolor\":\"white\",\"gridwidth\":2}},\"shapedefaults\":{\"line\":{\"color\":\"#2a3f5f\"}},\"annotationdefaults\":{\"arrowcolor\":\"#2a3f5f\",\"arrowhead\":0,\"arrowwidth\":1},\"geo\":{\"bgcolor\":\"white\",\"landcolor\":\"#E5ECF6\",\"subunitcolor\":\"white\",\"showland\":true,\"showlakes\":true,\"lakecolor\":\"white\"},\"title\":{\"x\":0.05},\"mapbox\":{\"style\":\"light\"}}},\"legend\":{\"tracegroupgap\":0},\"margin\":{\"t\":60}},                        {\"responsive\": true}                    ).then(function(){\n",
              "                            \n",
              "var gd = document.getElementById('ca852121-d2a3-43a3-9997-1905761f8a63');\n",
              "var x = new MutationObserver(function (mutations, observer) {{\n",
              "        var display = window.getComputedStyle(gd).display;\n",
              "        if (!display || display === 'none') {{\n",
              "            console.log([gd, 'removed!']);\n",
              "            Plotly.purge(gd);\n",
              "            observer.disconnect();\n",
              "        }}\n",
              "}});\n",
              "\n",
              "// Listen for the removal of the full notebook cells\n",
              "var notebookContainer = gd.closest('#notebook-container');\n",
              "if (notebookContainer) {{\n",
              "    x.observe(notebookContainer, {childList: true});\n",
              "}}\n",
              "\n",
              "// Listen for the clearing of the current output cell\n",
              "var outputEl = gd.closest('.output');\n",
              "if (outputEl) {{\n",
              "    x.observe(outputEl, {childList: true});\n",
              "}}\n",
              "\n",
              "                        })                };                            </script>        </div>\n",
              "</body>\n",
              "</html>"
            ]
          },
          "metadata": {}
        }
      ]
    },
    {
      "cell_type": "code",
      "source": [
        "fig=px.histogram(data,x='prinsipal_country')\n",
        "\n",
        "fig.update_xaxes(categoryorder='total descending')\n",
        "fig.show()"
      ],
      "metadata": {
        "id": "6Lr6a303EGwX",
        "colab": {
          "base_uri": "https://localhost:8080/",
          "height": 542
        },
        "outputId": "69505d9d-4b20-475f-dcad-fffb78d47565"
      },
      "execution_count": 39,
      "outputs": [
        {
          "output_type": "display_data",
          "data": {
            "text/html": [
              "<html>\n",
              "<head><meta charset=\"utf-8\" /></head>\n",
              "<body>\n",
              "    <div>            <script src=\"https://cdnjs.cloudflare.com/ajax/libs/mathjax/2.7.5/MathJax.js?config=TeX-AMS-MML_SVG\"></script><script type=\"text/javascript\">if (window.MathJax && window.MathJax.Hub && window.MathJax.Hub.Config) {window.MathJax.Hub.Config({SVG: {font: \"STIX-Web\"}});}</script>                <script type=\"text/javascript\">window.PlotlyConfig = {MathJaxConfig: 'local'};</script>\n",
              "        <script charset=\"utf-8\" src=\"https://cdn.plot.ly/plotly-2.24.1.min.js\"></script>                <div id=\"00350526-a68d-4ec1-878c-544e72294f7b\" class=\"plotly-graph-div\" style=\"height:525px; width:100%;\"></div>            <script type=\"text/javascript\">                                    window.PLOTLYENV=window.PLOTLYENV || {};                                    if (document.getElementById(\"00350526-a68d-4ec1-878c-544e72294f7b\")) {                    Plotly.newPlot(                        \"00350526-a68d-4ec1-878c-544e72294f7b\",                        [{\"alignmentgroup\":\"True\",\"bingroup\":\"x\",\"hovertemplate\":\"prinsipal_country=%{x}\\u003cbr\\u003ecount=%{y}\\u003cextra\\u003e\\u003c\\u002fextra\\u003e\",\"legendgroup\":\"\",\"marker\":{\"color\":\"#636efa\",\"pattern\":{\"shape\":\"\"}},\"name\":\"\",\"offsetgroup\":\"\",\"orientation\":\"v\",\"showlegend\":false,\"x\":[\"United States\",\"South Africa\",\"United States\",\"United States\",\"India\",\"United States\",\"United States\",\"United States\",\"United Kingdom\",\"United States\",\"United States\",\"United States\",\"Germany\",\"United States\",\"United States\",\"United States\",\"United States\",\"Mexico\",\"United States\",\"United States\",\"United States\",\"Turkey\",\"United States\",\"United States\",\"India\",\"Australia\",\"United States\",\"United States\",\"United States\",\"United States\",\"United States\",\"United States\",\"United Kingdom\",\"United States\",\"United States\",\"United States\",\"United States\",\"Finland\",\"China\",\"India\",\"United States\",\"United States\",\"United States\",\"United States\",\"United States\",\"United States\",\"South Africa\",\"United States\",\"United States\",\"Nigeria\",\"India\",\"Japan\",\"Japan\",\"Japan\",\"Japan\",\"United States\",\"Japan\",\"Japan\",\"Japan\",\"Japan\",\"Japan\",\"Japan\",\"Japan\",\"Japan\",\"United States\",\"United Kingdom\",\"India\",\"United States\",\"United States\",\"India\",\"United States\",\"United States\",\"United Kingdom\",\"Nigeria\",\"United States\",\"United States\",\"Japan\",\"United States\",\"United States\",\"United States\",\"United States\",\"United States\",\"United States\",\"United States\",\"Nigeria\",\"United States\",\"United States\",\"United States\",\"United States\",\"United States\",\"Spain\",\"France\",\"Belgium\",\"United States\",\"United Kingdom\",\"United States\",\"United States\",\"United States\",\"United Kingdom\",\"France\",\"United States\",\"United States\",\"United States\",\"United States\",\"South Korea\",\"India\",\"United States\",\"United States\",\"Australia\",\"Spain\",\"United States\",\"United States\",\"United States\",\"United States\",\"India\",\"United Kingdom\",\"India\",\"United Kingdom\",\"India\",\"United States\",\"Australia\",\"United States\",\"United Kingdom\",\"United States\",\"South Korea\",\"United States\",\"India\",\"United States\",\"United States\",\"Germany\",\"United States\",\"United States\",\"United States\",\"South Africa\",\"United States\",\"United States\",\"United States\",\"Australia\",\"United States\",\"United States\",\"Argentina\",\"United States\",\"Germany\",\"United States\",\"United States\",\"United States\",\"United States\",\"United States\",\"United States\",\"United States\",\"United States\",\"China\",\"United States\",\"Russia\",\"Japan\",\"United Kingdom\",\"United States\",\"Canada\",\"United States\",\"Hong Kong\",\"United States\",\"United States\",\"United States\",\"United States\",\"United States\",\"United States\",\"Italy\",\"United States\",\"United States\",\"United States\",\"United States\",\"United States\",\"United States\",\"United States\",\"United States\",\"United States\",\"United States\",\"United Kingdom\",\"United States\",\"United States\",\"United States\",\"United States\",\"United States\",\"United States\",\"United States\",\"United States\",\"United States\",\"United States\",\"France\",\"United States\",\"India\",\"United Kingdom\",\"India\",\"\",\"United States\",\"India\",\"United States\",\"United States\",\"Nigeria\",\"India\",\"India\",\"India\",\"India\",\"India\",\"India\",\"India\",\"India\",\"India\",\"India\",\"India\",\"India\",\"India\",\"Ireland\",\"United States\",\"United States\",\"India\",\"India\",\"India\",\"United States\",\"Japan\",\"United States\",\"United States\",\"United States\",\"United States\",\"United States\",\"United States\",\"United States\",\"United States\",\"United States\",\"United States\",\"United States\",\"United States\",\"United States\",\"United Kingdom\",\"United States\",\"United States\",\"United States\",\"United States\",\"United States\",\"United States\",\"United States\",\"United States\",\"United States\",\"United States\",\"United States\",\"United States\",\"United States\",\"United States\",\"United States\",\"United States\",\"United States\",\"United States\",\"United States\",\"India\",\"United States\",\"United States\",\"United States\",\"United States\",\"United States\",\"India\",\"United States\",\"United States\",\"United States\",\"United States\",\"United States\",\"Japan\",\"India\",\"New Zealand\",\"United States\",\"Italy\",\"Italy\",\"United States\",\"United States\",\"France\",\"United States\",\"Argentina\",\"Spain\",\"Jordan\",\"Colombia\",\"United States\",\"United States\",\"Nigeria\",\"Mexico\",\"Belgium\",\"United Kingdom\",\"Switzerland\",\"United States\",\"United States\",\"Colombia\",\"South Korea\",\"United States\",\"Japan\",\"United Kingdom\",\"South Africa\",\"United States\",\"United States\",\"Israel\",\"India\",\"Nigeria\",\"France\",\"Canada\",\"India\",\"Brazil\",\"Argentina\",\"United Kingdom\",\"Argentina\",\"Nigeria\",\"United States\",\"United States\",\"United States\",\"United States\",\"Mexico\",\"United States\",\"Taiwan\",\"United States\",\"United States\",\"Taiwan\",\"United States\",\"United States\",\"Taiwan\",\"United States\",\"Taiwan\",\"Taiwan\",\"United States\",\"Italy\",\"United States\",\"United States\",\"United States\",\"Bulgaria\",\"United States\",\"United States\",\"United States\",\"United States\",\"United States\",\"United States\",\"United States\",\"United States\",\"United States\",\"Japan\",\"United States\",\"United States\",\"United States\",\"United States\",\"United States\",\"United States\",\"United States\",\"United States\",\"Spain\",\"United Kingdom\",\"United States\",\"United States\",\"United States\",\"United States\",\"United States\",\"United States\",\"United States\",\"United States\",\"Spain\",\"United States\",\"United States\",\"United States\",\"United States\",\"United States\",\"United States\",\"United States\",\"\",\"United Kingdom\",\"United States\",\"United States\",\"United States\",\"United States\",\"United States\",\"United States\",\"United States\",\"Nigeria\",\"United States\",\"United States\",\"Poland\",\"United States\",\"United States\",\"United States\",\"United States\",\"United States\",\"India\",\"United States\",\"Germany\",\"United States\",\"United States\",\"United States\",\"France\",\"United States\",\"Canada\",\"United States\",\"Australia\",\"United States\",\"United States\",\"United States\",\"United States\",\"United States\",\"United States\",\"United States\",\"Spain\",\"United Kingdom\",\"United States\",\"United States\",\"United States\",\"United States\",\"United States\",\"United States\",\"United States\",\"India\",\"United States\",\"United States\",\"United States\",\"United States\",\"India\",\"United States\",\"United States\",\"United States\",\"United States\",\"United States\",\"United States\",\"United States\",\"United States\",\"United States\",\"United States\",\"New Zealand\",\"United States\",\"United States\",\"Nigeria\",\"United States\",\"United States\",\"United States\",\"United States\",\"Argentina\",\"United States\",\"Saudi Arabia\",\"United States\",\"United States\",\"Thailand\",\"United States\",\"United States\",\"United States\",\"United States\",\"United States\",\"United States\",\"United States\",\"United States\",\"United States\",\"United States\",\"United States\",\"United States\",\"Indonesia\",\"Japan\",\"United States\",\"United States\",\"South Korea\",\"Egypt\",\"United States\",\"United States\",\"United States\",\"United States\",\"United States\",\"Italy\",\"United States\",\"United States\",\"United States\",\"United States\",\"United States\",\"United States\",\"United States\",\"United States\",\"United States\",\"United States\",\"United States\",\"United States\",\"United States\",\"United States\",\"Germany\",\"United States\",\"United States\",\"United States\",\"United States\",\"United States\",\"United States\",\"United States\",\"Hong Kong\",\"United States\",\"United States\",\"Kuwait\",\"United States\",\"United States\",\"United States\",\"United States\",\"United States\",\"United States\",\"France\",\"United States\",\"United States\",\"United States\",\"United States\",\"United States\",\"Nigeria\",\"Poland\",\"United States\",\"United States\",\"Australia\",\"United States\",\"France\",\"United States\",\"Canada\",\"United States\",\"France\",\"United States\",\"United Kingdom\",\"United Kingdom\",\"Thailand\",\"Japan\",\"India\",\"United Kingdom\",\"United States\",\"Canada\",\"Russia\",\"United Kingdom\",\"Japan\",\"United States\",\"United States\",\"Ireland\",\"India\",\"Egypt\",\"United States\",\"Malaysia\",\"United States\",\"Israel\",\"Indonesia\",\"Canada\",\"Australia\",\"Japan\",\"United Kingdom\",\"Australia\",\"United Kingdom\",\"India\",\"India\",\"Belgium\",\"Canada\",\"South Korea\",\"United States\",\"United States\",\"United States\",\"United States\",\"United States\",\"India\",\"United States\",\"France\",\"Nigeria\",\"South Korea\",\"South Korea\",\"Australia\",\"United States\",\"United States\",\"United States\",\"United States\",\"United States\",\"United States\",\"United States\",\"Australia\",\"United States\",\"United States\",\"United States\",\"Vietnam\",\"United States\",\"United States\",\"United Kingdom\",\"United States\",\"United States\",\"United States\",\"United Kingdom\",\"United States\",\"France\",\"United States\",\"United States\",\"United States\",\"United States\",\"United States\",\"United States\",\"United Kingdom\",\"United States\",\"United States\",\"United States\",\"United Kingdom\",\"United States\",\"United States\",\"United States\",\"United States\",\"United States\",\"Germany\",\"United States\",\"United States\",\"United States\",\"United States\",\"United States\",\"United States\",\"United States\",\"United States\",\"United Kingdom\",\"United States\",\"United Kingdom\",\"United States\",\"United States\",\"United States\",\"United States\",\"United States\",\"United States\",\"Nigeria\",\"United States\",\"United States\",\"United States\",\"Sweden\",\"United States\",\"United States\",\"United States\",\"United States\",\"United States\",\"United States\",\"United States\",\"Mexico\",\"United States\",\"China\",\"United States\",\"United States\",\"United States\",\"Japan\",\"United States\",\"United States\",\"France\",\"Lebanon\",\"United States\",\"United States\",\"United States\",\"United States\",\"United States\",\"United States\",\"Japan\",\"United States\",\"United States\",\"United States\",\"United States\",\"United States\",\"United States\",\"United States\",\"Brazil\",\"Nigeria\",\"United States\",\"United States\",\"Romania\",\"Romania\",\"Romania\",\"United States\",\"United States\",\"Thailand\",\"United States\",\"France\",\"United States\",\"United States\",\"Spain\",\"Finland\",\"United States\",\"United States\",\"United States\",\"Spain\",\"United States\",\"United States\",\"United States\",\"Argentina\",\"United States\",\"Japan\",\"United States\",\"Canada\",\"United States\",\"Thailand\",\"United States\",\"United Kingdom\",\"Australia\",\"United States\",\"Spain\",\"United States\",\"South Korea\",\"United States\",\"Nigeria\",\"United States\",\"United States\",\"United States\",\"United States\",\"United States\",\"Lebanon\",\"United States\",\"Canada\",\"United States\",\"Philippines\",\"Iceland\",\"United States\",\"Canada\",\"United States\",\"Turkey\",\"United States\",\"Germany\",\"United States\",\"United States\",\"United States\",\"Argentina\",\"United States\",\"Italy\",\"United States\",\"United States\",\"United States\",\"United States\",\"United States\",\"United States\",\"United States\",\"United States\",\"United States\",\"United States\",\"United States\",\"United States\",\"United States\",\"United States\",\"United States\",\"United States\",\"United States\",\"United States\",\"United States\",\"South Korea\",\"United States\",\"Denmark\",\"France\",\"India\",\"United States\",\"Philippines\",\"United States\",\"China\",\"United States\",\"Lebanon\",\"Vietnam\",\"Canada\",\"Colombia\",\"United Arab Emirates\",\"United States\",\"Nigeria\",\"United States\",\"United States\",\"Mexico\",\"United States\",\"United States\",\"Colombia\",\"United Kingdom\",\"Netherlands\",\"Nigeria\",\"United States\",\"United Kingdom\",\"United States\",\"United States\",\"United States\",\"South Korea\",\"United States\",\"South Africa\",\"Spain\",\"Mexico\",\"Japan\",\"Sweden\",\"Argentina\",\"United Arab Emirates\",\"United States\",\"Italy\",\"Philippines\",\"United States\",\"United States\",\"United States\",\"United States\",\"Japan\",\"United States\",\"United Kingdom\",\"United States\",\"Canada\",\"Brazil\",\"United States\",\"United States\",\"United States\",\"United States\",\"United States\",\"United Kingdom\",\"United States\",\"United States\",\"United States\",\"United States\",\"Nigeria\",\"United States\",\"United States\",\"United States\",\"United States\",\"United States\",\"United States\",\"United States\",\"Germany\",\"Japan\",\"Canada\",\"United States\",\"United States\",\"United States\",\"United States\",\"United States\",\"United States\",\"United States\",\"United States\",\"United States\",\"United States\",\"United States\",\"United Kingdom\",\"United States\",\"United States\",\"United States\",\"United Arab Emirates\",\"United Kingdom\",\"United States\",\"United States\",\"United States\",\"United States\",\"United States\",\"United States\",\"United States\",\"United States\",\"United States\",\"United States\",\"United States\",\"Israel\",\"United States\",\"United States\",\"Thailand\",\"Norway\",\"Argentina\",\"Syria\",\"Italy\",\"United States\",\"United States\",\"Japan\",\"United States\",\"United States\",\"United States\",\"United States\",\"United States\",\"United States\",\"India\",\"United States\",\"United States\",\"United States\",\"United States\",\"United States\",\"United States\",\"Spain\",\"United States\",\"Egypt\",\"Australia\",\"United States\",\"United States\",\"United States\",\"United States\",\"United States\",\"United States\",\"United States\",\"Canada\",\"Mexico\",\"United States\",\"India\",\"United States\",\"India\",\"United Kingdom\",\"United States\",\"India\",\"India\",\"Belgium\",\"United States\",\"United States\",\"South Africa\",\"Mauritius\",\"United States\",\"South Korea\",\"Canada\",\"United States\",\"Austria\",\"United States\",\"United States\",\"United States\",\"United Kingdom\",\"India\",\"United States\",\"Mexico\",\"France\",\"United States\",\"United States\",\"United States\",\"Spain\",\"United States\",\"United States\",\"South Korea\",\"India\",\"United States\",\"China\",\"Turkey\",\"United States\",\"United States\",\"India\",\"United States\",\"India\",\"United States\",\"India\",\"United Kingdom\",\"Germany\",\"United States\",\"United States\",\"India\",\"United States\",\"Mexico\",\"United States\",\"United States\",\"United States\",\"United States\",\"United States\",\"United States\",\"United States\",\"United States\",\"United States\",\"United States\",\"United States\",\"United Kingdom\",\"United Kingdom\",\"United Kingdom\",\"United States\",\"United States\",\"United States\",\"United States\",\"United States\",\"United States\",\"United States\",\"United States\",\"United States\",\"China\",\"United Kingdom\",\"United States\",\"United States\",\"United States\",\"United States\",\"United States\",\"United States\",\"United States\",\"United States\",\"Canada\",\"France\",\"United States\",\"United States\",\"United States\",\"India\",\"United States\",\"United States\",\"United States\",\"United States\",\"United States\",\"United States\",\"Brazil\",\"United States\",\"Poland\",\"United States\",\"United States\",\"Spain\",\"Turkey\",\"India\",\"India\",\"United States\",\"Turkey\",\"Turkey\",\"Turkey\",\"Turkey\",\"Turkey\",\"Turkey\",\"Turkey\",\"Spain\",\"Turkey\",\"Turkey\",\"Turkey\",\"United States\",\"Thailand\",\"Turkey\",\"Turkey\",\"Egypt\",\"United States\",\"United States\",\"Nigeria\",\"Turkey\",\"Japan\",\"Australia\",\"India\",\"Germany\",\"United States\",\"Canada\",\"Mexico\",\"Italy\",\"Australia\",\"United States\",\"United States\",\"United States\",\"United States\",\"United States\",\"United States\",\"United States\",\"Mexico\",\"France\",\"France\",\"United States\",\"India\",\"India\",\"India\",\"India\",\"India\",\"India\",\"India\",\"India\",\"United States\",\"United States\",\"United States\",\"Canada\",\"United States\",\"United States\",\"Philippines\",\"Germany\",\"South Korea\",\"United Kingdom\",\"United States\",\"Czech Republic\",\"United States\",\"India\",\"United States\",\"United States\",\"Japan\",\"Japan\",\"United States\",\"United States\",\"Japan\",\"United States\",\"United States\",\"Lebanon\",\"United States\",\"China\",\"Japan\",\"Japan\",\"United States\",\"United States\",\"United States\",\"United States\",\"United States\",\"United States\",\"Italy\",\"United States\",\"United States\",\"United States\",\"South Korea\",\"United States\",\"South Korea\",\"Canada\",\"China\",\"Thailand\",\"United States\",\"India\",\"United States\",\"United States\",\"United States\",\"United States\",\"United States\",\"United States\",\"United States\",\"United States\",\"United States\",\"Israel\",\"China\",\"United States\",\"United States\",\"United States\",\"China\",\"South Korea\",\"Nigeria\",\"India\",\"United States\",\"United States\",\"Indonesia\",\"Japan\",\"United States\",\"India\",\"United States\",\"United States\",\"United States\",\"United States\",\"India\",\"Cameroon\",\"United States\",\"United States\",\"United States\",\"China\",\"United States\",\"United Kingdom\",\"United States\",\"Nigeria\",\"India\",\"Netherlands\",\"France\",\"United States\",\"United States\",\"United States\",\"India\",\"India\",\"United States\",\"Lebanon\",\"United States\",\"United States\",\"Japan\",\"United States\",\"India\",\"Uruguay\",\"United States\",\"United Kingdom\",\"United States\",\"United States\",\"United States\",\"United Kingdom\",\"United States\",\"Japan\",\"United States\",\"United States\",\"United States\",\"United States\",\"Indonesia\",\"Egypt\",\"United Kingdom\",\"United States\",\"United States\",\"India\",\"United States\",\"United States\",\"United States\",\"Ireland\",\"United States\",\"United Kingdom\",\"South Korea\",\"Japan\",\"United States\",\"China\",\"United States\",\"United Kingdom\",\"United States\",\"Nigeria\",\"United States\",\"United States\",\"United States\",\"United States\",\"Ireland\",\"United Kingdom\",\"Turkey\",\"Spain\",\"Spain\",\"India\",\"United Kingdom\",\"Italy\",\"United States\",\"Japan\",\"Russia\",\"United States\",\"South Africa\",\"South Korea\",\"South Korea\",\"United Kingdom\",\"Japan\",\"Taiwan\",\"United States\",\"United States\",\"United States\",\"United States\",\"United Kingdom\",\"United States\",\"China\",\"Nigeria\",\"Japan\",\"United States\",\"Brazil\",\"United States\",\"United Kingdom\",\"United States\",\"United Kingdom\",\"United States\",\"Nigeria\",\"United States\",\"Belgium\",\"United Kingdom\",\"Germany\",\"United States\",\"United States\",\"Egypt\",\"India\",\"United States\",\"United States\",\"United States\",\"United Kingdom\",\"United States\",\"Turkey\",\"Kenya\",\"South Korea\",\"Turkey\",\"Turkey\",\"United States\",\"United States\",\"Turkey\",\"Turkey\",\"United Kingdom\",\"United States\",\"Turkey\",\"Spain\",\"Indonesia\",\"United States\",\"France\",\"United States\",\"United States\",\"Germany\",\"India\",\"India\",\"Egypt\",\"India\",\"United States\",\"Colombia\",\"Nigeria\",\"Spain\",\"United States\",\"France\",\"Indonesia\",\"United States\",\"United States\",\"United States\",\"United States\",\"United States\",\"United States\",\"India\",\"United States\",\"United States\",\"United States\",\"United States\",\"United States\",\"United States\",\"United States\",\"Germany\",\"United States\",\"United States\",\"United States\",\"United States\",\"Japan\",\"Belgium\",\"United States\",\"Spain\",\"Argentina\",\"United States\",\"United States\",\"United States\",\"India\",\"Chile\",\"Germany\",\"United States\",\"Indonesia\",\"United States\",\"United States\",\"United States\",\"Japan\",\"United States\",\"United States\",\"United States\",\"United States\",\"United States\",\"Canada\",\"United Kingdom\",\"India\",\"India\",\"United States\",\"Canada\",\"South Korea\",\"Taiwan\",\"United Kingdom\",\"United States\",\"United States\",\"United Kingdom\",\"India\",\"Uruguay\",\"India\",\"Germany\",\"India\",\"South Korea\",\"United States\",\"South Korea\",\"United States\",\"United States\",\"United Kingdom\",\"United States\",\"United States\",\"United States\",\"India\",\"United States\",\"United States\",\"United Kingdom\",\"United States\",\"United States\",\"Nigeria\",\"United Kingdom\",\"United States\",\"United States\",\"Spain\",\"India\",\"United Kingdom\",\"United States\",\"Mexico\",\"Luxembourg\",\"Mexico\",\"Spain\",\"Indonesia\",\"United States\",\"Sweden\",\"Poland\",\"United States\",\"United States\",\"France\",\"United States\",\"United States\",\"United States\",\"United States\",\"China\",\"United States\",\"France\",\"Bangladesh\",\"Spain\",\"Brazil\",\"Taiwan\",\"United States\",\"South Korea\",\"United States\",\"Italy\",\"China\",\"Poland\",\"Spain\",\"United States\",\"Colombia\",\"United States\",\"Mexico\",\"United States\",\"United States\",\"Canada\",\"United States\",\"United States\",\"United Kingdom\",\"United States\",\"United Kingdom\",\"Philippines\",\"United States\",\"Canada\",\"United States\",\"United States\",\"France\",\"Portugal\",\"United States\",\"Spain\",\"United States\",\"United Kingdom\",\"United States\",\"Indonesia\",\"Turkey\",\"United States\",\"United States\",\"India\",\"United States\",\"Australia\",\"Nigeria\",\"United States\",\"United States\",\"United States\",\"Canada\",\"South Korea\",\"Japan\",\"Portugal\",\"United States\",\"India\",\"United States\",\"United Kingdom\",\"United States\",\"Mexico\",\"United States\",\"United States\",\"United States\",\"United States\",\"United Kingdom\",\"United States\",\"United States\",\"United States\",\"United States\",\"United States\",\"Brazil\",\"United States\",\"Hungary\",\"United States\",\"United States\",\"United States\",\"United States\",\"India\",\"United States\",\"South Korea\",\"Indonesia\",\"Indonesia\",\"United States\",\"United States\",\"Argentina\",\"United States\",\"United Kingdom\",\"United States\",\"France\",\"India\",\"India\",\"Canada\",\"United States\",\"India\",\"United Kingdom\",\"India\",\"India\",\"United States\",\"Turkey\",\"Spain\",\"Indonesia\",\"France\",\"Canada\",\"United States\",\"United States\",\"France\",\"United States\",\"Mexico\",\"India\",\"United States\",\"United States\",\"United States\",\"Norway\",\"United States\",\"United States\",\"United States\",\"United States\",\"United States\",\"United States\",\"United States\",\"United States\",\"United States\",\"United States\",\"United States\",\"United States\",\"United Kingdom\",\"United States\",\"Mexico\",\"United States\",\"United States\",\"Canada\",\"United States\",\"United States\",\"United States\",\"United Kingdom\",\"South Korea\",\"United States\",\"United States\",\"United States\",\"India\",\"United States\",\"Indonesia\",\"Indonesia\",\"United States\",\"United States\",\"Denmark\",\"Italy\",\"United Kingdom\",\"Taiwan\",\"United States\",\"South Korea\",\"United States\",\"United States\",\"United States\",\"Senegal\",\"France\",\"India\",\"Canada\",\"India\",\"United States\",\"Philippines\",\"United States\",\"Indonesia\",\"Indonesia\",\"Philippines\",\"United States\",\"United States\",\"Taiwan\",\"United States\",\"United States\",\"South Korea\",\"Netherlands\",\"United States\",\"United Kingdom\",\"United Kingdom\",\"United Kingdom\",\"United States\",\"United States\",\"Egypt\",\"United Kingdom\",\"United States\",\"South Africa\",\"United States\",\"Norway\",\"United States\",\"United States\",\"Malaysia\",\"India\",\"Malaysia\",\"Malaysia\",\"Colombia\",\"Canada\",\"Indonesia\",\"Philippines\",\"Netherlands\",\"South Korea\",\"Philippines\",\"United States\",\"United States\",\"Brazil\",\"United States\",\"Philippines\",\"South Africa\",\"United States\",\"United States\",\"United States\",\"Japan\",\"United States\",\"United Kingdom\",\"India\",\"United States\",\"Canada\",\"United States\",\"United States\",\"United States\",\"United States\",\"Ireland\",\"United States\",\"United Kingdom\",\"United States\",\"United States\",\"Lebanon\",\"France\",\"United States\",\"United States\",\"United States\",\"Spain\",\"United States\",\"India\",\"Japan\",\"Canada\",\"United States\",\"Philippines\",\"Philippines\",\"Philippines\",\"Philippines\",\"Saudi Arabia\",\"Egypt\",\"Italy\",\"United States\",\"United States\",\"United States\",\"Singapore\",\"United States\",\"Brazil\",\"Kuwait\",\"United States\",\"United States\",\"United States\",\"United States\",\"South Korea\",\"United States\",\"United States\",\"France\",\"Taiwan\",\"Canada\",\"India\",\"United States\",\"United States\",\"Germany\",\"South Africa\",\"Turkey\",\"United States\",\"United States\",\"United States\",\"Philippines\",\"France\",\"United States\",\"Brazil\",\"Philippines\",\"United Kingdom\",\"Iceland\",\"Indonesia\",\"Poland\",\"Germany\",\"United States\",\"United States\",\"United States\",\"United States\",\"United States\",\"United Kingdom\",\"Spain\",\"United States\",\"United States\",\"United States\",\"United States\",\"United Kingdom\",\"Hong Kong\",\"Australia\",\"United States\",\"United States\",\"United States\",\"South Korea\",\"United States\",\"United States\",\"United Kingdom\",\"Philippines\",\"Philippines\",\"United States\",\"United States\",\"United States\",\"South Korea\",\"United States\",\"United States\",\"Spain\",\"India\",\"Australia\",\"Germany\",\"United States\",\"Italy\",\"South Korea\",\"Philippines\",\"United States\",\"United States\",\"Philippines\",\"United Kingdom\",\"Japan\",\"United Kingdom\",\"Canada\",\"United States\",\"India\",\"Nigeria\",\"United States\",\"United States\",\"Argentina\",\"Egypt\",\"United States\",\"United States\",\"South Korea\",\"Egypt\",\"United States\",\"United States\",\"Kenya\",\"United States\",\"China\",\"United States\",\"United States\",\"India\",\"United States\",\"United States\",\"India\",\"India\",\"India\",\"India\",\"Philippines\",\"India\",\"India\",\"India\",\"United States\",\"Philippines\",\"India\",\"United States\",\"United States\",\"United States\",\"United States\",\"United States\",\"United Kingdom\",\"United States\",\"United States\",\"United States\",\"Japan\",\"United States\",\"Canada\",\"Canada\",\"United States\",\"United Kingdom\",\"United States\",\"United States\",\"United States\",\"India\",\"United States\",\"Brazil\",\"Italy\",\"Spain\",\"Philippines\",\"Turkey\",\"Philippines\",\"United States\",\"South Korea\",\"India\",\"Argentina\",\"United States\",\"Brazil\",\"Australia\",\"United States\",\"United States\",\"Lebanon\",\"Austria\",\"United States\",\"United States\",\"United States\",\"Japan\",\"Nigeria\",\"United States\",\"Taiwan\",\"Spain\",\"United States\",\"Australia\",\"United States\",\"Philippines\",\"Argentina\",\"Canada\",\"Philippines\",\"United States\",\"Egypt\",\"Canada\",\"Canada\",\"Sweden\",\"India\",\"Germany\",\"Japan\",\"United States\",\"United States\",\"Canada\",\"Canada\",\"United States\",\"United States\",\"United States\",\"United States\",\"United States\",\"Canada\",\"United States\",\"United States\",\"United States\",\"United States\",\"Canada\",\"Denmark\",\"United States\",\"United States\",\"United States\",\"United States\",\"United Kingdom\",\"France\",\"South Korea\",\"Spain\",\"United States\",\"South Korea\",\"United States\",\"Brazil\",\"Norway\",\"Australia\",\"United States\",\"United Kingdom\",\"Nigeria\",\"India\",\"United States\",\"United States\",\"France\",\"United States\",\"Italy\",\"Mexico\",\"Philippines\",\"United States\",\"United States\",\"United States\",\"Poland\",\"United States\",\"United States\",\"United States\",\"Argentina\",\"United States\",\"Taiwan\",\"India\",\"Ireland\",\"Australia\",\"Brazil\",\"Germany\",\"United States\",\"China\",\"United States\",\"Spain\",\"United States\",\"United States\",\"Norway\",\"Philippines\",\"United Kingdom\",\"Philippines\",\"Canada\",\"United States\",\"Canada\",\"United States\",\"United Kingdom\",\"Canada\",\"United States\",\"Lebanon\",\"Lebanon\",\"Lebanon\",\"Lebanon\",\"Lebanon\",\"France\",\"Lebanon\",\"Lebanon\",\"Lebanon\",\"France\",\"France\",\"United States\",\"France\",\"Lebanon\",\"Lebanon\",\"Sweden\",\"United States\",\"South Korea\",\"United Kingdom\",\"Kenya\",\"United States\",\"United States\",\"France\",\"Mexico\",\"United States\",\"United States\",\"United States\",\"United States\",\"United States\",\"Egypt\",\"United Kingdom\",\"United States\",\"Indonesia\",\"Indonesia\",\"United States\",\"United States\",\"India\",\"United States\",\"Taiwan\",\"United States\",\"Mexico\",\"India\",\"United Kingdom\",\"United States\",\"India\",\"India\",\"India\",\"United States\",\"India\",\"India\",\"United States\",\"United States\",\"India\",\"Turkey\",\"Canada\",\"United States\",\"United States\",\"France\",\"South Korea\",\"Argentina\",\"South Korea\",\"United States\",\"United States\",\"Russia\",\"United States\",\"United Kingdom\",\"Canada\",\"United States\",\"India\",\"United States\",\"Canada\",\"Turkey\",\"United States\",\"United States\",\"Turkey\",\"United States\",\"United States\",\"United States\",\"Australia\",\"Nigeria\",\"India\",\"Italy\",\"Turkey\",\"United States\",\"Mexico\",\"Malaysia\",\"Serbia\",\"United States\",\"South Africa\",\"United States\",\"South Korea\",\"Japan\",\"United States\",\"Brazil\",\"United States\",\"New Zealand\",\"United States\",\"United States\",\"Germany\",\"United States\",\"Argentina\",\"Japan\",\"United States\",\"Saudi Arabia\",\"United States\",\"United States\",\"United States\",\"United States\",\"Mexico\",\"United States\",\"Namibia\",\"Japan\",\"United States\",\"United Kingdom\",\"United States\",\"United States\",\"Australia\",\"United States\",\"United States\",\"United States\",\"South Africa\",\"India\",\"India\",\"India\",\"India\",\"India\",\"India\",\"India\",\"India\",\"India\",\"United States\",\"United States\",\"United States\",\"India\",\"Germany\",\"United States\",\"United States\",\"United States\",\"South Korea\",\"United States\",\"United States\",\"United States\",\"United Kingdom\",\"United States\",\"United States\",\"United States\",\"Japan\",\"Japan\",\"Japan\",\"Japan\",\"Japan\",\"United States\",\"Japan\",\"Egypt\",\"India\",\"India\",\"United States\",\"India\",\"India\",\"India\",\"India\",\"United States\",\"United States\",\"United States\",\"Indonesia\",\"India\",\"United States\",\"France\",\"United Kingdom\",\"United States\",\"United States\",\"Germany\",\"Italy\",\"United States\",\"United Kingdom\",\"United States\",\"Poland\",\"United States\",\"United States\",\"Spain\",\"United Kingdom\",\"United Kingdom\",\"Thailand\",\"United Kingdom\",\"France\",\"United States\",\"United States\",\"United States\",\"Nigeria\",\"United Kingdom\",\"Mexico\",\"France\",\"United States\",\"United States\",\"Germany\",\"Spain\",\"United Kingdom\",\"United States\",\"India\",\"India\",\"India\",\"India\",\"India\",\"India\",\"United States\",\"United States\",\"India\",\"Turkey\",\"India\",\"India\",\"Indonesia\",\"Egypt\",\"United States\",\"India\",\"France\",\"United States\",\"Spain\",\"Argentina\",\"United States\",\"South Korea\",\"South Korea\",\"South Africa\",\"Turkey\",\"United States\",\"United States\",\"Australia\",\"United Kingdom\",\"United States\",\"United States\",\"South Africa\",\"United States\",\"Nigeria\",\"Philippines\",\"Brazil\",\"Indonesia\",\"United States\",\"United Kingdom\",\"United States\",\"Germany\",\"Germany\",\"Vietnam\",\"United States\",\"Hong Kong\",\"Philippines\",\"Netherlands\",\"Japan\",\"United States\",\"Denmark\",\"Japan\",\"Japan\",\"Japan\",\"United States\",\"France\",\"France\",\"United States\",\"United States\",\"United States\",\"India\",\"Spain\",\"United States\",\"Italy\",\"Japan\",\"United States\",\"United Kingdom\",\"Canada\",\"India\",\"United States\",\"United States\",\"United Kingdom\",\"India\",\"South Africa\",\"Spain\",\"Japan\",\"United States\",\"Taiwan\",\"United States\",\"Colombia\",\"United States\",\"United States\",\"United States\",\"United Kingdom\",\"United States\",\"United States\",\"United States\",\"United States\",\"Nigeria\",\"India\",\"Mexico\",\"United States\",\"Canada\",\"United States\",\"South Korea\",\"United States\",\"Egypt\",\"Argentina\",\"United States\",\"United States\",\"United States\",\"United States\",\"Nigeria\",\"Indonesia\",\"United States\",\"Indonesia\",\"United Kingdom\",\"United States\",\"South Korea\",\"United States\",\"Denmark\",\"Saudi Arabia\",\"India\",\"Brazil\",\"United States\",\"Canada\",\"United States\",\"United Kingdom\",\"United States\",\"United States\",\"Colombia\",\"United States\",\"Japan\",\"France\",\"United Kingdom\",\"United States\",\"United States\",\"India\",\"United States\",\"United States\",\"United States\",\"Japan\",\"United States\",\"United States\",\"Nigeria\",\"United States\",\"Germany\",\"Spain\",\"United States\",\"Germany\",\"United States\",\"United States\",\"United States\",\"United States\",\"United States\",\"United States\",\"Canada\",\"Uruguay\",\"Denmark\",\"France\",\"United States\",\"United States\",\"United States\",\"United States\",\"Brazil\",\"United States\",\"United States\",\"United States\",\"United States\",\"United States\",\"Canada\",\"Japan\",\"United States\",\"Canada\",\"Canada\",\"Turkey\",\"Japan\",\"United States\",\"United States\",\"Canada\",\"United Kingdom\",\"Germany\",\"India\",\"South Africa\",\"United States\",\"United States\",\"United States\",\"Peru\",\"United States\",\"India\",\"United States\",\"Nigeria\",\"Mozambique\",\"Brazil\",\"Poland\",\"United States\",\"United States\",\"United States\",\"United States\",\"United States\",\"India\",\"China\",\"India\",\"China\",\"United States\",\"Nigeria\",\"Spain\",\"Japan\",\"Spain\",\"United Kingdom\",\"United States\",\"South Korea\",\"South Africa\",\"United States\",\"Norway\",\"United States\",\"Hong Kong\",\"United Kingdom\",\"United States\",\"United Kingdom\",\"France\",\"France\",\"Australia\",\"United Kingdom\",\"United States\",\"United States\",\"Brazil\",\"Nigeria\",\"United States\",\"France\",\"Nigeria\",\"Mexico\",\"United States\",\"United States\",\"Belarus\",\"Nigeria\",\"Italy\",\"United States\",\"Australia\",\"France\",\"South Africa\",\"Brazil\",\"United States\",\"Egypt\",\"United States\",\"United States\",\"United States\",\"Belgium\",\"United States\",\"Japan\",\"Turkey\",\"South Korea\",\"New Zealand\",\"United States\",\"Australia\",\"United States\",\"United States\",\"United States\",\"United States\",\"United States\",\"India\",\"India\",\"India\",\"India\",\"India\",\"India\",\"India\",\"India\",\"India\",\"India\",\"India\",\"Thailand\",\"India\",\"India\",\"India\",\"India\",\"India\",\"India\",\"India\",\"United States\",\"India\",\"India\",\"India\",\"India\",\"India\",\"India\",\"India\",\"India\",\"India\",\"Spain\",\"United States\",\"Indonesia\",\"Switzerland\",\"Japan\",\"United States\",\"United States\",\"Ghana\",\"United States\",\"Brazil\",\"United States\",\"Italy\",\"United Kingdom\",\"Taiwan\",\"United States\",\"Spain\",\"Turkey\",\"Canada\",\"United States\",\"Turkey\",\"United States\",\"United Kingdom\",\"United States\",\"Spain\",\"United States\",\"France\",\"Italy\",\"Japan\",\"United States\",\"Chile\",\"United Kingdom\",\"Indonesia\",\"Nigeria\",\"United States\",\"Germany\",\"Australia\",\"Colombia\",\"United States\",\"United States\",\"Nigeria\",\"Philippines\",\"India\",\"United States\",\"India\",\"South Korea\",\"India\",\"India\",\"India\",\"United States\",\"India\",\"United Kingdom\",\"Chile\",\"United States\",\"United States\",\"India\",\"Nigeria\",\"South Korea\",\"United States\",\"Nigeria\",\"United States\",\"India\",\"France\",\"United States\",\"United States\",\"United States\",\"France\",\"Brazil\",\"Turkey\",\"Egypt\",\"United States\",\"France\",\"Japan\",\"Egypt\",\"France\",\"Egypt\",\"Egypt\",\"Egypt\",\"United States\",\"Philippines\",\"Thailand\",\"Egypt\",\"Lebanon\",\"Egypt\",\"Egypt\",\"Canada\",\"United States\",\"United Kingdom\",\"United States\",\"Nigeria\",\"United States\",\"United States\",\"United Kingdom\",\"Argentina\",\"Malaysia\",\"Nigeria\",\"United States\",\"India\",\"United States\",\"Indonesia\",\"India\",\"United States\",\"United States\",\"United States\",\"Germany\",\"United States\",\"Japan\",\"Japan\",\"Mexico\",\"Poland\",\"United Arab Emirates\",\"Saudi Arabia\",\"Italy\",\"United States\",\"United States\",\"United States\",\"South Korea\",\"Brazil\",\"South Korea\",\"United States\",\"Poland\",\"India\",\"India\",\"United States\",\"United States\",\"United States\",\"Egypt\",\"United States\",\"India\",\"Nigeria\",\"United States\",\"United States\",\"United States\",\"United States\",\"Japan\",\"Turkey\",\"Turkey\",\"Egypt\",\"United States\",\"United States\",\"United States\",\"Egypt\",\"Egypt\",\"Egypt\",\"United States\",\"Egypt\",\"Egypt\",\"Egypt\",\"Canada\",\"Saudi Arabia\",\"Egypt\",\"Egypt\",\"Japan\",\"India\",\"Zimbabwe\",\"South Korea\",\"United Arab Emirates\",\"Japan\",\"Japan\",\"Japan\",\"South Korea\",\"South Korea\",\"United States\",\"United Kingdom\",\"Romania\",\"United Arab Emirates\",\"India\",\"United States\",\"France\",\"Ireland\",\"Japan\",\"United Arab Emirates\",\"United Arab Emirates\",\"Argentina\",\"Australia\",\"Mexico\",\"Australia\",\"China\",\"United States\",\"United States\",\"India\",\"United States\",\"Indonesia\",\"Indonesia\",\"United Kingdom\",\"Nigeria\",\"Japan\",\"United States\",\"Canada\",\"Indonesia\",\"Kuwait\",\"United States\",\"United States\",\"Chile\",\"South Korea\",\"Egypt\",\"United States\",\"United States\",\"Egypt\",\"Egypt\",\"Egypt\",\"Canada\",\"United States\",\"United States\",\"United Kingdom\",\"United States\",\"Mexico\",\"Colombia\",\"India\",\"Egypt\",\"Egypt\",\"Egypt\",\"Egypt\",\"Egypt\",\"Egypt\",\"United States\",\"United States\",\"Egypt\",\"Egypt\",\"Saudi Arabia\",\"Egypt\",\"Nigeria\",\"United Kingdom\",\"United States\",\"Kuwait\",\"South Korea\",\"South Korea\",\"United States\",\"Lebanon\",\"Spain\",\"France\",\"United States\",\"United States\",\"Japan\",\"United States\",\"Thailand\",\"South Korea\",\"Australia\",\"United Kingdom\",\"Indonesia\",\"Indonesia\",\"United Arab Emirates\",\"India\",\"United States\",\"Mexico\",\"Nigeria\",\"Kuwait\",\"India\",\"United States\",\"United Arab Emirates\",\"Canada\",\"United States\",\"India\",\"India\",\"Finland\",\"United States\",\"United States\",\"United States\",\"Italy\",\"United States\",\"Canada\",\"United Kingdom\",\"Canada\",\"United Arab Emirates\",\"Kuwait\",\"China\",\"Indonesia\",\"United States\",\"United States\",\"United States\",\"India\",\"Brazil\",\"India\",\"Argentina\",\"United States\",\"Colombia\",\"United States\",\"United States\",\"United States\",\"United States\",\"United States\",\"United States\",\"United States\",\"United States\",\"United States\",\"United States\",\"France\",\"United States\",\"United States\",\"United States\",\"United States\",\"Russia\",\"South Africa\",\"Italy\",\"Japan\",\"India\",\"Canada\",\"India\",\"Australia\",\"United States\",\"United States\",\"United States\",\"United States\",\"United States\",\"United States\",\"United States\",\"Japan\",\"United States\",\"United States\",\"Brazil\",\"Japan\",\"Taiwan\",\"United States\",\"Turkey\",\"South Korea\",\"Nigeria\",\"United States\",\"United Kingdom\",\"India\",\"South Africa\",\"Turkey\",\"Turkey\",\"Egypt\",\"Turkey\",\"Turkey\",\"Italy\",\"Turkey\",\"United States\",\"Turkey\",\"Turkey\",\"United States\",\"Egypt\",\"Romania\",\"India\",\"India\",\"United States\",\"United Kingdom\",\"India\",\"Egypt\",\"South Korea\",\"United Kingdom\",\"Egypt\",\"France\",\"Egypt\",\"Egypt\",\"Egypt\",\"Egypt\",\"United States\",\"United Kingdom\",\"United States\",\"India\",\"Turkey\",\"India\",\"Japan\",\"Indonesia\",\"Indonesia\",\"Mexico\",\"Indonesia\",\"South Korea\",\"United States\",\"United States\",\"Poland\",\"Nigeria\",\"Spain\",\"Canada\",\"United Kingdom\",\"Japan\",\"United States\",\"Puerto Rico\",\"United States\",\"United States\",\"India\",\"India\",\"South Korea\",\"United States\",\"Turkey\",\"France\",\"Mexico\",\"India\",\"Germany\",\"United States\",\"Spain\",\"Uruguay\",\"France\",\"Israel\",\"United States\",\"United States\",\"Brazil\",\"United States\",\"Turkey\",\"Philippines\",\"India\",\"United States\",\"India\",\"United States\",\"Nigeria\",\"Nigeria\",\"United States\",\"Canada\",\"United States\",\"United States\",\"United Kingdom\",\"France\",\"United States\",\"Italy\",\"United States\",\"Japan\",\"United States\",\"Philippines\",\"United States\",\"United States\",\"United States\",\"United States\",\"United States\",\"Ireland\",\"United States\",\"Chile\",\"United States\",\"United States\",\"Spain\",\"United Kingdom\",\"Japan\",\"Japan\",\"India\",\"India\",\"India\",\"United States\",\"Sweden\",\"India\",\"India\",\"India\",\"India\",\"India\",\"India\",\"India\",\"United States\",\"India\",\"India\",\"India\",\"India\",\"India\",\"India\",\"India\",\"India\",\"United Kingdom\",\"India\",\"India\",\"United States\",\"Japan\",\"India\",\"United Kingdom\",\"United States\",\"Netherlands\",\"United States\",\"United Kingdom\",\"India\",\"China\",\"United States\",\"India\",\"India\",\"United States\",\"United States\",\"United States\",\"Canada\",\"India\",\"United States\",\"Canada\",\"United States\",\"India\",\"South Korea\",\"United States\",\"United States\",\"United States\",\"India\",\"India\",\"United States\",\"Canada\",\"Canada\",\"Canada\",\"United States\",\"United States\",\"Hungary\",\"United States\",\"Thailand\",\"Germany\",\"Germany\",\"United States\",\"United States\",\"Hungary\",\"Spain\",\"United States\",\"Austria\",\"Taiwan\",\"United States\",\"Argentina\",\"United States\",\"United States\",\"Mexico\",\"United States\",\"United States\",\"India\",\"United Kingdom\",\"United Kingdom\",\"United States\",\"Italy\",\"France\",\"United States\",\"Japan\",\"Saudi Arabia\",\"United States\",\"Sweden\",\"Japan\",\"Netherlands\",\"United Kingdom\",\"United States\",\"United Kingdom\",\"United States\",\"United States\",\"India\",\"United States\",\"United States\",\"United States\",\"United States\",\"India\",\"United States\",\"South Africa\",\"Norway\",\"Australia\",\"United States\",\"South Korea\",\"United States\",\"Turkey\",\"Iceland\",\"United States\",\"United States\",\"Brazil\",\"Canada\",\"United States\",\"Pakistan\",\"United States\",\"South Africa\",\"India\",\"France\",\"United States\",\"United States\",\"Spain\",\"United States\",\"Nigeria\",\"United States\",\"India\",\"Thailand\",\"Romania\",\"United States\",\"Romania\",\"Spain\",\"United States\",\"Brazil\",\"United States\",\"India\",\"South Africa\",\"United Kingdom\",\"United States\",\"Japan\",\"Germany\",\"India\",\"United States\",\"United States\",\"United States\",\"United Kingdom\",\"United States\",\"South Africa\",\"United States\",\"United States\",\"France\",\"United Kingdom\",\"United States\",\"Colombia\",\"India\",\"South Africa\",\"Spain\",\"Mexico\",\"India\",\"United States\",\"Japan\",\"Japan\",\"Saudi Arabia\",\"Nigeria\",\"Nigeria\",\"United States\",\"Nigeria\",\"Nigeria\",\"United States\",\"United States\",\"Nigeria\",\"United States\",\"United States\",\"South Korea\",\"United States\",\"Canada\",\"United States\",\"South Korea\",\"United States\",\"Argentina\",\"Germany\",\"India\",\"United States\",\"India\",\"South Africa\",\"Brazil\",\"Romania\",\"United States\",\"France\",\"United States\",\"United States\",\"Nigeria\",\"United States\",\"United States\",\"United States\",\"Cyprus\",\"United Kingdom\",\"Philippines\",\"Poland\",\"Germany\",\"South Africa\",\"India\",\"India\",\"Nigeria\",\"Japan\",\"United States\",\"Mexico\",\"United States\",\"Thailand\",\"South Africa\",\"United States\",\"United States\",\"United States\",\"United States\",\"Mexico\",\"Indonesia\",\"United States\",\"United States\",\"United States\",\"Poland\",\"India\",\"Ghana\",\"United States\",\"Nigeria\",\"United States\",\"India\",\"Canada\",\"United States\",\"United States\",\"United States\",\"Japan\",\"Kenya\",\"United States\",\"United States\",\"United States\",\"United States\",\"United States\",\"United States\",\"United States\",\"India\",\"Spain\",\"United States\",\"India\",\"Japan\",\"South Korea\",\"United States\",\"Canada\",\"France\",\"Netherlands\",\"United Kingdom\",\"Japan\",\"Japan\",\"United States\",\"United States\",\"India\",\"Japan\",\"Mexico\",\"France\",\"Nigeria\",\"Italy\",\"United States\",\"Spain\",\"Japan\",\"United States\",\"United Kingdom\",\"United States\",\"France\",\"United States\",\"United Kingdom\",\"Brazil\",\"India\",\"India\",\"India\",\"United States\",\"Taiwan\",\"South Africa\",\"United States\",\"Nigeria\",\"United States\",\"United States\",\"United States\",\"Mexico\",\"United States\",\"Japan\",\"Taiwan\",\"United States\",\"United States\",\"Uruguay\",\"United States\",\"India\",\"United States\",\"India\",\"United States\",\"United States\",\"United States\",\"Netherlands\",\"Canada\",\"Germany\",\"United States\",\"United States\",\"China\",\"United States\",\"United States\",\"United Kingdom\",\"Japan\",\"Japan\",\"United Kingdom\",\"India\",\"Spain\",\"United States\",\"Austria\",\"United States\",\"United States\",\"France\",\"Poland\",\"United States\",\"United States\",\"India\",\"United States\",\"United Kingdom\",\"United States\",\"India\",\"United States\",\"United Kingdom\",\"Australia\",\"France\",\"United States\",\"United States\",\"United States\",\"Spain\",\"United Kingdom\",\"Mexico\",\"Canada\",\"India\",\"United States\",\"Belgium\",\"Indonesia\",\"South Korea\",\"Canada\",\"United Kingdom\",\"Japan\",\"United States\",\"United States\",\"United States\",\"South Korea\",\"India\",\"United States\",\"United States\",\"South Korea\",\"United States\",\"United States\",\"Netherlands\",\"Spain\",\"Mexico\",\"Japan\",\"Indonesia\",\"South Korea\",\"United States\",\"United States\",\"South Korea\",\"United States\",\"South Korea\",\"India\",\"India\",\"Japan\",\"United States\",\"United States\",\"Norway\",\"United States\",\"South Korea\",\"South Korea\",\"United States\",\"China\",\"Japan\",\"Japan\",\"South Africa\",\"Argentina\",\"United States\",\"United States\",\"Italy\",\"France\",\"United States\",\"United States\",\"Japan\",\"United States\",\"Israel\",\"France\",\"United States\",\"Japan\",\"Mexico\",\"United States\",\"United States\",\"United States\",\"United States\",\"Australia\",\"Nigeria\",\"Mauritius\",\"Nigeria\",\"United States\",\"Nigeria\",\"United States\",\"United Kingdom\",\"United States\",\"United States\",\"France\",\"Poland\",\"United Kingdom\",\"United States\",\"United States\",\"Bangladesh\",\"United Kingdom\",\"India\",\"South Korea\",\"United States\",\"South Korea\",\"Nigeria\",\"India\",\"India\",\"India\",\"India\",\"India\",\"India\",\"Japan\",\"United States\",\"India\",\"Nigeria\",\"India\",\"India\",\"India\",\"Ghana\",\"India\",\"United States\",\"India\",\"United States\",\"India\",\"United States\",\"Nigeria\",\"South Africa\",\"Nigeria\",\"United States\",\"Taiwan\",\"United States\",\"United Kingdom\",\"India\",\"Egypt\",\"United States\",\"United States\",\"United States\",\"India\",\"Brazil\",\"United States\",\"Nigeria\",\"United States\",\"United States\",\"United Kingdom\",\"Japan\",\"Nigeria\",\"United States\",\"Japan\",\"Brazil\",\"United States\",\"Spain\",\"United States\",\"Nigeria\",\"United Kingdom\",\"United States\",\"United States\",\"United States\",\"United States\",\"China\",\"Colombia\",\"United States\",\"United States\",\"United States\",\"India\",\"United States\",\"Philippines\",\"United States\",\"India\",\"Australia\",\"India\",\"India\",\"United Kingdom\",\"India\",\"United States\",\"Thailand\",\"India\",\"France\",\"Romania\",\"South Korea\",\"Uruguay\",\"India\",\"France\",\"United Kingdom\",\"Nigeria\",\"France\",\"South Africa\",\"Mexico\",\"United States\",\"Nigeria\",\"Nigeria\",\"United States\",\"Nigeria\",\"United States\",\"Japan\",\"Brazil\",\"United States\",\"France\",\"United States\",\"India\",\"United States\",\"Canada\",\"United States\",\"United States\",\"United States\",\"Poland\",\"United States\",\"Mexico\",\"India\",\"Spain\",\"United States\",\"China\",\"France\",\"United States\",\"Japan\",\"United States\",\"United States\",\"United States\",\"Brazil\",\"United States\",\"Singapore\",\"United States\",\"United States\",\"United States\",\"Thailand\",\"United States\",\"India\",\"Germany\",\"Mexico\",\"India\",\"France\",\"United States\",\"United States\",\"Taiwan\",\"Finland\",\"United States\",\"United Kingdom\",\"United States\",\"Taiwan\",\"United Kingdom\",\"Colombia\",\"Argentina\",\"India\",\"India\",\"United States\",\"South Korea\",\"Japan\",\"Japan\",\"Spain\",\"Taiwan\",\"United States\",\"Taiwan\",\"South Korea\",\"India\",\"Mexico\",\"Japan\",\"Thailand\",\"United States\",\"Turkey\",\"United States\",\"France\",\"Thailand\",\"Argentina\",\"South Korea\",\"United States\",\"United States\",\"China\",\"United States\",\"India\",\"United Kingdom\",\"United Kingdom\",\"United States\",\"France\",\"Colombia\",\"India\",\"United States\",\"Japan\",\"China\",\"Brazil\",\"United States\",\"United States\",\"United Kingdom\",\"United States\",\"South Korea\",\"United States\",\"United Kingdom\",\"United States\",\"India\",\"United States\",\"United States\",\"United States\",\"United States\",\"United States\",\"United States\",\"United States\",\"United States\",\"United States\",\"United States\",\"United States\",\"United States\",\"United States\",\"Spain\",\"United States\",\"France\",\"United States\",\"United States\",\"United States\",\"United Kingdom\",\"Japan\",\"India\",\"United States\",\"Japan\",\"United States\",\"United States\",\"Japan\",\"Japan\",\"Japan\",\"United States\",\"United States\",\"United States\",\"Canada\",\"United States\",\"United Kingdom\",\"Italy\",\"Mexico\",\"Canada\",\"Argentina\",\"Germany\",\"Mexico\",\"Argentina\",\"United States\",\"Taiwan\",\"United States\",\"South Korea\",\"India\",\"South Korea\",\"United States\",\"United States\",\"United States\",\"United States\",\"Mexico\",\"United Kingdom\",\"China\",\"China\",\"United States\",\"Brazil\",\"Turkey\",\"United States\",\"Spain\",\"United States\",\"Argentina\",\"United States\",\"France\",\"Spain\",\"United States\",\"Switzerland\",\"China\",\"United States\",\"United States\",\"Singapore\",\"United States\",\"United States\",\"Hong Kong\",\"United States\",\"United Kingdom\",\"United States\",\"France\",\"South Africa\",\"United States\",\"United States\",\"United States\",\"United States\",\"United States\",\"United States\",\"United States\",\"United Kingdom\",\"United Kingdom\",\"Turkey\",\"India\",\"United States\",\"Spain\",\"United States\",\"Nigeria\",\"United Kingdom\",\"United States\",\"Netherlands\",\"Nigeria\",\"India\",\"Indonesia\",\"China\",\"Australia\",\"South Korea\",\"United States\",\"United States\",\"South Korea\",\"South Korea\",\"United States\",\"United States\",\"Turkey\",\"Canada\",\"France\",\"South Korea\",\"Turkey\",\"United States\",\"United States\",\"United States\",\"Nigeria\",\"Japan\",\"France\",\"Spain\",\"United States\",\"United States\",\"Japan\",\"United States\",\"United States\",\"United States\",\"United States\",\"United States\",\"Indonesia\",\"Mexico\",\"South Korea\",\"India\",\"United Kingdom\",\"Turkey\",\"United Kingdom\",\"Canada\",\"Turkey\",\"United Kingdom\",\"United States\",\"United States\",\"United States\",\"United States\",\"United States\",\"United States\",\"Mexico\",\"United States\",\"South Korea\",\"South Korea\",\"India\",\"India\",\"Netherlands\",\"India\",\"India\",\"India\",\"United States\",\"South Korea\",\"United States\",\"Germany\",\"South Korea\",\"South Korea\",\"United States\",\"United States\",\"United States\",\"United Kingdom\",\"United States\",\"Japan\",\"India\",\"Turkey\",\"Argentina\",\"United States\",\"United States\",\"India\",\"Hong Kong\",\"Mexico\",\"United States\",\"United States\",\"Australia\",\"United States\",\"United States\",\"United States\",\"United States\",\"India\",\"United States\",\"India\",\"South Korea\",\"United States\",\"United States\",\"Germany\",\"Spain\",\"United States\",\"United States\",\"Spain\",\"Turkey\",\"Canada\",\"India\",\"South Korea\",\"United Kingdom\",\"United States\",\"United States\",\"United States\",\"United States\",\"India\",\"United States\",\"United States\",\"Japan\",\"Turkey\",\"France\",\"China\",\"United States\",\"United States\",\"United States\",\"United States\",\"United States\",\"United States\",\"United Kingdom\",\"India\",\"India\",\"India\",\"Turkey\",\"France\",\"United States\",\"Pakistan\",\"India\",\"Brazil\",\"United States\",\"United States\",\"Japan\",\"Denmark\",\"United Kingdom\",\"United States\",\"United Arab Emirates\",\"China\",\"United States\",\"Colombia\",\"Chile\",\"United States\",\"United Kingdom\",\"Colombia\",\"United States\",\"Spain\",\"United States\",\"Brazil\",\"United States\",\"United Kingdom\",\"United States\",\"Hong Kong\",\"United States\",\"United States\",\"India\",\"India\",\"China\",\"India\",\"United States\",\"United States\",\"India\",\"United States\",\"United States\",\"Philippines\",\"United Kingdom\",\"United Kingdom\",\"Spain\",\"Argentina\",\"Russia\",\"United States\",\"Colombia\",\"South Korea\",\"United States\",\"United States\",\"United States\",\"Canada\",\"China\",\"Spain\",\"Spain\",\"United States\",\"India\",\"Taiwan\",\"Brazil\",\"United States\",\"India\",\"India\",\"United States\",\"Mexico\",\"United States\",\"United States\",\"United States\",\"United States\",\"United States\",\"India\",\"United States\",\"Brazil\",\"United States\",\"South Korea\",\"Lebanon\",\"United States\",\"Malaysia\",\"South Korea\",\"South Korea\",\"South Korea\",\"South Korea\",\"South Korea\",\"United States\",\"India\",\"United States\",\"Philippines\",\"United States\",\"United States\",\"United States\",\"United States\",\"United States\",\"United States\",\"Mexico\",\"Netherlands\",\"United States\",\"United States\",\"United Kingdom\",\"India\",\"India\",\"Thailand\",\"Australia\",\"Canada\",\"United States\",\"United States\",\"Spain\",\"Philippines\",\"France\",\"South Korea\",\"Argentina\",\"United States\",\"United States\",\"Australia\",\"United States\",\"United States\",\"Hong Kong\",\"Hong Kong\",\"Hong Kong\",\"Hong Kong\",\"Hong Kong\",\"Spain\",\"United States\",\"United States\",\"India\",\"South Korea\",\"United States\",\"India\",\"United States\",\"China\",\"India\",\"United States\",\"Japan\",\"Japan\",\"Japan\",\"Japan\",\"United States\",\"Spain\",\"Sweden\",\"Taiwan\",\"United States\",\"Germany\",\"South Korea\",\"United States\",\"France\",\"Germany\",\"United States\",\"Spain\",\"United States\",\"United States\",\"Argentina\",\"China\",\"United States\",\"United States\",\"United States\",\"United States\",\"Australia\",\"Thailand\",\"Thailand\",\"South Korea\",\"United States\",\"United States\",\"United States\",\"France\",\"France\",\"Japan\",\"United States\",\"Thailand\",\"India\",\"United States\",\"India\",\"United States\",\"Colombia\",\"United States\",\"Australia\",\"Mexico\",\"Australia\",\"Spain\",\"United Kingdom\",\"United States\",\"Mexico\",\"Japan\",\"India\",\"India\",\"United States\",\"Japan\",\"Thailand\",\"Argentina\",\"Colombia\",\"Japan\",\"United States\",\"Argentina\",\"Japan\",\"Japan\",\"United States\",\"New Zealand\",\"United States\",\"Japan\",\"India\",\"France\",\"United States\",\"Brazil\",\"United States\",\"United States\",\"Germany\",\"Japan\",\"Japan\",\"Sweden\",\"India\",\"India\",\"Japan\",\"China\",\"Spain\",\"Belgium\",\"United States\",\"France\",\"Brazil\",\"United States\",\"United States\",\"India\",\"United States\",\"United States\",\"United States\",\"Mexico\",\"Jordan\",\"United States\",\"Indonesia\",\"United States\",\"United States\",\"Malaysia\",\"Uruguay\",\"United States\",\"Spain\",\"Australia\",\"India\",\"France\",\"Germany\",\"India\",\"United States\",\"United States\",\"United States\",\"Germany\",\"Japan\",\"United Kingdom\",\"Netherlands\",\"United States\",\"United States\",\"United States\",\"United States\",\"South Korea\",\"India\",\"Taiwan\",\"India\",\"Japan\",\"Romania\",\"Hong Kong\",\"Canada\",\"India\",\"United States\",\"India\",\"China\",\"United States\",\"South Korea\",\"United States\",\"United States\",\"United States\",\"Austria\",\"United States\",\"United States\",\"United States\",\"United States\",\"United States\",\"United States\",\"India\",\"United States\",\"United States\",\"Mexico\",\"Mexico\",\"Spain\",\"Denmark\",\"Spain\",\"United States\",\"Philippines\",\"United States\",\"Italy\",\"United States\",\"United Kingdom\",\"United States\",\"India\",\"United Kingdom\",\"United Kingdom\",\"India\",\"Argentina\",\"United States\",\"United States\",\"Japan\",\"United States\",\"United States\",\"United States\",\"New Zealand\",\"China\",\"Chile\",\"France\",\"Hong Kong\",\"United States\",\"Spain\",\"United States\",\"Brazil\",\"China\",\"United States\",\"United States\",\"Taiwan\",\"United States\",\"United States\",\"United States\",\"United States\",\"United States\",\"United States\",\"United States\",\"United States\",\"United States\",\"South Korea\",\"United States\",\"Kuwait\",\"Lebanon\",\"United States\",\"United Kingdom\",\"China\",\"United States\",\"Mexico\",\"Canada\",\"Spain\",\"United States\",\"United Kingdom\",\"South Korea\",\"United States\",\"United States\",\"India\",\"United States\",\"Japan\",\"United Kingdom\",\"United States\",\"Malaysia\",\"India\",\"Hong Kong\",\"Taiwan\",\"United States\",\"Hong Kong\",\"Japan\",\"United States\",\"Taiwan\",\"United States\",\"Taiwan\",\"United States\",\"India\",\"Mexico\",\"United States\",\"Colombia\",\"Turkey\",\"India\",\"United States\",\"United States\",\"United States\",\"Denmark\",\"United States\",\"United States\",\"Taiwan\",\"Australia\",\"India\",\"Taiwan\",\"Japan\",\"Brazil\",\"United States\",\"Italy\",\"United Kingdom\",\"Mexico\",\"United States\",\"United Kingdom\",\"United States\",\"India\",\"India\",\"United States\",\"India\",\"India\",\"India\",\"India\",\"India\",\"India\",\"United States\",\"United States\",\"Spain\",\"Turkey\",\"Turkey\",\"Italy\",\"United States\",\"United States\",\"United States\",\"South Korea\",\"Brazil\",\"Canada\",\"United States\",\"India\",\"United States\",\"United States\",\"United States\",\"United Kingdom\",\"United States\",\"United States\",\"India\",\"Sweden\",\"Malaysia\",\"Canada\",\"United States\",\"Mexico\",\"United States\",\"South Korea\",\"United States\",\"Indonesia\",\"Lebanon\",\"India\",\"Malaysia\",\"United States\",\"United States\",\"China\",\"Pakistan\",\"South Korea\",\"United States\",\"United States\",\"United States\",\"Ghana\",\"United Kingdom\",\"India\",\"Mexico\",\"France\",\"United States\",\"United States\",\"United States\",\"United States\",\"United Kingdom\",\"France\",\"Japan\",\"Indonesia\",\"Indonesia\",\"United States\",\"India\",\"United States\",\"Spain\",\"Thailand\",\"United States\",\"Mexico\",\"India\",\"Spain\",\"United States\",\"United States\",\"United States\",\"United States\",\"United States\",\"Canada\",\"Japan\",\"Philippines\",\"Philippines\",\"Philippines\",\"Philippines\",\"Philippines\",\"Uruguay\",\"United States\",\"India\",\"Japan\",\"United States\",\"United States\",\"Taiwan\",\"United Arab Emirates\",\"France\",\"Italy\",\"Netherlands\",\"Spain\",\"United States\",\"United States\",\"United States\",\"United States\",\"United States\",\"United States\",\"Malaysia\",\"United Kingdom\",\"United States\",\"United Kingdom\",\"Philippines\",\"Philippines\",\"Philippines\",\"Philippines\",\"Philippines\",\"Egypt\",\"Egypt\",\"United States\",\"United States\",\"Egypt\",\"Egypt\",\"United States\",\"United States\",\"Egypt\",\"United Arab Emirates\",\"Turkey\",\"United States\",\"France\",\"United States\",\"United States\",\"United States\",\"Philippines\",\"Philippines\",\"Philippines\",\"Philippines\",\"United States\",\"Australia\",\"South Korea\",\"United States\",\"Philippines\",\"Philippines\",\"Japan\",\"United States\",\"Austria\",\"Thailand\",\"Thailand\",\"France\",\"India\",\"United States\",\"United States\",\"Canada\",\"Canada\",\"United States\",\"United States\",\"United States\",\"United Kingdom\",\"Japan\",\"Paraguay\",\"United States\",\"Spain\",\"Spain\",\"Philippines\",\"Philippines\",\"Philippines\",\"Philippines\",\"India\",\"Philippines\",\"Philippines\",\"Philippines\",\"Philippines\",\"Philippines\",\"Philippines\",\"United States\",\"United States\",\"India\",\"Spain\",\"United States\",\"United States\",\"India\",\"United States\",\"France\",\"India\",\"United Kingdom\",\"Brazil\",\"South Korea\",\"United States\",\"Canada\",\"India\",\"United Kingdom\",\"United States\",\"India\",\"India\",\"United States\",\"Brazil\",\"India\",\"India\",\"India\",\"Denmark\",\"United States\",\"India\",\"India\",\"India\",\"United States\",\"New Zealand\",\"Argentina\",\"India\",\"Spain\",\"United States\",\"United States\",\"Spain\",\"United States\",\"Taiwan\",\"Belgium\",\"United States\",\"United States\",\"United States\",\"United States\",\"Spain\",\"Egypt\",\"Egypt\",\"South Korea\",\"United States\",\"United Kingdom\",\"Egypt\",\"Japan\",\"South Korea\",\"United Kingdom\",\"India\",\"United States\",\"Taiwan\",\"United States\",\"United States\",\"United States\",\"United States\",\"United States\",\"United States\",\"Russia\",\"Japan\",\"United States\",\"United States\",\"Malaysia\",\"China\",\"United States\",\"United States\",\"India\",\"India\",\"United States\",\"South Korea\",\"Spain\",\"United States\",\"Indonesia\",\"India\",\"Indonesia\",\"Indonesia\",\"Indonesia\",\"Taiwan\",\"United States\",\"Philippines\",\"Spain\",\"United Kingdom\",\"Mexico\",\"Spain\",\"Argentina\",\"United States\",\"United States\",\"United States\",\"Argentina\",\"Turkey\",\"United Kingdom\",\"United States\",\"United States\",\"United States\",\"United States\",\"Brazil\",\"Mexico\",\"India\",\"United Kingdom\",\"United States\",\"United States\",\"Pakistan\",\"India\",\"India\",\"Taiwan\",\"India\",\"Pakistan\",\"South Korea\",\"United States\",\"Indonesia\",\"Indonesia\",\"Taiwan\",\"India\",\"Philippines\",\"United States\",\"United States\",\"Ireland\",\"United Kingdom\",\"United States\",\"Spain\",\"United States\",\"Spain\",\"Israel\",\"Japan\",\"India\",\"Bangladesh\",\"Thailand\",\"Iceland\",\"United States\",\"Nigeria\",\"United States\",\"United States\",\"United Kingdom\",\"United States\",\"Thailand\",\"United States\",\"India\",\"United States\",\"Japan\",\"India\",\"India\",\"Croatia\",\"United States\",\"United States\",\"United Kingdom\",\"United States\",\"United Kingdom\",\"United Kingdom\",\"United States\",\"United States\",\"United Kingdom\",\"Mexico\",\"United States\",\"United States\",\"United States\",\"United States\",\"Taiwan\",\"United States\",\"Japan\",\"United States\",\"United States\",\"United Kingdom\",\"United Kingdom\",\"United States\",\"United States\",\"United States\",\"Thailand\",\"Uruguay\",\"United States\",\"Israel\",\"India\",\"United States\",\"India\",\"United States\",\"Spain\",\"United States\",\"Taiwan\",\"United Kingdom\",\"United States\",\"United Kingdom\",\"United States\",\"United States\",\"France\",\"United States\",\"Taiwan\",\"Japan\",\"Taiwan\",\"Taiwan\",\"Germany\",\"Japan\",\"Poland\",\"Turkey\",\"Singapore\",\"Japan\",\"Japan\",\"Singapore\",\"Singapore\",\"Singapore\",\"India\",\"United States\",\"India\",\"United States\",\"India\",\"China\",\"United States\",\"United States\",\"United States\",\"Canada\",\"United States\",\"United Kingdom\",\"United States\",\"United Kingdom\",\"Philippines\",\"United States\",\"United States\",\"United States\",\"United States\",\"Spain\",\"India\",\"South Korea\",\"United States\",\"Mexico\",\"United States\",\"United States\",\"Australia\",\"Canada\",\"United States\",\"Japan\",\"United States\",\"United States\",\"Italy\",\"Germany\",\"United States\",\"United States\",\"United Kingdom\",\"United States\",\"Australia\",\"United States\",\"United States\",\"United States\",\"United States\",\"South Korea\",\"South Korea\",\"Pakistan\",\"China\",\"Hong Kong\",\"Mexico\",\"Norway\",\"Hong Kong\",\"Hong Kong\",\"India\",\"Malaysia\",\"Hong Kong\",\"Hong Kong\",\"Australia\",\"United States\",\"Hong Kong\",\"China\",\"Hong Kong\",\"United States\",\"Hong Kong\",\"India\",\"United States\",\"Hong Kong\",\"China\",\"Poland\",\"United States\",\"Ireland\",\"United States\",\"Mexico\",\"Italy\",\"Japan\",\"India\",\"India\",\"United States\",\"France\",\"Mexico\",\"United States\",\"United States\",\"United States\",\"Canada\",\"Spain\",\"United Kingdom\",\"United States\",\"United States\",\"Spain\",\"United States\",\"United States\",\"United States\",\"Indonesia\",\"Indonesia\",\"United States\",\"United States\",\"United States\",\"China\",\"United States\",\"United States\",\"United States\",\"France\",\"Canada\",\"United States\",\"United States\",\"Brazil\",\"India\",\"United States\",\"Canada\",\"India\",\"Indonesia\",\"India\",\"India\",\"India\",\"Spain\",\"Philippines\",\"United States\",\"Denmark\",\"Germany\",\"Hong Kong\",\"Germany\",\"United States\",\"United Kingdom\",\"Brazil\",\"Colombia\",\"South Korea\",\"United States\",\"France\",\"United States\",\"India\",\"United States\",\"Malaysia\",\"Brazil\",\"United States\",\"United States\",\"United States\",\"France\",\"United States\",\"India\",\"India\",\"India\",\"India\",\"India\",\"India\",\"India\",\"India\",\"Canada\",\"India\",\"Argentina\",\"United Kingdom\",\"India\",\"India\",\"United States\",\"Brazil\",\"United States\",\"India\",\"India\",\"India\",\"India\",\"India\",\"India\",\"India\",\"India\",\"India\",\"India\",\"United States\",\"India\",\"India\",\"United States\",\"India\",\"India\",\"India\",\"India\",\"India\",\"India\",\"India\",\"India\",\"India\",\"United States\",\"United States\",\"United States\",\"South Africa\",\"India\",\"India\",\"India\",\"Spain\",\"Philippines\",\"Japan\",\"Hong Kong\",\"United States\",\"Russia\",\"Spain\",\"Colombia\",\"United States\",\"United States\",\"India\",\"United States\",\"United States\",\"United States\",\"United States\",\"United States\",\"China\",\"United States\",\"United States\",\"Peru\",\"China\",\"Australia\",\"United States\",\"Mexico\",\"United States\",\"United Kingdom\",\"South Korea\",\"United States\",\"United States\",\"India\",\"United States\",\"Thailand\",\"Hong Kong\",\"Indonesia\",\"United Kingdom\",\"India\",\"Canada\",\"Australia\",\"United States\",\"India\",\"India\",\"United Kingdom\",\"India\",\"United Kingdom\",\"United States\",\"Spain\",\"United States\",\"United States\",\"Indonesia\",\"United States\",\"United States\",\"United States\",\"United States\",\"United States\",\"United States\",\"Norway\",\"Brazil\",\"United States\",\"United States\",\"Malaysia\",\"United States\",\"United States\",\"United States\",\"Czech Republic\",\"Japan\",\"United Kingdom\",\"United States\",\"United States\",\"South Korea\",\"United States\",\"United Kingdom\",\"United States\",\"United States\",\"United States\",\"United States\",\"United Kingdom\",\"United States\",\"United Kingdom\",\"United Kingdom\",\"United States\",\"United Kingdom\",\"United Kingdom\",\"United Kingdom\",\"United Kingdom\",\"United Kingdom\",\"United Kingdom\",\"United States\",\"United Kingdom\",\"United Kingdom\",\"India\",\"Canada\",\"India\",\"India\",\"India\",\"India\",\"India\",\"India\",\"United States\",\"India\",\"United States\",\"India\",\"India\",\"India\",\"United States\",\"India\",\"India\",\"India\",\"India\",\"India\",\"India\",\"India\",\"India\",\"India\",\"India\",\"India\",\"India\",\"India\",\"India\",\"India\",\"India\",\"India\",\"India\",\"United States\",\"United States\",\"United States\",\"India\",\"India\",\"India\",\"India\",\"India\",\"India\",\"India\",\"India\",\"India\",\"India\",\"India\",\"India\",\"United States\",\"India\",\"United States\",\"India\",\"United Kingdom\",\"India\",\"India\",\"India\",\"India\",\"India\",\"India\",\"Pakistan\",\"United States\",\"Brazil\",\"China\",\"United States\",\"United States\",\"United States\",\"Canada\",\"South Korea\",\"Indonesia\",\"Spain\",\"United Kingdom\",\"United States\",\"Japan\",\"United States\",\"United States\",\"Brazil\",\"United States\",\"Japan\",\"Canada\",\"Lebanon\",\"United States\",\"United States\",\"Mexico\",\"United States\",\"United States\",\"Israel\",\"United States\",\"China\",\"United States\",\"South Korea\",\"Italy\",\"United States\",\"United States\",\"Netherlands\",\"United States\",\"United States\",\"United States\",\"United States\",\"United States\",\"United States\",\"China\",\"United States\",\"United States\",\"Belgium\",\"India\",\"United Kingdom\",\"Thailand\",\"United States\",\"Taiwan\",\"France\",\"India\",\"India\",\"India\",\"India\",\"Australia\",\"France\",\"Spain\",\"United States\",\"United States\",\"Spain\",\"United States\",\"United States\",\"Colombia\",\"India\",\"India\",\"India\",\"United States\",\"United States\",\"United States\",\"India\",\"Canada\",\"China\",\"United States\",\"United Kingdom\",\"India\",\"India\",\"India\",\"India\",\"India\",\"United States\",\"United States\",\"Spain\",\"United States\",\"South Korea\",\"India\",\"United States\",\"Australia\",\"United States\",\"United States\",\"United Kingdom\",\"United States\",\"United States\",\"Argentina\",\"United States\",\"United States\",\"Taiwan\",\"India\",\"India\",\"India\",\"China\",\"Spain\",\"United States\",\"United States\",\"India\",\"India\",\"India\",\"India\",\"India\",\"India\",\"India\",\"India\",\"India\",\"India\",\"India\",\"India\",\"India\",\"India\",\"India\",\"India\",\"India\",\"India\",\"India\",\"Mexico\",\"United States\",\"Argentina\",\"Japan\",\"Japan\",\"France\",\"Japan\",\"Australia\",\"Australia\",\"Australia\",\"France\",\"Mexico\",\"Mexico\",\"United States\",\"Japan\",\"Australia\",\"Spain\",\"India\",\"United States\",\"Spain\",\"United Kingdom\",\"New Zealand\",\"China\",\"United States\",\"United States\",\"Japan\",\"Canada\",\"Brazil\",\"Spain\",\"United States\",\"Spain\",\"Japan\",\"Australia\",\"United States\",\"China\",\"United States\",\"United States\",\"Mexico\",\"Israel\",\"United Kingdom\",\"United States\",\"South Korea\",\"United States\",\"Argentina\",\"United States\",\"Spain\",\"France\",\"United States\",\"United States\",\"United States\",\"United States\",\"China\",\"India\",\"United States\",\"India\",\"India\",\"United States\",\"India\",\"India\",\"India\",\"United States\",\"Mexico\",\"India\",\"United States\",\"India\",\"United States\",\"United States\",\"Spain\",\"United Kingdom\",\"United Kingdom\",\"Chile\",\"United Kingdom\",\"Colombia\",\"United States\",\"United States\",\"United States\",\"United States\",\"Brazil\",\"Japan\",\"France\",\"United States\",\"United States\",\"United Kingdom\",\"United States\",\"China\",\"Australia\",\"United States\",\"India\",\"Israel\",\"Peru\",\"United States\",\"Spain\",\"Chile\",\"United States\",\"United States\",\"United States\",\"Australia\",\"Mexico\",\"France\",\"United States\",\"Japan\",\"India\",\"Thailand\",\"France\",\"United States\",\"Germany\",\"United States\",\"United States\",\"United States\",\"Spain\",\"South Korea\",\"Argentina\",\"United States\",\"United States\",\"United States\",\"Japan\",\"United States\",\"South Africa\",\"United States\",\"Canada\",\"United States\",\"Argentina\",\"India\",\"Japan\",\"Japan\",\"United States\",\"United States\",\"United States\",\"Mexico\",\"United States\",\"United Kingdom\",\"United States\",\"United States\",\"Germany\",\"United States\",\"Canada\",\"United States\",\"United Kingdom\",\"France\",\"United States\",\"Italy\",\"United States\",\"Mexico\",\"China\",\"Spain\",\"Colombia\",\"Cambodia\",\"India\",\"India\",\"Italy\",\"United States\",\"Argentina\",\"United States\",\"Canada\",\"United States\",\"Spain\",\"United States\",\"United States\",\"United States\",\"United States\",\"France\",\"India\",\"United States\",\"United States\",\"Spain\",\"Saudi Arabia\",\"India\",\"France\",\"United States\",\"United States\",\"United States\",\"Spain\",\"United States\",\"United States\",\"United States\",\"United States\",\"United States\",\"Germany\",\"United States\",\"Brazil\",\"South Korea\",\"United States\",\"United States\",\"Canada\",\"United States\",\"Brazil\",\"Germany\",\"France\",\"United States\",\"United States\",\"United States\",\"France\",\"United States\",\"Colombia\",\"United Kingdom\",\"Philippines\",\"United States\",\"United States\",\"Spain\",\"United States\",\"United States\",\"Mexico\",\"Argentina\",\"United Kingdom\",\"France\",\"Bulgaria\",\"France\",\"India\",\"United States\",\"Argentina\",\"India\",\"Sweden\",\"United States\",\"United Kingdom\",\"India\",\"India\",\"India\",\"India\",\"India\",\"United Kingdom\",\"United Kingdom\",\"United States\",\"United States\",\"United States\",\"Mexico\",\"United Kingdom\",\"Canada\",\"Canada\",\"Canada\",\"United Kingdom\",\"United Kingdom\",\"Philippines\",\"United States\",\"Netherlands\",\"United States\",\"United Kingdom\",\"United States\",\"India\",\"United States\",\"United Arab Emirates\",\"Argentina\",\"United States\",\"United States\",\"United States\",\"Japan\",\"Sweden\",\"Egypt\",\"Belgium\",\"Poland\",\"South Korea\",\"Japan\",\"United Kingdom\",\"United States\",\"Japan\",\"United Kingdom\",\"United States\",\"South Korea\",\"India\",\"Bulgaria\",\"Norway\",\"United States\",\"United States\",\"United States\",\"Argentina\",\"Chile\",\"Canada\",\"Canada\",\"United States\",\"United States\",\"India\",\"India\",\"India\",\"United States\",\"Germany\",\"India\",\"Spain\",\"India\",\"Canada\",\"Canada\",\"Canada\",\"Canada\",\"Canada\",\"India\",\"India\",\"South Korea\",\"United Kingdom\",\"United States\",\"Spain\",\"South Korea\",\"France\",\"United Kingdom\",\"United States\",\"United Kingdom\",\"South Korea\",\"United Kingdom\",\"Japan\",\"Argentina\",\"United States\",\"United States\",\"United States\",\"Japan\",\"United States\",\"India\",\"United States\",\"United Kingdom\",\"Georgia\",\"United States\",\"United States\",\"United States\",\"United States\",\"United States\",\"United States\",\"Hungary\",\"South Korea\",\"United States\",\"United States\",\"United States\",\"Germany\",\"United States\",\"United Kingdom\",\"Spain\",\"United States\",\"Singapore\",\"Mexico\",\"Argentina\",\"United States\",\"Bulgaria\",\"South Korea\",\"Colombia\",\"United States\",\"United States\",\"United States\",\"Japan\",\"United States\",\"United States\",\"Canada\",\"United Kingdom\",\"Spain\",\"Colombia\",\"Japan\",\"United States\",\"Soviet Union\",\"India\",\"Australia\",\"United States\",\"Czech Republic\",\"United States\",\"South Korea\",\"United States\",\"Colombia\",\"India\",\"United States\",\"United Kingdom\",\"United States\",\"Japan\",\"United States\",\"Spain\",\"Japan\",\"Japan\",\"United Kingdom\",\"Japan\",\"France\",\"United States\",\"United States\",\"Canada\",\"France\",\"France\",\"United States\",\"Germany\",\"United States\",\"United States\",\"United States\",\"United States\",\"United Kingdom\",\"Australia\",\"United States\",\"Argentina\",\"Canada\",\"Mexico\",\"United Kingdom\",\"Canada\",\"South Korea\",\"United States\",\"United States\",\"India\",\"United States\",\"South Korea\",\"United States\",\"United States\",\"United States\",\"United States\",\"United States\",\"India\",\"India\",\"Australia\",\"United States\",\"United States\",\"India\",\"Japan\",\"United States\",\"United States\",\"Malaysia\",\"United States\",\"Japan\",\"India\",\"Georgia\",\"France\",\"United States\",\"United Arab Emirates\",\"United States\",\"United States\",\"United Kingdom\",\"United Kingdom\",\"India\",\"United States\",\"Spain\",\"Japan\",\"United States\",\"United States\",\"South Korea\",\"United States\",\"United States\",\"Australia\",\"United States\",\"United States\",\"United States\",\"Canada\",\"United States\",\"United States\",\"United States\",\"United States\",\"Japan\",\"Russia\",\"United States\",\"Canada\",\"Japan\",\"Japan\",\"United States\",\"Mexico\",\"Brazil\",\"Japan\",\"United States\",\"United States\",\"United States\",\"United States\",\"India\",\"United States\",\"Canada\",\"India\",\"Spain\",\"United Arab Emirates\",\"Germany\",\"China\",\"United States\",\"United States\",\"United States\",\"United States\",\"Singapore\",\"United States\",\"United States\",\"United States\",\"Canada\",\"United States\",\"United States\",\"United States\",\"United States\",\"United Kingdom\",\"Canada\",\"United Kingdom\",\"United States\",\"United States\",\"United States\",\"United States\",\"United States\",\"France\",\"United States\",\"India\",\"United States\",\"United States\",\"India\",\"New Zealand\",\"France\",\"India\",\"United States\",\"Germany\",\"Turkey\",\"Mexico\",\"United Kingdom\",\"United States\",\"United States\",\"Saudi Arabia\",\"Spain\",\"United States\",\"Japan\",\"China\",\"Greece\",\"United States\",\"South Korea\",\"Japan\",\"United States\",\"Spain\",\"United States\",\"United States\",\"Canada\",\"United States\",\"France\",\"United States\",\"United States\",\"Singapore\",\"Singapore\",\"Norway\",\"Mexico\",\"Taiwan\",\"United Kingdom\",\"United States\",\"United States\",\"United States\",\"United States\",\"United States\",\"United Kingdom\",\"United States\",\"United States\",\"France\",\"United States\",\"United States\",\"Canada\",\"Canada\",\"Spain\",\"United States\",\"United States\",\"United States\",\"United States\",\"Cambodia\",\"United States\",\"United States\",\"United States\",\"Australia\",\"United States\",\"United States\",\"United States\",\"Spain\",\"Chile\",\"United States\",\"United States\",\"United States\",\"United States\",\"United States\",\"United States\",\"United States\",\"United States\",\"Taiwan\",\"Taiwan\",\"India\",\"United States\",\"Japan\",\"Japan\",\"United States\",\"India\",\"India\",\"Japan\",\"Japan\",\"United States\",\"India\",\"United States\",\"United States\",\"India\",\"India\",\"United States\",\"Germany\",\"United States\",\"France\",\"India\",\"Argentina\",\"China\",\"United Kingdom\",\"Argentina\",\"Argentina\",\"United States\",\"United States\",\"Australia\",\"United States\",\"United States\",\"United States\",\"United States\",\"United States\",\"United Kingdom\",\"Turkey\",\"United States\",\"United States\",\"Japan\",\"United States\",\"United States\",\"Mexico\",\"United States\",\"United States\",\"United States\",\"India\",\"United States\",\"United States\",\"India\",\"United States\",\"United States\",\"United States\",\"France\",\"Mexico\",\"United States\",\"United Kingdom\",\"United States\",\"Spain\",\"Singapore\",\"Taiwan\",\"South Korea\",\"Russia\",\"Ireland\",\"United States\",\"United States\",\"Taiwan\",\"Russia\",\"United States\",\"United States\",\"United States\",\"Australia\",\"United States\",\"Chile\",\"Singapore\",\"United Kingdom\",\"France\",\"United Kingdom\",\"United Kingdom\",\"United States\",\"United States\",\"United States\",\"Sweden\",\"India\",\"United States\",\"Spain\",\"Spain\",\"United States\",\"United States\",\"United States\",\"United States\",\"United States\",\"United States\",\"Canada\",\"China\",\"China\",\"China\",\"United States\",\"China\",\"France\",\"Turkey\",\"Australia\",\"Singapore\",\"India\",\"United States\",\"United States\",\"Netherlands\",\"Turkey\",\"India\",\"United Kingdom\",\"India\",\"Singapore\",\"India\",\"United States\",\"Spain\",\"Singapore\",\"Singapore\",\"Singapore\",\"Singapore\",\"Singapore\",\"India\",\"Singapore\",\"Singapore\",\"Spain\",\"United States\",\"United States\",\"Japan\",\"South Korea\",\"United States\",\"United States\",\"Netherlands\",\"United States\",\"India\",\"United States\",\"United States\",\"United States\",\"United States\",\"United States\",\"United States\",\"United States\",\"Italy\",\"India\",\"Brazil\",\"United Kingdom\",\"United States\",\"South Korea\",\"South Korea\",\"South Korea\",\"South Korea\",\"China\",\"South Korea\",\"South Korea\",\"Canada\",\"India\",\"Indonesia\",\"Spain\",\"United Kingdom\",\"United States\",\"South Korea\",\"India\",\"United Kingdom\",\"United States\",\"United Kingdom\",\"United Kingdom\",\"India\",\"United States\",\"Brazil\",\"France\",\"Canada\",\"Singapore\",\"United States\",\"United States\",\"India\",\"India\",\"India\",\"Spain\",\"Denmark\",\"Singapore\",\"United Kingdom\",\"United Kingdom\",\"United States\",\"India\",\"United States\",\"United States\",\"India\",\"United States\",\"France\",\"United States\",\"Japan\",\"Thailand\",\"Brazil\",\"United States\",\"United States\",\"India\",\"India\",\"United States\",\"United States\",\"India\",\"Czech Republic\",\"Germany\",\"United States\",\"United States\",\"United Kingdom\",\"France\",\"United States\",\"United States\",\"Australia\",\"Mexico\",\"United States\",\"United States\",\"Singapore\",\"India\",\"India\",\"France\",\"France\",\"United Kingdom\",\"Canada\",\"India\",\"Canada\",\"Spain\",\"United States\",\"South Korea\",\"South Korea\",\"United States\",\"Canada\",\"South Korea\",\"Spain\",\"India\",\"South Africa\",\"Sweden\",\"United States\",\"Canada\",\"United States\",\"United States\",\"United States\",\"United States\",\"United States\",\"United States\",\"Germany\",\"Germany\",\"Germany\",\"Italy\",\"Nigeria\",\"France\",\"Spain\",\"United States\",\"Mexico\",\"United States\",\"United States\",\"South Korea\",\"United States\",\"Spain\",\"United States\",\"United States\",\"Turkey\",\"Brazil\",\"United States\",\"India\",\"United States\",\"India\",\"United States\",\"India\",\"Spain\",\"Argentina\",\"Spain\",\"United Kingdom\",\"United States\",\"United Kingdom\",\"United States\",\"United States\",\"United States\",\"Brazil\",\"United States\",\"United States\",\"United States\",\"Japan\",\"United States\",\"United States\",\"United States\",\"Australia\",\"South Korea\",\"Japan\",\"United Kingdom\",\"India\",\"Canada\",\"United Kingdom\",\"India\",\"United States\",\"United States\",\"Portugal\",\"United States\",\"United States\",\"South Korea\",\"Turkey\",\"United States\",\"United Kingdom\",\"India\",\"South Korea\",\"United States\",\"India\",\"Brazil\",\"Brazil\",\"United States\",\"Mexico\",\"South Korea\",\"Turkey\",\"United States\",\"Spain\",\"United States\",\"Spain\",\"South Korea\",\"India\",\"Germany\",\"South Korea\",\"Canada\",\"South Korea\",\"Spain\",\"Chile\",\"United States\",\"United Kingdom\",\"South Korea\",\"Japan\",\"United Kingdom\",\"Italy\",\"West Germany\",\"United States\",\"Mexico\",\"United States\",\"India\",\"India\",\"India\",\"Spain\",\"Spain\",\"Canada\",\"United States\",\"Mexico\",\"France\",\"United Kingdom\",\"Brazil\",\"United States\",\"France\",\"India\",\"United States\",\"United States\",\"Germany\",\"Austria\",\"Germany\",\"Germany\",\"France\",\"United States\",\"Lebanon\",\"United States\",\"United States\",\"United Kingdom\",\"United States\",\"United States\",\"Canada\",\"United States\",\"United States\",\"India\",\"United States\",\"France\",\"United States\",\"India\",\"Mexico\",\"South Korea\",\"Japan\",\"United States\",\"Mexico\",\"United States\",\"United States\",\"France\",\"United States\",\"United States\",\"United Kingdom\",\"United States\",\"Germany\",\"South Korea\",\"United Kingdom\",\"South Korea\",\"South Korea\",\"South Korea\",\"China\",\"South Korea\",\"Japan\",\"South Korea\",\"United Kingdom\",\"South Korea\",\"Israel\",\"Canada\",\"Mexico\",\"United States\",\"United Kingdom\",\"United States\",\"United States\",\"United States\",\"Taiwan\",\"United States\",\"France\",\"United States\",\"United States\",\"United States\",\"United States\",\"France\",\"Canada\",\"Canada\",\"United States\",\"United States\",\"India\",\"United States\",\"Peru\",\"Taiwan\",\"Taiwan\",\"India\",\"United States\",\"Taiwan\",\"United States\",\"India\",\"Mexico\",\"United States\",\"United States\",\"United States\",\"India\",\"Mexico\",\"United States\",\"United States\",\"France\",\"Colombia\",\"United Kingdom\",\"Germany\",\"India\",\"United States\",\"France\",\"United States\",\"Iceland\",\"United Kingdom\",\"United States\",\"Austria\",\"United Kingdom\",\"Taiwan\",\"Taiwan\",\"Taiwan\",\"Taiwan\",\"Taiwan\",\"Taiwan\",\"United States\",\"United States\",\"Spain\",\"Canada\",\"Canada\",\"United Kingdom\",\"France\",\"France\",\"Canada\",\"France\",\"Spain\",\"United States\",\"United States\",\"France\",\"Japan\",\"Japan\",\"Japan\",\"France\",\"Japan\",\"United Kingdom\",\"Japan\",\"United States\",\"United States\",\"United States\",\"United States\",\"United States\",\"United States\",\"Ireland\",\"United States\",\"Taiwan\",\"Taiwan\",\"New Zealand\",\"Brazil\",\"Taiwan\",\"India\",\"Taiwan\",\"United States\",\"Chile\",\"Taiwan\",\"Spain\",\"United States\",\"United States\",\"United States\",\"Netherlands\",\"Taiwan\",\"India\",\"United States\",\"Italy\",\"Taiwan\",\"Denmark\",\"United States\",\"United States\",\"United States\",\"United States\",\"United States\",\"United States\",\"United States\",\"United States\",\"United States\",\"Canada\",\"United States\",\"United States\",\"United Kingdom\",\"United States\",\"United States\",\"United Kingdom\",\"United States\",\"United States\",\"United Kingdom\",\"United Kingdom\",\"United States\",\"United Kingdom\",\"Taiwan\",\"United Kingdom\",\"Japan\",\"United States\",\"United States\",\"United States\",\"United States\",\"United Kingdom\",\"United States\",\"United Kingdom\",\"United States\",\"United States\",\"United States\",\"United States\",\"United States\",\"United States\",\"United Kingdom\",\"United Kingdom\",\"United Kingdom\",\"United States\",\"Colombia\",\"United Kingdom\",\"United States\",\"United States\",\"United States\",\"United States\",\"United States\",\"Canada\",\"India\",\"Japan\",\"United States\",\"United States\",\"India\",\"United States\",\"Mexico\",\"United States\",\"China\",\"United States\",\"Japan\",\"Australia\",\"Australia\",\"United States\",\"United States\",\"Canada\",\"United States\",\"United States\",\"Belgium\",\"United States\",\"Japan\",\"United States\",\"Canada\",\"Japan\",\"United States\",\"Canada\",\"United Kingdom\",\"United Kingdom\",\"United States\",\"United States\",\"Japan\",\"China\",\"United States\",\"United States\",\"United States\",\"United States\",\"United States\",\"United States\",\"United States\",\"Mexico\",\"Hong Kong\",\"Hong Kong\",\"United States\",\"United States\",\"France\",\"United States\",\"United States\",\"Canada\",\"United States\",\"Japan\",\"United States\",\"United States\",\"United States\",\"United States\",\"United States\",\"United States\",\"United States\",\"United States\",\"United States\",\"United States\",\"United Kingdom\",\"United States\",\"United States\",\"United States\",\"United States\",\"United States\",\"United States\",\"United States\",\"United States\",\"Germany\",\"United States\",\"United States\",\"United States\",\"United States\",\"United States\",\"United Kingdom\",\"Mexico\",\"United States\",\"United States\",\"United States\",\"United States\",\"France\",\"United States\",\"United States\",\"United States\",\"United States\",\"United States\",\"United States\",\"United States\",\"Norway\",\"Canada\",\"United States\",\"United Kingdom\",\"United States\",\"United States\",\"United States\",\"United States\",\"United States\",\"United States\",\"United States\",\"United States\",\"United States\",\"United Kingdom\",\"United States\",\"United States\",\"United States\",\"United States\",\"United States\",\"United States\",\"United States\",\"United States\",\"United States\",\"United States\",\"United States\",\"United States\",\"United States\",\"United States\",\"United States\",\"United States\",\"United States\",\"United States\",\"Spain\",\"United States\",\"Denmark\",\"United States\",\"United States\",\"United States\",\"United States\",\"India\",\"India\",\"Nigeria\",\"United States\",\"Norway\",\"India\",\"United Kingdom\",\"India\",\"India\",\"India\",\"United States\",\"Canada\",\"Canada\",\"United States\",\"Iceland\",\"Turkey\",\"United States\",\"Turkey\",\"United States\",\"United States\",\"United States\",\"Spain\",\"United States\",\"United Kingdom\",\"United States\",\"South Korea\",\"United States\",\"United States\",\"Hong Kong\",\"United States\",\"United States\",\"United States\",\"United States\",\"United States\",\"United States\",\"South Korea\",\"United Kingdom\",\"United States\",\"United States\",\"India\",\"United States\",\"South Africa\",\"Argentina\",\"United Kingdom\",\"United States\",\"United States\",\"United States\",\"Indonesia\",\"Canada\",\"Egypt\",\"United States\",\"Denmark\",\"United States\",\"United States\",\"United States\",\"United States\",\"United States\",\"United States\",\"Indonesia\",\"New Zealand\",\"India\",\"United States\",\"India\",\"Pakistan\",\"United States\",\"United States\",\"India\",\"United States\",\"United States\",\"United Kingdom\",\"United States\",\"Netherlands\",\"Canada\",\"India\",\"United States\",\"Taiwan\",\"United States\",\"United States\",\"United States\",\"United States\",\"United States\",\"United States\",\"South Korea\",\"United States\",\"United Arab Emirates\",\"United States\",\"Brazil\",\"United States\",\"Netherlands\",\"United Kingdom\",\"United States\",\"United States\",\"Canada\",\"India\",\"Iran\",\"United States\",\"United States\",\"Israel\",\"United States\",\"United States\",\"United States\",\"India\",\"United States\",\"United States\",\"United States\",\"Canada\",\"United States\",\"Turkey\",\"India\",\"India\",\"India\",\"India\",\"India\",\"India\",\"Egypt\",\"India\",\"South Korea\",\"United States\",\"United Kingdom\",\"Argentina\",\"Mexico\",\"Canada\",\"United States\",\"United States\",\"Turkey\",\"Canada\",\"United States\",\"France\",\"Australia\",\"India\",\"Canada\",\"United Kingdom\",\"United States\",\"United States\",\"United States\",\"United States\",\"United Kingdom\",\"United Kingdom\",\"United States\",\"India\",\"India\",\"United States\",\"United Kingdom\",\"India\",\"India\",\"Egypt\",\"United States\",\"Spain\",\"United States\",\"United States\",\"United States\",\"Sweden\",\"United States\",\"Ireland\",\"Spain\",\"United States\",\"United States\",\"United States\",\"United Kingdom\",\"United Kingdom\",\"United States\",\"United States\",\"United States\",\"United Kingdom\",\"United States\",\"United States\",\"United Kingdom\",\"India\",\"Egypt\",\"United States\",\"United States\",\"United States\",\"United States\",\"United States\",\"United States\",\"United States\",\"United States\",\"United States\",\"Canada\",\"Canada\",\"United States\",\"United Kingdom\",\"United States\",\"United States\",\"United States\",\"United States\",\"United Kingdom\",\"India\",\"United States\",\"United States\",\"United States\",\"United States\",\"Egypt\",\"Taiwan\",\"United States\",\"Egypt\",\"India\",\"Spain\",\"United States\",\"United States\",\"United States\",\"United States\",\"India\",\"India\",\"India\",\"India\",\"United States\",\"Brazil\",\"United States\",\"Egypt\",\"United States\",\"United States\",\"India\",\"Japan\",\"United States\",\"United States\",\"United States\",\"France\",\"United States\",\"Egypt\",\"Indonesia\",\"United States\",\"United Kingdom\",\"United States\",\"United States\",\"United States\",\"South Korea\",\"United States\",\"Canada\",\"United States\",\"Canada\",\"United Kingdom\",\"Chile\",\"United Kingdom\",\"Australia\",\"Bulgaria\",\"United States\",\"Sweden\",\"India\",\"India\",\"Turkey\",\"France\",\"India\",\"Brazil\",\"Canada\",\"United States\",\"Australia\",\"United States\",\"United States\",\"United Kingdom\",\"Singapore\",\"United States\",\"India\",\"India\",\"United States\",\"Chile\",\"United States\",\"United States\",\"United States\",\"Pakistan\",\"Turkey\",\"United States\",\"United States\",\"Thailand\",\"United States\",\"Thailand\",\"Thailand\",\"Spain\",\"India\",\"Australia\",\"United States\",\"United States\",\"United States\",\"United States\",\"United States\",\"United States\",\"United States\",\"United States\",\"United States\",\"United States\",\"United States\",\"Chile\",\"India\",\"United States\",\"United States\",\"Italy\",\"United States\",\"United States\",\"United States\",\"United Kingdom\",\"India\",\"India\",\"United States\",\"United States\",\"Russia\",\"Germany\",\"United Kingdom\",\"United States\",\"Canada\",\"South Korea\",\"Canada\",\"United States\",\"United States\",\"United States\",\"Indonesia\",\"Egypt\",\"United Kingdom\",\"United States\",\"United States\",\"Japan\",\"United States\",\"United States\",\"Turkey\",\"India\",\"United Kingdom\",\"United States\",\"Canada\",\"United States\",\"United States\",\"United States\",\"United States\",\"Turkey\",\"Germany\",\"United States\",\"United States\",\"India\",\"Egypt\",\"Japan\",\"United States\",\"India\",\"India\",\"India\",\"India\",\"United States\",\"India\",\"India\",\"India\",\"United States\",\"United States\",\"United States\",\"United Kingdom\",\"United States\",\"United States\",\"Denmark\",\"United States\",\"United Kingdom\",\"United States\",\"United Kingdom\",\"United States\",\"India\",\"India\",\"Canada\",\"United States\",\"Vietnam\",\"Canada\",\"Spain\",\"India\",\"United States\",\"United States\",\"Turkey\",\"Spain\",\"United States\",\"United States\",\"United States\",\"Argentina\",\"United States\",\"United States\",\"United States\",\"United States\",\"Australia\",\"France\",\"Thailand\",\"France\",\"United States\",\"France\",\"United States\",\"United States\",\"United Kingdom\",\"United States\",\"Germany\",\"United States\",\"Canada\",\"United States\",\"United States\",\"Canada\",\"Denmark\",\"India\",\"United Kingdom\",\"Ireland\",\"United States\",\"United States\",\"United States\",\"Netherlands\",\"Australia\",\"United States\",\"India\",\"United States\",\"United Kingdom\",\"United States\",\"United Kingdom\",\"United Kingdom\",\"Canada\",\"Brazil\",\"United States\",\"United States\",\"United States\",\"United States\",\"United States\",\"United States\",\"United States\",\"India\",\"Australia\",\"United States\",\"United States\",\"United States\",\"United States\",\"China\",\"United States\",\"Canada\",\"Canada\",\"Canada\",\"United States\",\"Indonesia\",\"Netherlands\",\"United States\",\"United States\",\"United States\",\"United States\",\"South Korea\",\"United Kingdom\",\"United States\",\"United States\",\"Belgium\",\"United States\",\"United Kingdom\",\"Indonesia\",\"Argentina\",\"South Korea\",\"United Kingdom\",\"India\",\"United States\",\"United States\",\"United States\",\"Italy\",\"Mexico\",\"United States\",\"United States\",\"Canada\",\"United States\",\"South Korea\",\"United States\",\"United States\",\"France\",\"France\",\"India\",\"Ireland\",\"United States\",\"Philippines\",\"United Kingdom\",\"United States\",\"United States\",\"United States\",\"Japan\",\"United Kingdom\",\"Hong Kong\",\"Hong Kong\",\"United States\",\"United States\",\"China\",\"United States\",\"Canada\",\"Norway\",\"India\",\"United States\",\"India\",\"India\",\"India\",\"Pakistan\",\"Germany\",\"United States\",\"Indonesia\",\"United States\",\"United Kingdom\",\"United States\",\"United States\",\"India\",\"United States\",\"Canada\",\"Hong Kong\",\"United States\",\"India\",\"Australia\",\"United States\",\"South Korea\",\"United States\",\"United Kingdom\",\"United Kingdom\",\"United States\",\"United States\",\"United States\",\"India\",\"India\",\"United States\",\"Nigeria\",\"United States\",\"United States\",\"China\",\"United States\",\"United States\",\"United Kingdom\",\"United States\",\"United States\",\"United States\",\"United States\",\"Canada\",\"United States\",\"United States\",\"United States\",\"Argentina\",\"Malaysia\",\"Pakistan\",\"India\",\"United States\",\"United Kingdom\",\"Brazil\",\"United Kingdom\",\"United Kingdom\",\"United States\",\"United States\",\"United States\",\"United States\",\"India\",\"United States\",\"United States\",\"United Kingdom\",\"United States\",\"United Kingdom\",\"Germany\",\"France\",\"United States\",\"United States\",\"United States\",\"United States\",\"United States\",\"United States\",\"United States\",\"United States\",\"United States\",\"India\",\"United States\",\"United States\",\"India\",\"Germany\",\"India\",\"Canada\",\"United States\",\"United States\",\"United States\",\"India\",\"United Kingdom\",\"United States\",\"Czech Republic\",\"United States\",\"Vietnam\",\"Ireland\",\"Turkey\",\"India\",\"United States\",\"United States\",\"United States\",\"Canada\",\"United States\",\"United States\",\"Canada\",\"Australia\",\"United States\",\"United States\",\"India\",\"France\",\"Taiwan\",\"United States\",\"United States\",\"India\",\"Turkey\",\"United States\",\"United Kingdom\",\"United States\",\"United States\",\"Argentina\",\"India\",\"United States\",\"United States\",\"Australia\",\"Germany\",\"Germany\",\"Mexico\",\"United Kingdom\",\"United States\",\"United States\",\"Ireland\",\"India\",\"United Kingdom\",\"United States\",\"India\",\"India\",\"India\",\"United Kingdom\",\"China\",\"Taiwan\",\"United States\",\"Netherlands\",\"United States\",\"United Kingdom\",\"India\",\"United States\",\"United States\",\"India\",\"United States\",\"Canada\",\"United States\",\"United States\",\"United Kingdom\",\"United States\",\"Australia\",\"India\",\"United States\",\"United States\",\"Denmark\",\"United States\",\"United States\",\"United States\",\"United States\",\"Egypt\",\"United Kingdom\",\"United States\",\"Finland\",\"Canada\",\"India\",\"India\",\"United States\",\"India\",\"China\",\"United Kingdom\",\"United Kingdom\",\"France\",\"United Kingdom\",\"India\",\"United States\",\"United States\",\"Canada\",\"Hong Kong\",\"United States\",\"United States\",\"South Africa\",\"United States\",\"United States\",\"United States\",\"United States\",\"United States\",\"Denmark\",\"United States\",\"United States\",\"United States\",\"France\",\"France\",\"France\",\"United Kingdom\",\"United Kingdom\",\"United States\",\"United States\",\"United Kingdom\",\"United States\",\"Hong Kong\",\"United States\",\"United States\",\"United States\",\"France\",\"United States\",\"United States\",\"United States\",\"United States\",\"United States\",\"United States\",\"United States\",\"Germany\",\"Germany\",\"United States\",\"United States\",\"United States\",\"Pakistan\",\"India\",\"United States\",\"United Kingdom\",\"United States\",\"Brazil\",\"United Kingdom\",\"United States\",\"United States\",\"United States\",\"Taiwan\",\"United States\",\"United States\",\"India\",\"India\",\"India\",\"India\",\"United States\",\"Spain\",\"Colombia\",\"Colombia\",\"Mexico\",\"Venezuela\",\"United States\",\"Spain\",\"United States\",\"United States\",\"Netherlands\",\"United Kingdom\",\"United States\",\"France\",\"United States\",\"United States\",\"United Kingdom\",\"United States\",\"Indonesia\",\"Australia\",\"United States\",\"Canada\",\"United States\",\"United States\",\"India\",\"United Kingdom\",\"United States\",\"United States\",\"Canada\",\"United States\",\"Canada\",\"Hong Kong\",\"United States\",\"United States\",\"Poland\",\"Argentina\",\"Mexico\",\"India\",\"Italy\",\"United States\",\"United States\",\"United Kingdom\",\"United States\",\"Spain\",\"United Kingdom\",\"United States\",\"United Kingdom\",\"China\",\"United States\",\"United States\",\"Norway\",\"United States\",\"United States\",\"United States\",\"United Kingdom\",\"Turkey\",\"Turkey\",\"Turkey\",\"Turkey\",\"United States\",\"United States\",\"Japan\",\"United Kingdom\",\"India\",\"United States\",\"United States\",\"Germany\",\"India\",\"United States\",\"India\",\"Egypt\",\"United States\",\"United Kingdom\",\"United States\",\"India\",\"United States\",\"United States\",\"Nigeria\",\"United Kingdom\",\"United States\",\"Turkey\",\"United States\",\"Indonesia\",\"United States\",\"United States\",\"United States\",\"Italy\",\"India\",\"United States\",\"United Kingdom\",\"United Kingdom\",\"United States\",\"United States\",\"United States\",\"United Arab Emirates\",\"Hong Kong\",\"United States\",\"Canada\",\"Egypt\",\"United States\",\"South Korea\",\"Hong Kong\",\"United Arab Emirates\",\"United States\",\"United States\",\"Spain\",\"United States\",\"United States\",\"Mexico\",\"United Kingdom\",\"United States\",\"United States\",\"United States\",\"United Kingdom\",\"United States\",\"United Kingdom\",\"Brazil\",\"United Kingdom\",\"United Kingdom\",\"United States\",\"Germany\",\"Spain\",\"United Kingdom\",\"United States\",\"United States\",\"United States\",\"United States\",\"United States\",\"United States\",\"Egypt\",\"United States\",\"United States\",\"United States\",\"United States\",\"Germany\",\"Egypt\",\"France\",\"United States\",\"United Kingdom\",\"United Kingdom\",\"United Kingdom\",\"United States\",\"Canada\",\"United States\",\"Vietnam\",\"United States\",\"United States\",\"Brazil\",\"India\",\"Russia\",\"United States\",\"Indonesia\",\"Taiwan\",\"India\",\"United States\",\"Indonesia\",\"Indonesia\",\"Japan\",\"India\",\"India\",\"United States\",\"United Kingdom\",\"United Kingdom\",\"Sweden\",\"United States\",\"Italy\",\"United States\",\"United Kingdom\",\"United States\",\"United States\",\"United States\",\"India\",\"Thailand\",\"Japan\",\"United States\",\"Japan\",\"United States\",\"Japan\",\"India\",\"Indonesia\",\"United States\",\"United Kingdom\",\"Philippines\",\"United States\",\"United States\",\"United States\",\"United States\",\"China\",\"United States\",\"United States\",\"United Kingdom\",\"India\",\"Japan\",\"United Kingdom\",\"United States\",\"United States\",\"Australia\",\"India\",\"Italy\",\"United States\",\"Turkey\",\"United States\",\"United States\",\"United States\",\"Egypt\",\"United States\",\"United States\",\"United States\",\"United States\",\"United States\",\"United States\",\"United States\",\"United States\",\"United States\",\"India\",\"Germany\",\"United Kingdom\",\"Spain\",\"India\",\"United States\",\"United States\",\"United Kingdom\",\"United Kingdom\",\"United States\",\"Nigeria\",\"United States\",\"United States\",\"Canada\",\"United Kingdom\",\"Chile\",\"Turkey\",\"Turkey\",\"United States\",\"India\",\"Turkey\",\"United States\",\"United States\",\"United States\",\"India\",\"United States\",\"Egypt\",\"United States\",\"United States\",\"United States\",\"United Kingdom\",\"Taiwan\",\"United States\",\"Mexico\",\"United Kingdom\",\"United States\",\"United Kingdom\",\"Russia\",\"United States\",\"United States\",\"United States\",\"United States\",\"United Kingdom\",\"United States\",\"Malaysia\",\"United States\",\"United States\",\"United States\",\"India\",\"Indonesia\",\"United States\",\"United States\",\"Australia\",\"Canada\",\"United States\",\"Ireland\",\"United States\",\"United States\",\"United States\",\"Australia\",\"United States\",\"United States\",\"United States\",\"Canada\",\"United States\",\"United States\",\"United States\",\"Canada\",\"United States\",\"United States\",\"United States\",\"United States\",\"India\",\"United States\",\"Hong Kong\",\"Denmark\",\"United States\",\"South Korea\",\"India\",\"China\",\"Australia\",\"Canada\",\"United States\",\"United Kingdom\",\"United Kingdom\",\"India\",\"Argentina\",\"India\",\"Australia\",\"United States\",\"United Kingdom\",\"France\",\"Pakistan\",\"United States\",\"Turkey\",\"Australia\",\"United States\",\"United States\",\"Thailand\",\"Thailand\",\"India\",\"United States\",\"United States\",\"United States\",\"United States\",\"India\",\"United States\",\"United States\",\"Thailand\",\"United States\",\"United Kingdom\",\"India\",\"Ireland\",\"United States\",\"United States\",\"United States\",\"United Kingdom\",\"United States\",\"Belgium\",\"Poland\",\"United States\",\"United States\",\"United States\",\"Slovenia\",\"United States\",\"United States\",\"Mexico\",\"United States\",\"Canada\",\"United States\",\"United States\",\"United States\",\"India\",\"United States\",\"India\",\"India\",\"Pakistan\",\"United Kingdom\",\"Canada\",\"United States\",\"United Kingdom\",\"United States\",\"United States\",\"United States\",\"United States\",\"United States\",\"Argentina\",\"India\",\"United Kingdom\",\"United States\",\"United States\",\"Mexico\",\"China\",\"China\",\"United Kingdom\",\"United States\",\"United States\",\"United States\",\"Thailand\",\"United Kingdom\",\"United States\",\"United States\",\"United States\",\"Canada\",\"China\",\"India\",\"United States\",\"United States\",\"United States\",\"United States\",\"France\",\"Taiwan\",\"United States\",\"United Kingdom\",\"Turkey\",\"Serbia\",\"India\",\"United Kingdom\",\"United States\",\"United States\",\"India\",\"United Kingdom\",\"United States\",\"United States\",\"United States\",\"United States\",\"United States\",\"United States\",\"United Kingdom\",\"Germany\",\"Germany\",\"India\",\"United Kingdom\",\"United States\",\"Israel\",\"United Kingdom\",\"Mexico\",\"Canada\",\"United States\",\"Canada\",\"Japan\",\"Japan\",\"Japan\",\"United States\",\"Canada\",\"South Africa\",\"India\",\"India\",\"United States\",\"United States\",\"Canada\",\"India\",\"United Kingdom\",\"South Korea\",\"India\",\"United States\",\"United States\",\"Spain\",\"Egypt\",\"United States\",\"United States\",\"India\",\"France\",\"Canada\",\"United States\",\"United States\",\"Vietnam\",\"India\",\"United States\",\"India\",\"India\",\"Pakistan\",\"Japan\",\"United States\",\"Poland\",\"United States\",\"United States\",\"United States\",\"United States\",\"Ireland\",\"United States\",\"India\",\"United States\",\"Russia\",\"United States\",\"United States\",\"United Kingdom\",\"India\",\"United States\",\"India\",\"United States\",\"United States\",\"United Kingdom\",\"India\",\"Chile\",\"Mexico\",\"India\",\"United States\",\"United States\",\"United States\",\"United States\",\"United States\",\"United States\",\"United States\",\"Germany\",\"Hong Kong\",\"United States\",\"Japan\",\"United Kingdom\",\"Turkey\",\"India\",\"India\",\"India\",\"India\",\"India\",\"India\",\"United States\",\"India\",\"United Kingdom\",\"India\",\"India\",\"India\",\"United States\",\"India\",\"United States\",\"India\",\"India\",\"United States\",\"United States\",\"United States\",\"United States\",\"United States\",\"United States\",\"United States\",\"Pakistan\",\"India\",\"India\",\"India\",\"India\",\"India\",\"India\",\"India\",\"India\",\"United States\",\"United States\",\"United States\",\"Philippines\",\"Netherlands\",\"United States\",\"United States\",\"United Kingdom\",\"France\",\"United States\",\"United States\",\"United States\",\"United States\",\"Hungary\",\"United Kingdom\",\"United States\",\"United States\",\"United States\",\"United States\",\"France\",\"India\",\"United States\",\"United States\",\"United Kingdom\",\"Malaysia\",\"Japan\",\"United States\",\"United States\",\"United States\",\"United Kingdom\",\"United States\",\"United Kingdom\",\"India\",\"Norway\",\"United States\",\"United States\",\"United States\",\"United States\",\"India\",\"United States\",\"United States\",\"United States\",\"United States\",\"United States\",\"United States\",\"United States\",\"India\",\"Hong Kong\",\"Mexico\",\"United States\",\"China\",\"United States\",\"United Kingdom\",\"Turkey\",\"Turkey\",\"India\",\"United States\",\"India\",\"Argentina\",\"United States\",\"United States\",\"Italy\",\"United States\",\"Mexico\",\"Mexico\",\"Colombia\",\"India\",\"Thailand\",\"Hong Kong\",\"United States\",\"United States\",\"Colombia\",\"India\",\"United Kingdom\",\"United States\",\"South Korea\",\"United States\",\"United Kingdom\",\"United States\",\"France\",\"France\",\"United States\",\"United States\",\"United States\",\"United States\",\"United States\",\"United Kingdom\",\"India\",\"United States\",\"United States\",\"China\",\"Hong Kong\",\"United States\",\"United States\",\"United States\",\"Denmark\",\"United States\",\"Denmark\",\"United States\",\"United States\",\"France\",\"United States\",\"Turkey\",\"United States\",\"Canada\",\"United States\",\"United States\",\"United States\",\"United Kingdom\",\"Canada\",\"Hong Kong\",\"United States\",\"Mexico\",\"United States\",\"United Kingdom\",\"United States\",\"Egypt\",\"United States\",\"Hong Kong\",\"Australia\",\"Australia\",\"United States\",\"United States\",\"United States\",\"United States\",\"United States\",\"United States\",\"United States\",\"United States\",\"United States\",\"Spain\",\"Mexico\",\"United Kingdom\",\"United Kingdom\",\"France\",\"Mexico\",\"United States\",\"South Korea\",\"United Kingdom\",\"United Kingdom\",\"Canada\",\"Hong Kong\",\"Germany\",\"India\",\"United States\",\"United States\",\"Colombia\",\"United States\",\"Canada\",\"Taiwan\",\"United States\",\"Hong Kong\",\"India\",\"Hong Kong\",\"South Korea\",\"United States\",\"United States\",\"Egypt\",\"Indonesia\",\"United Kingdom\",\"Germany\",\"United States\",\"United States\",\"Hong Kong\",\"Argentina\",\"China\",\"India\",\"India\",\"Argentina\",\"India\",\"India\",\"United States\",\"India\",\"Australia\",\"United States\",\"United States\",\"United States\",\"Hong Kong\",\"India\",\"United States\",\"Chile\",\"Italy\",\"Japan\",\"France\",\"France\",\"Norway\",\"India\",\"India\",\"India\",\"India\",\"Hong Kong\",\"Turkey\",\"India\",\"India\",\"India\",\"United States\",\"United States\",\"United Kingdom\",\"United States\",\"India\",\"India\",\"United States\",\"United States\",\"United States\",\"United Kingdom\",\"United Kingdom\",\"India\",\"India\",\"United Kingdom\",\"Canada\",\"United States\",\"United States\",\"India\",\"United States\",\"United States\",\"Hong Kong\",\"United States\",\"United States\",\"India\",\"United States\",\"United States\",\"Japan\",\"United States\",\"United Kingdom\",\"India\",\"South Korea\",\"Argentina\",\"India\",\"United States\",\"Hong Kong\",\"Egypt\",\"United States\",\"United States\",\"India\",\"Mexico\",\"Canada\",\"United States\",\"Canada\",\"Poland\",\"United Kingdom\",\"United Kingdom\",\"Australia\",\"India\",\"United States\",\"United States\",\"South Korea\",\"Germany\",\"United States\",\"United States\",\"Canada\",\"Indonesia\",\"United States\",\"Spain\",\"Nigeria\",\"United States\",\"India\",\"United Kingdom\",\"United States\",\"India\",\"United States\",\"United States\",\"United States\",\"France\",\"India\",\"United States\",\"Canada\",\"United States\",\"India\",\"Mexico\",\"Japan\",\"Norway\",\"United States\",\"United States\",\"Taiwan\",\"United States\",\"United States\",\"United States\",\"United Kingdom\",\"Malaysia\",\"United States\",\"India\",\"United States\",\"United States\",\"Nigeria\",\"China\",\"South Korea\",\"United States\",\"United States\",\"United States\",\"United States\",\"United Kingdom\",\"Canada\",\"Egypt\",\"Germany\",\"United States\",\"United States\",\"United States\",\"United States\",\"United States\",\"United States\",\"United States\",\"United States\",\"United States\",\"United States\",\"United States\",\"United States\",\"United States\",\"Canada\",\"United States\",\"United Kingdom\",\"United Kingdom\",\"United Kingdom\",\"United States\",\"France\",\"Pakistan\",\"Germany\",\"United States\",\"India\",\"India\",\"Australia\",\"United States\",\"United States\",\"United States\",\"Israel\",\"Hong Kong\",\"United States\",\"Canada\",\"Egypt\",\"United States\",\"India\",\"France\",\"United States\",\"United States\",\"United States\",\"Spain\",\"United States\",\"Canada\",\"India\",\"United States\",\"Egypt\",\"United States\",\"Canada\",\"United Kingdom\",\"Switzerland\",\"United States\",\"United States\",\"United States\",\"United States\",\"Hong Kong\",\"United Kingdom\",\"United States\",\"United Kingdom\",\"Thailand\",\"United Kingdom\",\"United States\",\"United States\",\"India\",\"United States\",\"Italy\",\"Ireland\",\"United States\",\"India\",\"United States\",\"Japan\",\"United States\",\"United States\",\"United States\",\"United States\",\"United States\",\"India\",\"United States\",\"United States\",\"United Kingdom\",\"United States\",\"United States\",\"United States\",\"United States\",\"United Kingdom\",\"United Kingdom\",\"United States\",\"United States\",\"Chile\",\"United States\",\"United States\",\"United States\",\"United States\",\"India\",\"United States\",\"United States\",\"United States\",\"United States\",\"United States\",\"Japan\",\"Canada\",\"India\",\"Chile\",\"United States\",\"Norway\",\"United States\",\"India\",\"United States\",\"United Kingdom\",\"United States\",\"United States\",\"United States\",\"United States\",\"United States\",\"United States\",\"United States\",\"United States\",\"United States\",\"United States\",\"United States\",\"United States\",\"United States\",\"United States\",\"United States\",\"United States\",\"United States\",\"United States\",\"United States\",\"United States\",\"United States\",\"United States\",\"United States\",\"United States\",\"United Kingdom\",\"Germany\",\"United States\",\"Israel\",\"Italy\",\"Japan\",\"United States\",\"United Kingdom\",\"Denmark\",\"Denmark\",\"United States\",\"United Kingdom\",\"United States\",\"France\",\"Australia\",\"United States\",\"United States\",\"United States\",\"Hong Kong\",\"Spain\",\"United States\",\"Thailand\",\"Thailand\",\"United States\",\"Canada\",\"United States\",\"United States\",\"France\",\"Egypt\",\"Hong Kong\",\"Brazil\",\"India\",\"United States\",\"United States\",\"United States\",\"United States\",\"United Kingdom\",\"Italy\",\"Thailand\",\"United States\",\"India\",\"United States\",\"United States\",\"India\",\"United States\",\"Denmark\",\"Australia\",\"United States\",\"South Korea\",\"United Kingdom\",\"China\",\"United States\",\"United Kingdom\",\"South Korea\",\"China\",\"United States\",\"Hong Kong\",\"United States\",\"India\",\"Australia\",\"India\",\"United Kingdom\",\"Canada\",\"China\",\"United Kingdom\",\"United Kingdom\",\"India\",\"United States\",\"United States\",\"India\",\"Venezuela\",\"Australia\",\"Thailand\",\"United States\",\"United States\",\"Hong Kong\",\"United States\",\"United Kingdom\",\"Spain\",\"United States\",\"India\",\"Canada\",\"United States\",\"Canada\",\"India\",\"India\",\"United States\",\"United States\",\"Colombia\",\"United States\",\"India\",\"United States\",\"United States\",\"Turkey\",\"United States\",\"India\",\"United States\",\"India\",\"Thailand\",\"United States\",\"United States\",\"Malaysia\",\"United Kingdom\",\"Ireland\",\"United States\",\"Canada\",\"United States\",\"United States\",\"France\",\"United States\",\"United States\",\"United States\",\"France\",\"United States\",\"India\",\"Thailand\",\"Nigeria\",\"India\",\"United States\",\"United States\",\"India\",\"United States\",\"India\",\"Argentina\",\"France\",\"United Kingdom\",\"United Kingdom\",\"United States\",\"France\",\"United States\",\"United States\",\"Canada\",\"Switzerland\",\"United States\",\"United States\",\"Portugal\",\"United Kingdom\",\"India\",\"United States\",\"United States\",\"United States\",\"United States\",\"United States\",\"United States\",\"France\",\"United States\",\"United States\",\"United States\",\"United States\",\"United States\",\"United States\",\"United States\",\"United States\",\"United States\",\"United States\",\"United States\",\"United States\",\"United States\",\"United States\",\"United States\",\"United States\",\"United States\",\"United States\",\"United States\",\"United States\",\"United States\",\"United States\",\"India\",\"United States\",\"India\",\"United States\",\"United States\",\"Hong Kong\",\"United States\",\"United States\",\"United States\",\"United States\",\"Canada\",\"Argentina\",\"India\",\"United States\",\"Canada\",\"United Kingdom\",\"India\",\"India\",\"United States\",\"United States\",\"United Kingdom\",\"Taiwan\",\"United States\",\"United States\",\"United States\",\"United States\",\"United States\",\"United States\",\"United States\",\"Brazil\",\"India\",\"United States\",\"India\",\"United States\",\"China\",\"India\",\"India\",\"United States\",\"India\",\"India\",\"Singapore\",\"India\",\"South Korea\",\"India\",\"Pakistan\",\"United States\",\"India\",\"Egypt\",\"India\",\"United States\",\"United States\",\"Mexico\",\"Canada\",\"United States\",\"Australia\",\"United States\",\"India\",\"United Kingdom\",\"United States\",\"Egypt\",\"United Kingdom\",\"United States\",\"Malaysia\",\"Canada\",\"United States\",\"United Kingdom\",\"Canada\",\"Germany\",\"United States\",\"United States\",\"Hong Kong\",\"India\",\"United States\",\"Hong Kong\",\"United Kingdom\",\"United States\",\"Mexico\",\"United States\",\"United States\",\"India\",\"United Kingdom\",\"India\",\"India\",\"India\",\"India\",\"Nigeria\",\"Italy\",\"United Kingdom\",\"United States\",\"United States\",\"United States\",\"United States\",\"United States\",\"United States\",\"United States\",\"Egypt\",\"United States\",\"United States\",\"India\",\"Ireland\",\"Canada\",\"United Kingdom\",\"Thailand\",\"United States\",\"United States\",\"United States\",\"United States\",\"Mexico\",\"India\",\"Mexico\",\"Hong Kong\",\"United States\",\"India\",\"United States\",\"United States\",\"United States\",\"Japan\",\"United States\",\"United States\",\"United States\",\"India\",\"Italy\",\"United States\",\"India\",\"Italy\",\"Turkey\",\"Canada\",\"India\",\"Pakistan\",\"India\",\"United States\",\"India\",\"India\",\"India\",\"Egypt\",\"India\",\"India\",\"Egypt\",\"South Africa\",\"United States\",\"United States\",\"India\",\"India\",\"United States\",\"Australia\",\"France\",\"Canada\",\"Australia\",\"India\",\"India\",\"India\",\"United States\",\"United States\",\"India\",\"India\",\"United States\",\"United States\",\"Egypt\",\"United States\",\"United States\",\"United States\",\"United States\",\"United States\",\"United States\",\"Italy\",\"United States\",\"United States\",\"United States\",\"United States\",\"United States\",\"United States\",\"United States\",\"United States\",\"United States\",\"United States\",\"Sweden\",\"United States\",\"Hong Kong\",\"South Korea\",\"United States\",\"United States\",\"United States\",\"United States\",\"United Kingdom\",\"United States\",\"United Kingdom\",\"United States\",\"United Kingdom\",\"United Kingdom\",\"United States\",\"Turkey\",\"United Kingdom\",\"Canada\",\"Guatemala\",\"Ukraine\",\"United States\",\"United States\",\"United States\",\"United Kingdom\",\"Mexico\",\"United States\",\"Israel\",\"India\",\"Italy\",\"India\",\"India\",\"India\",\"Hong Kong\",\"United States\",\"India\",\"United States\",\"United States\",\"United Kingdom\",\"United States\",\"India\",\"United States\",\"Australia\",\"Australia\",\"India\",\"United States\",\"United States\",\"United Kingdom\",\"India\",\"Thailand\",\"Italy\",\"United States\",\"India\",\"United States\",\"Canada\",\"United States\",\"Russia\",\"Colombia\",\"United States\",\"India\",\"Indonesia\",\"Switzerland\",\"Peru\",\"United States\",\"United States\",\"Thailand\",\"United States\",\"United States\",\"China\",\"China\",\"United States\",\"United States\",\"United States\",\"United States\",\"United States\",\"United States\",\"United States\",\"United Kingdom\",\"United States\",\"United States\",\"United States\",\"United States\",\"United States\",\"India\",\"United States\",\"Indonesia\",\"Mexico\",\"United States\",\"United States\",\"Czech Republic\",\"United States\",\"United States\",\"Australia\",\"United States\",\"Thailand\",\"United States\",\"United States\",\"United Kingdom\",\"United States\",\"United States\",\"United States\",\"United States\",\"United Kingdom\",\"United States\",\"United States\",\"United Kingdom\",\"United States\",\"United States\",\"United States\",\"Jamaica\",\"United States\",\"United States\",\"United States\",\"Spain\",\"United States\",\"United States\",\"Canada\",\"Canada\",\"United States\",\"United States\",\"United Kingdom\",\"Switzerland\",\"United States\",\"United States\",\"Egypt\",\"United States\",\"India\",\"Thailand\",\"United States\",\"United States\",\"South Korea\",\"United States\",\"Australia\",\"United States\",\"India\",\"United States\",\"Canada\",\"United States\",\"France\",\"Australia\",\"Netherlands\",\"United States\",\"United States\",\"South Korea\",\"Brazil\",\"United States\",\"United States\",\"United States\",\"Italy\",\"Thailand\",\"India\",\"Israel\",\"United Kingdom\",\"South Korea\",\"United States\",\"Denmark\",\"India\",\"India\",\"India\",\"United States\",\"India\",\"United States\",\"United States\",\"United States\",\"United States\",\"United Kingdom\",\"United States\",\"Indonesia\",\"United States\",\"United States\",\"United States\",\"United States\",\"India\",\"United States\",\"United States\",\"United States\",\"United States\",\"China\",\"Hong Kong\",\"United States\",\"India\",\"India\",\"United States\",\"France\",\"United Kingdom\",\"India\",\"France\",\"United States\",\"United States\",\"Egypt\",\"United States\",\"United States\",\"India\",\"United States\",\"Hong Kong\",\"United States\",\"United States\",\"India\",\"United States\",\"Argentina\",\"Hong Kong\",\"Mexico\",\"United States\",\"United States\",\"France\",\"United States\",\"India\",\"United Kingdom\",\"India\",\"India\",\"United States\",\"United States\",\"United States\",\"Mexico\",\"Canada\",\"United States\",\"United States\",\"Canada\",\"United States\",\"United States\",\"Argentina\",\"South Korea\",\"United States\",\"United States\",\"United States\",\"Finland\",\"United States\",\"Egypt\",\"Singapore\",\"Spain\",\"Canada\",\"United States\",\"France\",\"United Kingdom\",\"United States\",\"United States\",\"United Kingdom\",\"United States\",\"Hong Kong\",\"United States\",\"United States\",\"United States\",\"Brazil\",\"United Kingdom\",\"United Kingdom\",\"United States\",\"United States\",\"Canada\",\"United States\",\"United Kingdom\",\"United States\",\"United Kingdom\",\"United States\",\"France\",\"United States\",\"United States\",\"United States\",\"United Kingdom\",\"United States\",\"United States\",\"Ireland\",\"United States\",\"Nigeria\",\"United States\",\"United States\",\"United States\",\"Hong Kong\",\"United States\",\"United States\",\"Israel\",\"India\",\"Canada\",\"United States\",\"United States\",\"United States\",\"Egypt\",\"Nigeria\",\"United States\",\"Australia\",\"Egypt\",\"Spain\",\"Mexico\",\"United Kingdom\",\"United States\",\"United States\",\"United Kingdom\",\"United States\",\"United States\",\"Canada\",\"Israel\",\"Egypt\",\"United States\",\"South Korea\",\"United States\",\"United States\",\"Poland\",\"United Kingdom\",\"United States\",\"United Kingdom\",\"India\",\"Indonesia\",\"United States\",\"India\",\"United Kingdom\",\"Australia\",\"Austria\",\"Canada\",\"United States\",\"Argentina\",\"United States\",\"Italy\",\"United States\",\"Japan\",\"United States\",\"United States\",\"Indonesia\",\"United States\",\"Canada\",\"United States\",\"United States\",\"United States\",\"United Kingdom\",\"United States\",\"United States\",\"United States\",\"United States\",\"United Kingdom\",\"United States\",\"United Kingdom\",\"United Kingdom\",\"United States\",\"United States\",\"Nigeria\",\"United States\",\"United States\",\"Brazil\",\"United States\",\"United Kingdom\",\"Hong Kong\",\"United States\",\"United States\",\"Hong Kong\",\"United States\",\"United States\",\"United Kingdom\",\"United Kingdom\",\"United States\",\"United States\",\"New Zealand\",\"United States\",\"United Kingdom\",\"Norway\",\"Indonesia\",\"United States\",\"United States\",\"United States\",\"India\",\"Israel\",\"United States\",\"United States\",\"United States\",\"United Kingdom\",\"United States\",\"United States\",\"United States\",\"South Korea\",\"United Kingdom\",\"India\",\"United States\",\"United Kingdom\",\"United States\",\"United States\",\"United States\",\"United States\",\"Spain\",\"Canada\",\"United States\",\"Canada\",\"Spain\",\"United States\",\"United States\",\"Thailand\",\"United States\",\"United States\",\"India\",\"India\",\"Canada\",\"United States\",\"United Kingdom\",\"United Kingdom\",\"United States\",\"United Kingdom\",\"United Kingdom\",\"Mexico\",\"Denmark\",\"United States\",\"United States\",\"United States\",\"United Kingdom\",\"United Kingdom\",\"United States\",\"United Kingdom\",\"United States\",\"United States\",\"United Kingdom\",\"France\",\"United States\",\"United States\",\"India\",\"Indonesia\",\"United States\",\"United States\",\"United Kingdom\",\"Canada\",\"South Korea\",\"United States\",\"United States\",\"Belgium\",\"Australia\",\"France\",\"United States\",\"Brazil\",\"United Kingdom\",\"United States\",\"United States\",\"United States\",\"India\",\"United States\",\"Canada\",\"United States\",\"France\",\"Germany\",\"United States\",\"Ireland\",\"Ireland\",\"United States\",\"United States\",\"United States\",\"Denmark\",\"New Zealand\",\"New Zealand\",\"United Kingdom\",\"United Kingdom\",\"Poland\",\"Hong Kong\",\"United States\",\"United Kingdom\",\"United States\",\"United States\",\"United States\",\"United States\",\"United States\",\"United States\",\"South Korea\",\"United States\",\"United States\",\"United States\",\"United States\",\"France\",\"Spain\",\"Denmark\",\"United States\",\"New Zealand\",\"United States\",\"Sweden\",\"United States\",\"United Kingdom\",\"Italy\",\"United States\",\"United States\",\"United States\",\"United States\",\"United States\",\"Canada\",\"United States\",\"Germany\",\"United States\",\"United States\",\"United States\",\"Philippines\",\"United States\",\"United Kingdom\",\"United Kingdom\",\"United States\",\"United States\",\"United States\",\"United States\",\"United Kingdom\",\"Germany\",\"United States\",\"United States\",\"Somalia\",\"United Kingdom\",\"United States\",\"India\",\"Egypt\",\"United States\",\"Canada\",\"South Korea\",\"United States\",\"United States\",\"United States\",\"South Korea\",\"United States\",\"United States\",\"United States\",\"Canada\",\"Indonesia\",\"United States\",\"United States\",\"India\",\"United Kingdom\",\"United States\",\"United States\",\"United States\",\"New Zealand\",\"United States\",\"France\",\"United Kingdom\",\"Serbia\",\"Egypt\",\"United States\",\"United Kingdom\",\"United States\",\"United States\",\"Russia\",\"United Kingdom\",\"United States\",\"Australia\",\"United States\",\"United States\",\"Denmark\",\"Australia\",\"Germany\",\"United States\",\"United States\",\"United States\",\"United States\",\"United States\",\"India\",\"United States\",\"Italy\",\"United States\",\"Mexico\",\"Indonesia\",\"Ukraine\",\"United States\",\"United States\",\"United States\",\"Poland\",\"United States\",\"United Kingdom\",\"United States\",\"United States\",\"United States\",\"United States\",\"United Kingdom\",\"United States\",\"United States\",\"United States\",\"United States\",\"United States\",\"United States\",\"Egypt\",\"United States\",\"United Kingdom\",\"United States\",\"United States\",\"United States\",\"United States\",\"United States\",\"United Kingdom\",\"United States\",\"United Kingdom\",\"Ireland\",\"United States\",\"United States\",\"United States\",\"Thailand\",\"United States\",\"United States\",\"Belgium\",\"United States\",\"United States\",\"United States\",\"Egypt\",\"United States\",\"Australia\",\"New Zealand\",\"United States\",\"Philippines\",\"Nigeria\",\"United States\",\"United Kingdom\",\"United States\",\"China\",\"United Kingdom\",\"Israel\",\"France\",\"United Kingdom\",\"United Kingdom\",\"Canada\",\"Taiwan\",\"Ireland\",\"Hong Kong\",\"Canada\",\"India\",\"United States\",\"United States\",\"Thailand\",\"South Korea\",\"China\",\"Belgium\",\"India\",\"Thailand\",\"United States\",\"United States\",\"United Kingdom\",\"United Kingdom\",\"Hong Kong\",\"United States\",\"United States\",\"United States\",\"China\",\"China\",\"India\",\"India\",\"United States\",\"United States\",\"United States\",\"United States\",\"Germany\",\"United States\",\"United States\",\"United Kingdom\",\"Canada\",\"United Kingdom\",\"United States\",\"United Kingdom\",\"United Kingdom\",\"United States\",\"India\",\"United States\",\"United States\",\"United States\",\"United States\",\"India\",\"Thailand\",\"South Korea\",\"United Kingdom\",\"United States\",\"United Kingdom\",\"United Kingdom\",\"United States\",\"United Kingdom\",\"Canada\",\"United States\",\"United States\",\"United States\",\"United States\",\"South Africa\",\"United States\",\"United Kingdom\",\"India\",\"India\",\"India\",\"United States\",\"United Kingdom\",\"Russia\",\"United States\",\"United States\",\"United States\",\"United States\",\"Canada\",\"India\",\"United States\",\"United States\",\"United States\",\"Japan\",\"United States\",\"United States\",\"United Kingdom\",\"India\",\"United Kingdom\",\"Canada\",\"Australia\",\"United States\",\"India\",\"Thailand\",\"United Kingdom\",\"United States\",\"United States\",\"United States\",\"Switzerland\",\"Canada\",\"United States\",\"United Kingdom\",\"Canada\",\"Egypt\",\"United States\",\"India\",\"Egypt\",\"United States\",\"United States\",\"United States\",\"United States\",\"India\",\"India\",\"United States\",\"United Kingdom\",\"United States\",\"United Kingdom\",\"United States\",\"United States\",\"United States\",\"India\",\"India\",\"Turkey\",\"India\",\"South Korea\",\"United Kingdom\",\"Pakistan\",\"India\",\"India\",\"United States\",\"United States\",\"United States\",\"United Kingdom\",\"United States\",\"United States\",\"India\",\"United States\",\"United Kingdom\",\"Egypt\",\"Mexico\",\"Poland\",\"United States\",\"United States\",\"United Kingdom\",\"United States\",\"Spain\",\"United States\",\"United States\",\"United States\",\"Poland\",\"United States\",\"Hong Kong\",\"United Kingdom\",\"India\",\"United States\",\"United States\",\"United States\",\"Poland\",\"United States\",\"China\",\"Turkey\",\"Taiwan\",\"United States\",\"United Kingdom\",\"United States\",\"Indonesia\",\"United States\",\"United Kingdom\",\"Peru\",\"Germany\",\"United States\",\"United States\",\"United Kingdom\",\"United Kingdom\",\"United States\",\"United States\",\"Taiwan\",\"United Kingdom\",\"Canada\",\"United States\",\"United Kingdom\",\"United Kingdom\",\"United States\",\"United States\",\"United Kingdom\",\"United States\",\"France\",\"United States\",\"Australia\",\"Turkey\",\"United States\",\"United States\",\"United States\",\"Canada\",\"United States\",\"United States\",\"United States\",\"United States\",\"United Kingdom\",\"United States\",\"United States\",\"Pakistan\",\"India\",\"United States\",\"United States\",\"Canada\",\"United States\",\"United States\",\"Mexico\",\"India\",\"India\",\"India\",\"India\",\"India\",\"Egypt\",\"India\",\"France\",\"Thailand\",\"Thailand\",\"Thailand\",\"United States\",\"Japan\",\"United States\",\"United States\",\"Russia\",\"United States\",\"United Kingdom\",\"United States\",\"Croatia\",\"Philippines\",\"United States\",\"United States\",\"Hong Kong\",\"United States\",\"Egypt\",\"Japan\",\"Turkey\",\"United States\",\"India\",\"India\",\"Pakistan\",\"United Arab Emirates\",\"United States\",\"United States\",\"United States\",\"United States\",\"India\"],\"xaxis\":\"x\",\"yaxis\":\"y\",\"type\":\"histogram\"}],                        {\"template\":{\"data\":{\"histogram2dcontour\":[{\"type\":\"histogram2dcontour\",\"colorbar\":{\"outlinewidth\":0,\"ticks\":\"\"},\"colorscale\":[[0.0,\"#0d0887\"],[0.1111111111111111,\"#46039f\"],[0.2222222222222222,\"#7201a8\"],[0.3333333333333333,\"#9c179e\"],[0.4444444444444444,\"#bd3786\"],[0.5555555555555556,\"#d8576b\"],[0.6666666666666666,\"#ed7953\"],[0.7777777777777778,\"#fb9f3a\"],[0.8888888888888888,\"#fdca26\"],[1.0,\"#f0f921\"]]}],\"choropleth\":[{\"type\":\"choropleth\",\"colorbar\":{\"outlinewidth\":0,\"ticks\":\"\"}}],\"histogram2d\":[{\"type\":\"histogram2d\",\"colorbar\":{\"outlinewidth\":0,\"ticks\":\"\"},\"colorscale\":[[0.0,\"#0d0887\"],[0.1111111111111111,\"#46039f\"],[0.2222222222222222,\"#7201a8\"],[0.3333333333333333,\"#9c179e\"],[0.4444444444444444,\"#bd3786\"],[0.5555555555555556,\"#d8576b\"],[0.6666666666666666,\"#ed7953\"],[0.7777777777777778,\"#fb9f3a\"],[0.8888888888888888,\"#fdca26\"],[1.0,\"#f0f921\"]]}],\"heatmap\":[{\"type\":\"heatmap\",\"colorbar\":{\"outlinewidth\":0,\"ticks\":\"\"},\"colorscale\":[[0.0,\"#0d0887\"],[0.1111111111111111,\"#46039f\"],[0.2222222222222222,\"#7201a8\"],[0.3333333333333333,\"#9c179e\"],[0.4444444444444444,\"#bd3786\"],[0.5555555555555556,\"#d8576b\"],[0.6666666666666666,\"#ed7953\"],[0.7777777777777778,\"#fb9f3a\"],[0.8888888888888888,\"#fdca26\"],[1.0,\"#f0f921\"]]}],\"heatmapgl\":[{\"type\":\"heatmapgl\",\"colorbar\":{\"outlinewidth\":0,\"ticks\":\"\"},\"colorscale\":[[0.0,\"#0d0887\"],[0.1111111111111111,\"#46039f\"],[0.2222222222222222,\"#7201a8\"],[0.3333333333333333,\"#9c179e\"],[0.4444444444444444,\"#bd3786\"],[0.5555555555555556,\"#d8576b\"],[0.6666666666666666,\"#ed7953\"],[0.7777777777777778,\"#fb9f3a\"],[0.8888888888888888,\"#fdca26\"],[1.0,\"#f0f921\"]]}],\"contourcarpet\":[{\"type\":\"contourcarpet\",\"colorbar\":{\"outlinewidth\":0,\"ticks\":\"\"}}],\"contour\":[{\"type\":\"contour\",\"colorbar\":{\"outlinewidth\":0,\"ticks\":\"\"},\"colorscale\":[[0.0,\"#0d0887\"],[0.1111111111111111,\"#46039f\"],[0.2222222222222222,\"#7201a8\"],[0.3333333333333333,\"#9c179e\"],[0.4444444444444444,\"#bd3786\"],[0.5555555555555556,\"#d8576b\"],[0.6666666666666666,\"#ed7953\"],[0.7777777777777778,\"#fb9f3a\"],[0.8888888888888888,\"#fdca26\"],[1.0,\"#f0f921\"]]}],\"surface\":[{\"type\":\"surface\",\"colorbar\":{\"outlinewidth\":0,\"ticks\":\"\"},\"colorscale\":[[0.0,\"#0d0887\"],[0.1111111111111111,\"#46039f\"],[0.2222222222222222,\"#7201a8\"],[0.3333333333333333,\"#9c179e\"],[0.4444444444444444,\"#bd3786\"],[0.5555555555555556,\"#d8576b\"],[0.6666666666666666,\"#ed7953\"],[0.7777777777777778,\"#fb9f3a\"],[0.8888888888888888,\"#fdca26\"],[1.0,\"#f0f921\"]]}],\"mesh3d\":[{\"type\":\"mesh3d\",\"colorbar\":{\"outlinewidth\":0,\"ticks\":\"\"}}],\"scatter\":[{\"fillpattern\":{\"fillmode\":\"overlay\",\"size\":10,\"solidity\":0.2},\"type\":\"scatter\"}],\"parcoords\":[{\"type\":\"parcoords\",\"line\":{\"colorbar\":{\"outlinewidth\":0,\"ticks\":\"\"}}}],\"scatterpolargl\":[{\"type\":\"scatterpolargl\",\"marker\":{\"colorbar\":{\"outlinewidth\":0,\"ticks\":\"\"}}}],\"bar\":[{\"error_x\":{\"color\":\"#2a3f5f\"},\"error_y\":{\"color\":\"#2a3f5f\"},\"marker\":{\"line\":{\"color\":\"#E5ECF6\",\"width\":0.5},\"pattern\":{\"fillmode\":\"overlay\",\"size\":10,\"solidity\":0.2}},\"type\":\"bar\"}],\"scattergeo\":[{\"type\":\"scattergeo\",\"marker\":{\"colorbar\":{\"outlinewidth\":0,\"ticks\":\"\"}}}],\"scatterpolar\":[{\"type\":\"scatterpolar\",\"marker\":{\"colorbar\":{\"outlinewidth\":0,\"ticks\":\"\"}}}],\"histogram\":[{\"marker\":{\"pattern\":{\"fillmode\":\"overlay\",\"size\":10,\"solidity\":0.2}},\"type\":\"histogram\"}],\"scattergl\":[{\"type\":\"scattergl\",\"marker\":{\"colorbar\":{\"outlinewidth\":0,\"ticks\":\"\"}}}],\"scatter3d\":[{\"type\":\"scatter3d\",\"line\":{\"colorbar\":{\"outlinewidth\":0,\"ticks\":\"\"}},\"marker\":{\"colorbar\":{\"outlinewidth\":0,\"ticks\":\"\"}}}],\"scattermapbox\":[{\"type\":\"scattermapbox\",\"marker\":{\"colorbar\":{\"outlinewidth\":0,\"ticks\":\"\"}}}],\"scatterternary\":[{\"type\":\"scatterternary\",\"marker\":{\"colorbar\":{\"outlinewidth\":0,\"ticks\":\"\"}}}],\"scattercarpet\":[{\"type\":\"scattercarpet\",\"marker\":{\"colorbar\":{\"outlinewidth\":0,\"ticks\":\"\"}}}],\"carpet\":[{\"aaxis\":{\"endlinecolor\":\"#2a3f5f\",\"gridcolor\":\"white\",\"linecolor\":\"white\",\"minorgridcolor\":\"white\",\"startlinecolor\":\"#2a3f5f\"},\"baxis\":{\"endlinecolor\":\"#2a3f5f\",\"gridcolor\":\"white\",\"linecolor\":\"white\",\"minorgridcolor\":\"white\",\"startlinecolor\":\"#2a3f5f\"},\"type\":\"carpet\"}],\"table\":[{\"cells\":{\"fill\":{\"color\":\"#EBF0F8\"},\"line\":{\"color\":\"white\"}},\"header\":{\"fill\":{\"color\":\"#C8D4E3\"},\"line\":{\"color\":\"white\"}},\"type\":\"table\"}],\"barpolar\":[{\"marker\":{\"line\":{\"color\":\"#E5ECF6\",\"width\":0.5},\"pattern\":{\"fillmode\":\"overlay\",\"size\":10,\"solidity\":0.2}},\"type\":\"barpolar\"}],\"pie\":[{\"automargin\":true,\"type\":\"pie\"}]},\"layout\":{\"autotypenumbers\":\"strict\",\"colorway\":[\"#636efa\",\"#EF553B\",\"#00cc96\",\"#ab63fa\",\"#FFA15A\",\"#19d3f3\",\"#FF6692\",\"#B6E880\",\"#FF97FF\",\"#FECB52\"],\"font\":{\"color\":\"#2a3f5f\"},\"hovermode\":\"closest\",\"hoverlabel\":{\"align\":\"left\"},\"paper_bgcolor\":\"white\",\"plot_bgcolor\":\"#E5ECF6\",\"polar\":{\"bgcolor\":\"#E5ECF6\",\"angularaxis\":{\"gridcolor\":\"white\",\"linecolor\":\"white\",\"ticks\":\"\"},\"radialaxis\":{\"gridcolor\":\"white\",\"linecolor\":\"white\",\"ticks\":\"\"}},\"ternary\":{\"bgcolor\":\"#E5ECF6\",\"aaxis\":{\"gridcolor\":\"white\",\"linecolor\":\"white\",\"ticks\":\"\"},\"baxis\":{\"gridcolor\":\"white\",\"linecolor\":\"white\",\"ticks\":\"\"},\"caxis\":{\"gridcolor\":\"white\",\"linecolor\":\"white\",\"ticks\":\"\"}},\"coloraxis\":{\"colorbar\":{\"outlinewidth\":0,\"ticks\":\"\"}},\"colorscale\":{\"sequential\":[[0.0,\"#0d0887\"],[0.1111111111111111,\"#46039f\"],[0.2222222222222222,\"#7201a8\"],[0.3333333333333333,\"#9c179e\"],[0.4444444444444444,\"#bd3786\"],[0.5555555555555556,\"#d8576b\"],[0.6666666666666666,\"#ed7953\"],[0.7777777777777778,\"#fb9f3a\"],[0.8888888888888888,\"#fdca26\"],[1.0,\"#f0f921\"]],\"sequentialminus\":[[0.0,\"#0d0887\"],[0.1111111111111111,\"#46039f\"],[0.2222222222222222,\"#7201a8\"],[0.3333333333333333,\"#9c179e\"],[0.4444444444444444,\"#bd3786\"],[0.5555555555555556,\"#d8576b\"],[0.6666666666666666,\"#ed7953\"],[0.7777777777777778,\"#fb9f3a\"],[0.8888888888888888,\"#fdca26\"],[1.0,\"#f0f921\"]],\"diverging\":[[0,\"#8e0152\"],[0.1,\"#c51b7d\"],[0.2,\"#de77ae\"],[0.3,\"#f1b6da\"],[0.4,\"#fde0ef\"],[0.5,\"#f7f7f7\"],[0.6,\"#e6f5d0\"],[0.7,\"#b8e186\"],[0.8,\"#7fbc41\"],[0.9,\"#4d9221\"],[1,\"#276419\"]]},\"xaxis\":{\"gridcolor\":\"white\",\"linecolor\":\"white\",\"ticks\":\"\",\"title\":{\"standoff\":15},\"zerolinecolor\":\"white\",\"automargin\":true,\"zerolinewidth\":2},\"yaxis\":{\"gridcolor\":\"white\",\"linecolor\":\"white\",\"ticks\":\"\",\"title\":{\"standoff\":15},\"zerolinecolor\":\"white\",\"automargin\":true,\"zerolinewidth\":2},\"scene\":{\"xaxis\":{\"backgroundcolor\":\"#E5ECF6\",\"gridcolor\":\"white\",\"linecolor\":\"white\",\"showbackground\":true,\"ticks\":\"\",\"zerolinecolor\":\"white\",\"gridwidth\":2},\"yaxis\":{\"backgroundcolor\":\"#E5ECF6\",\"gridcolor\":\"white\",\"linecolor\":\"white\",\"showbackground\":true,\"ticks\":\"\",\"zerolinecolor\":\"white\",\"gridwidth\":2},\"zaxis\":{\"backgroundcolor\":\"#E5ECF6\",\"gridcolor\":\"white\",\"linecolor\":\"white\",\"showbackground\":true,\"ticks\":\"\",\"zerolinecolor\":\"white\",\"gridwidth\":2}},\"shapedefaults\":{\"line\":{\"color\":\"#2a3f5f\"}},\"annotationdefaults\":{\"arrowcolor\":\"#2a3f5f\",\"arrowhead\":0,\"arrowwidth\":1},\"geo\":{\"bgcolor\":\"white\",\"landcolor\":\"#E5ECF6\",\"subunitcolor\":\"white\",\"showland\":true,\"showlakes\":true,\"lakecolor\":\"white\"},\"title\":{\"x\":0.05},\"mapbox\":{\"style\":\"light\"}}},\"xaxis\":{\"anchor\":\"y\",\"domain\":[0.0,1.0],\"title\":{\"text\":\"prinsipal_country\"},\"categoryorder\":\"total descending\"},\"yaxis\":{\"anchor\":\"x\",\"domain\":[0.0,1.0],\"title\":{\"text\":\"count\"}},\"legend\":{\"tracegroupgap\":0},\"margin\":{\"t\":60},\"barmode\":\"relative\"},                        {\"responsive\": true}                    ).then(function(){\n",
              "                            \n",
              "var gd = document.getElementById('00350526-a68d-4ec1-878c-544e72294f7b');\n",
              "var x = new MutationObserver(function (mutations, observer) {{\n",
              "        var display = window.getComputedStyle(gd).display;\n",
              "        if (!display || display === 'none') {{\n",
              "            console.log([gd, 'removed!']);\n",
              "            Plotly.purge(gd);\n",
              "            observer.disconnect();\n",
              "        }}\n",
              "}});\n",
              "\n",
              "// Listen for the removal of the full notebook cells\n",
              "var notebookContainer = gd.closest('#notebook-container');\n",
              "if (notebookContainer) {{\n",
              "    x.observe(notebookContainer, {childList: true});\n",
              "}}\n",
              "\n",
              "// Listen for the clearing of the current output cell\n",
              "var outputEl = gd.closest('.output');\n",
              "if (outputEl) {{\n",
              "    x.observe(outputEl, {childList: true});\n",
              "}}\n",
              "\n",
              "                        })                };                            </script>        </div>\n",
              "</body>\n",
              "</html>"
            ]
          },
          "metadata": {}
        }
      ]
    },
    {
      "cell_type": "markdown",
      "source": [
        "## Distribution of content released¶"
      ],
      "metadata": {
        "id": "8Q5RWwHXZcsN"
      }
    },
    {
      "cell_type": "code",
      "source": [
        "released_year_data=data.loc[data['release_year']>2010].groupby(['release_year','type']).agg({'show_id':'count'}).reset_index()\n",
        "added_year_data=data.loc[data['year_added']>2010].groupby(['year_added','type']).agg({'show_id':'count'}).reset_index()\n"
      ],
      "metadata": {
        "id": "Bda5lintZfem"
      },
      "execution_count": 40,
      "outputs": []
    },
    {
      "cell_type": "code",
      "source": [
        "fig=go.Figure()\n",
        "\n",
        "fig.add_trace(go.Scatter(\n",
        "    x=released_year_data.loc[released_year_data['type']=='Movie']['release_year'],\n",
        "    y=released_year_data.loc[released_year_data['type']=='Movie']['show_id'],\n",
        "    mode='lines+markers',\n",
        "    name='Movie: Released Year',\n",
        "    marker_color='green'\n",
        "\n",
        "))\n",
        "\n",
        "fig.add_trace(go.Scatter(\n",
        "    x=released_year_data.loc[released_year_data['type']=='TV Show']['release_year'],\n",
        "    y=released_year_data.loc[released_year_data['type']=='TV Show']['show_id'],\n",
        "    mode='lines+markers',\n",
        "    name='TV Show: Released Year',\n",
        "    marker_color='darkgreen'\n",
        "))\n",
        "\n",
        "fig.add_trace(go.Scatter(\n",
        "    x=added_year_data.loc[added_year_data['type']=='Movie']['year_added'],\n",
        "    y=added_year_data.loc[added_year_data['type']=='Movie']['show_id'],\n",
        "    mode='lines+markers',\n",
        "    name='Movie: Added Year',\n",
        "    marker_color='red'\n",
        "))\n",
        "\n",
        "fig.add_trace(go.Scatter(\n",
        "    x=added_year_data.loc[added_year_data['type']=='TV Show']['year_added'],\n",
        "    y=added_year_data.loc[added_year_data['type']=='TV Show']['show_id'],\n",
        "    mode='lines+markers',\n",
        "    name='TV Show: Added Year',\n",
        "    marker_color='darkred'\n",
        "))\n",
        "fig.update_xaxes(categoryorder='total descending')\n",
        "fig.show()"
      ],
      "metadata": {
        "colab": {
          "base_uri": "https://localhost:8080/",
          "height": 542
        },
        "id": "yU2pM4UdZfXf",
        "outputId": "4f142269-56e2-4394-dd91-97c4110c3abe"
      },
      "execution_count": 49,
      "outputs": [
        {
          "output_type": "display_data",
          "data": {
            "text/html": [
              "<html>\n",
              "<head><meta charset=\"utf-8\" /></head>\n",
              "<body>\n",
              "    <div>            <script src=\"https://cdnjs.cloudflare.com/ajax/libs/mathjax/2.7.5/MathJax.js?config=TeX-AMS-MML_SVG\"></script><script type=\"text/javascript\">if (window.MathJax && window.MathJax.Hub && window.MathJax.Hub.Config) {window.MathJax.Hub.Config({SVG: {font: \"STIX-Web\"}});}</script>                <script type=\"text/javascript\">window.PlotlyConfig = {MathJaxConfig: 'local'};</script>\n",
              "        <script charset=\"utf-8\" src=\"https://cdn.plot.ly/plotly-2.24.1.min.js\"></script>                <div id=\"b346fe3c-c3be-4c94-91bb-1a5d5bee787d\" class=\"plotly-graph-div\" style=\"height:525px; width:100%;\"></div>            <script type=\"text/javascript\">                                    window.PLOTLYENV=window.PLOTLYENV || {};                                    if (document.getElementById(\"b346fe3c-c3be-4c94-91bb-1a5d5bee787d\")) {                    Plotly.newPlot(                        \"b346fe3c-c3be-4c94-91bb-1a5d5bee787d\",                        [{\"marker\":{\"color\":\"green\"},\"mode\":\"lines+markers\",\"name\":\"Movie: Released Year\",\"x\":[2011,2012,2013,2014,2015,2016,2017,2018,2019,2020,2021],\"y\":[145,173,225,264,397,658,766,767,633,517,277],\"type\":\"scatter\"},{\"marker\":{\"color\":\"darkgreen\"},\"mode\":\"lines+markers\",\"name\":\"TV Show: Released Year\",\"x\":[2011,2012,2013,2014,2015,2016,2017,2018,2019,2020,2021],\"y\":[40,63,61,88,159,243,265,379,397,436,315],\"type\":\"scatter\"},{\"marker\":{\"color\":\"red\"},\"mode\":\"lines+markers\",\"name\":\"Movie: Added Year\",\"x\":[2011,2012,2013,2014,2015,2016,2017,2018,2019,2020,2021],\"y\":[13,3,6,19,56,253,837,1237,1424,1284,993],\"type\":\"scatter\"},{\"marker\":{\"color\":\"darkred\"},\"mode\":\"lines+markers\",\"name\":\"TV Show: Added Year\",\"x\":[2011,2012,2013,2014,2015,2016,2017,2018,2019,2020,2021],\"y\":[0,0,5,5,26,175,349,411,592,595,505],\"type\":\"scatter\"}],                        {\"template\":{\"data\":{\"histogram2dcontour\":[{\"type\":\"histogram2dcontour\",\"colorbar\":{\"outlinewidth\":0,\"ticks\":\"\"},\"colorscale\":[[0.0,\"#0d0887\"],[0.1111111111111111,\"#46039f\"],[0.2222222222222222,\"#7201a8\"],[0.3333333333333333,\"#9c179e\"],[0.4444444444444444,\"#bd3786\"],[0.5555555555555556,\"#d8576b\"],[0.6666666666666666,\"#ed7953\"],[0.7777777777777778,\"#fb9f3a\"],[0.8888888888888888,\"#fdca26\"],[1.0,\"#f0f921\"]]}],\"choropleth\":[{\"type\":\"choropleth\",\"colorbar\":{\"outlinewidth\":0,\"ticks\":\"\"}}],\"histogram2d\":[{\"type\":\"histogram2d\",\"colorbar\":{\"outlinewidth\":0,\"ticks\":\"\"},\"colorscale\":[[0.0,\"#0d0887\"],[0.1111111111111111,\"#46039f\"],[0.2222222222222222,\"#7201a8\"],[0.3333333333333333,\"#9c179e\"],[0.4444444444444444,\"#bd3786\"],[0.5555555555555556,\"#d8576b\"],[0.6666666666666666,\"#ed7953\"],[0.7777777777777778,\"#fb9f3a\"],[0.8888888888888888,\"#fdca26\"],[1.0,\"#f0f921\"]]}],\"heatmap\":[{\"type\":\"heatmap\",\"colorbar\":{\"outlinewidth\":0,\"ticks\":\"\"},\"colorscale\":[[0.0,\"#0d0887\"],[0.1111111111111111,\"#46039f\"],[0.2222222222222222,\"#7201a8\"],[0.3333333333333333,\"#9c179e\"],[0.4444444444444444,\"#bd3786\"],[0.5555555555555556,\"#d8576b\"],[0.6666666666666666,\"#ed7953\"],[0.7777777777777778,\"#fb9f3a\"],[0.8888888888888888,\"#fdca26\"],[1.0,\"#f0f921\"]]}],\"heatmapgl\":[{\"type\":\"heatmapgl\",\"colorbar\":{\"outlinewidth\":0,\"ticks\":\"\"},\"colorscale\":[[0.0,\"#0d0887\"],[0.1111111111111111,\"#46039f\"],[0.2222222222222222,\"#7201a8\"],[0.3333333333333333,\"#9c179e\"],[0.4444444444444444,\"#bd3786\"],[0.5555555555555556,\"#d8576b\"],[0.6666666666666666,\"#ed7953\"],[0.7777777777777778,\"#fb9f3a\"],[0.8888888888888888,\"#fdca26\"],[1.0,\"#f0f921\"]]}],\"contourcarpet\":[{\"type\":\"contourcarpet\",\"colorbar\":{\"outlinewidth\":0,\"ticks\":\"\"}}],\"contour\":[{\"type\":\"contour\",\"colorbar\":{\"outlinewidth\":0,\"ticks\":\"\"},\"colorscale\":[[0.0,\"#0d0887\"],[0.1111111111111111,\"#46039f\"],[0.2222222222222222,\"#7201a8\"],[0.3333333333333333,\"#9c179e\"],[0.4444444444444444,\"#bd3786\"],[0.5555555555555556,\"#d8576b\"],[0.6666666666666666,\"#ed7953\"],[0.7777777777777778,\"#fb9f3a\"],[0.8888888888888888,\"#fdca26\"],[1.0,\"#f0f921\"]]}],\"surface\":[{\"type\":\"surface\",\"colorbar\":{\"outlinewidth\":0,\"ticks\":\"\"},\"colorscale\":[[0.0,\"#0d0887\"],[0.1111111111111111,\"#46039f\"],[0.2222222222222222,\"#7201a8\"],[0.3333333333333333,\"#9c179e\"],[0.4444444444444444,\"#bd3786\"],[0.5555555555555556,\"#d8576b\"],[0.6666666666666666,\"#ed7953\"],[0.7777777777777778,\"#fb9f3a\"],[0.8888888888888888,\"#fdca26\"],[1.0,\"#f0f921\"]]}],\"mesh3d\":[{\"type\":\"mesh3d\",\"colorbar\":{\"outlinewidth\":0,\"ticks\":\"\"}}],\"scatter\":[{\"fillpattern\":{\"fillmode\":\"overlay\",\"size\":10,\"solidity\":0.2},\"type\":\"scatter\"}],\"parcoords\":[{\"type\":\"parcoords\",\"line\":{\"colorbar\":{\"outlinewidth\":0,\"ticks\":\"\"}}}],\"scatterpolargl\":[{\"type\":\"scatterpolargl\",\"marker\":{\"colorbar\":{\"outlinewidth\":0,\"ticks\":\"\"}}}],\"bar\":[{\"error_x\":{\"color\":\"#2a3f5f\"},\"error_y\":{\"color\":\"#2a3f5f\"},\"marker\":{\"line\":{\"color\":\"#E5ECF6\",\"width\":0.5},\"pattern\":{\"fillmode\":\"overlay\",\"size\":10,\"solidity\":0.2}},\"type\":\"bar\"}],\"scattergeo\":[{\"type\":\"scattergeo\",\"marker\":{\"colorbar\":{\"outlinewidth\":0,\"ticks\":\"\"}}}],\"scatterpolar\":[{\"type\":\"scatterpolar\",\"marker\":{\"colorbar\":{\"outlinewidth\":0,\"ticks\":\"\"}}}],\"histogram\":[{\"marker\":{\"pattern\":{\"fillmode\":\"overlay\",\"size\":10,\"solidity\":0.2}},\"type\":\"histogram\"}],\"scattergl\":[{\"type\":\"scattergl\",\"marker\":{\"colorbar\":{\"outlinewidth\":0,\"ticks\":\"\"}}}],\"scatter3d\":[{\"type\":\"scatter3d\",\"line\":{\"colorbar\":{\"outlinewidth\":0,\"ticks\":\"\"}},\"marker\":{\"colorbar\":{\"outlinewidth\":0,\"ticks\":\"\"}}}],\"scattermapbox\":[{\"type\":\"scattermapbox\",\"marker\":{\"colorbar\":{\"outlinewidth\":0,\"ticks\":\"\"}}}],\"scatterternary\":[{\"type\":\"scatterternary\",\"marker\":{\"colorbar\":{\"outlinewidth\":0,\"ticks\":\"\"}}}],\"scattercarpet\":[{\"type\":\"scattercarpet\",\"marker\":{\"colorbar\":{\"outlinewidth\":0,\"ticks\":\"\"}}}],\"carpet\":[{\"aaxis\":{\"endlinecolor\":\"#2a3f5f\",\"gridcolor\":\"white\",\"linecolor\":\"white\",\"minorgridcolor\":\"white\",\"startlinecolor\":\"#2a3f5f\"},\"baxis\":{\"endlinecolor\":\"#2a3f5f\",\"gridcolor\":\"white\",\"linecolor\":\"white\",\"minorgridcolor\":\"white\",\"startlinecolor\":\"#2a3f5f\"},\"type\":\"carpet\"}],\"table\":[{\"cells\":{\"fill\":{\"color\":\"#EBF0F8\"},\"line\":{\"color\":\"white\"}},\"header\":{\"fill\":{\"color\":\"#C8D4E3\"},\"line\":{\"color\":\"white\"}},\"type\":\"table\"}],\"barpolar\":[{\"marker\":{\"line\":{\"color\":\"#E5ECF6\",\"width\":0.5},\"pattern\":{\"fillmode\":\"overlay\",\"size\":10,\"solidity\":0.2}},\"type\":\"barpolar\"}],\"pie\":[{\"automargin\":true,\"type\":\"pie\"}]},\"layout\":{\"autotypenumbers\":\"strict\",\"colorway\":[\"#636efa\",\"#EF553B\",\"#00cc96\",\"#ab63fa\",\"#FFA15A\",\"#19d3f3\",\"#FF6692\",\"#B6E880\",\"#FF97FF\",\"#FECB52\"],\"font\":{\"color\":\"#2a3f5f\"},\"hovermode\":\"closest\",\"hoverlabel\":{\"align\":\"left\"},\"paper_bgcolor\":\"white\",\"plot_bgcolor\":\"#E5ECF6\",\"polar\":{\"bgcolor\":\"#E5ECF6\",\"angularaxis\":{\"gridcolor\":\"white\",\"linecolor\":\"white\",\"ticks\":\"\"},\"radialaxis\":{\"gridcolor\":\"white\",\"linecolor\":\"white\",\"ticks\":\"\"}},\"ternary\":{\"bgcolor\":\"#E5ECF6\",\"aaxis\":{\"gridcolor\":\"white\",\"linecolor\":\"white\",\"ticks\":\"\"},\"baxis\":{\"gridcolor\":\"white\",\"linecolor\":\"white\",\"ticks\":\"\"},\"caxis\":{\"gridcolor\":\"white\",\"linecolor\":\"white\",\"ticks\":\"\"}},\"coloraxis\":{\"colorbar\":{\"outlinewidth\":0,\"ticks\":\"\"}},\"colorscale\":{\"sequential\":[[0.0,\"#0d0887\"],[0.1111111111111111,\"#46039f\"],[0.2222222222222222,\"#7201a8\"],[0.3333333333333333,\"#9c179e\"],[0.4444444444444444,\"#bd3786\"],[0.5555555555555556,\"#d8576b\"],[0.6666666666666666,\"#ed7953\"],[0.7777777777777778,\"#fb9f3a\"],[0.8888888888888888,\"#fdca26\"],[1.0,\"#f0f921\"]],\"sequentialminus\":[[0.0,\"#0d0887\"],[0.1111111111111111,\"#46039f\"],[0.2222222222222222,\"#7201a8\"],[0.3333333333333333,\"#9c179e\"],[0.4444444444444444,\"#bd3786\"],[0.5555555555555556,\"#d8576b\"],[0.6666666666666666,\"#ed7953\"],[0.7777777777777778,\"#fb9f3a\"],[0.8888888888888888,\"#fdca26\"],[1.0,\"#f0f921\"]],\"diverging\":[[0,\"#8e0152\"],[0.1,\"#c51b7d\"],[0.2,\"#de77ae\"],[0.3,\"#f1b6da\"],[0.4,\"#fde0ef\"],[0.5,\"#f7f7f7\"],[0.6,\"#e6f5d0\"],[0.7,\"#b8e186\"],[0.8,\"#7fbc41\"],[0.9,\"#4d9221\"],[1,\"#276419\"]]},\"xaxis\":{\"gridcolor\":\"white\",\"linecolor\":\"white\",\"ticks\":\"\",\"title\":{\"standoff\":15},\"zerolinecolor\":\"white\",\"automargin\":true,\"zerolinewidth\":2},\"yaxis\":{\"gridcolor\":\"white\",\"linecolor\":\"white\",\"ticks\":\"\",\"title\":{\"standoff\":15},\"zerolinecolor\":\"white\",\"automargin\":true,\"zerolinewidth\":2},\"scene\":{\"xaxis\":{\"backgroundcolor\":\"#E5ECF6\",\"gridcolor\":\"white\",\"linecolor\":\"white\",\"showbackground\":true,\"ticks\":\"\",\"zerolinecolor\":\"white\",\"gridwidth\":2},\"yaxis\":{\"backgroundcolor\":\"#E5ECF6\",\"gridcolor\":\"white\",\"linecolor\":\"white\",\"showbackground\":true,\"ticks\":\"\",\"zerolinecolor\":\"white\",\"gridwidth\":2},\"zaxis\":{\"backgroundcolor\":\"#E5ECF6\",\"gridcolor\":\"white\",\"linecolor\":\"white\",\"showbackground\":true,\"ticks\":\"\",\"zerolinecolor\":\"white\",\"gridwidth\":2}},\"shapedefaults\":{\"line\":{\"color\":\"#2a3f5f\"}},\"annotationdefaults\":{\"arrowcolor\":\"#2a3f5f\",\"arrowhead\":0,\"arrowwidth\":1},\"geo\":{\"bgcolor\":\"white\",\"landcolor\":\"#E5ECF6\",\"subunitcolor\":\"white\",\"showland\":true,\"showlakes\":true,\"lakecolor\":\"white\"},\"title\":{\"x\":0.05},\"mapbox\":{\"style\":\"light\"}}},\"xaxis\":{\"categoryorder\":\"total descending\"}},                        {\"responsive\": true}                    ).then(function(){\n",
              "                            \n",
              "var gd = document.getElementById('b346fe3c-c3be-4c94-91bb-1a5d5bee787d');\n",
              "var x = new MutationObserver(function (mutations, observer) {{\n",
              "        var display = window.getComputedStyle(gd).display;\n",
              "        if (!display || display === 'none') {{\n",
              "            console.log([gd, 'removed!']);\n",
              "            Plotly.purge(gd);\n",
              "            observer.disconnect();\n",
              "        }}\n",
              "}});\n",
              "\n",
              "// Listen for the removal of the full notebook cells\n",
              "var notebookContainer = gd.closest('#notebook-container');\n",
              "if (notebookContainer) {{\n",
              "    x.observe(notebookContainer, {childList: true});\n",
              "}}\n",
              "\n",
              "// Listen for the clearing of the current output cell\n",
              "var outputEl = gd.closest('.output');\n",
              "if (outputEl) {{\n",
              "    x.observe(outputEl, {childList: true});\n",
              "}}\n",
              "\n",
              "                        })                };                            </script>        </div>\n",
              "</body>\n",
              "</html>"
            ]
          },
          "metadata": {}
        }
      ]
    },
    {
      "cell_type": "code",
      "source": [
        "from scipy.stats import norm\n",
        "sns.distplot(data.loc[data['release_year']>2000,'release_year'],fit=norm,kde=False)"
      ],
      "metadata": {
        "colab": {
          "base_uri": "https://localhost:8080/",
          "height": 703
        },
        "id": "gfcwXfS8ZfNt",
        "outputId": "b983ece2-7fc3-4017-a8b1-75fffe88cf81"
      },
      "execution_count": 44,
      "outputs": [
        {
          "output_type": "stream",
          "name": "stderr",
          "text": [
            "<ipython-input-44-f79e81402bae>:2: UserWarning:\n",
            "\n",
            "\n",
            "\n",
            "`distplot` is a deprecated function and will be removed in seaborn v0.14.0.\n",
            "\n",
            "Please adapt your code to use either `displot` (a figure-level function with\n",
            "similar flexibility) or `histplot` (an axes-level function for histograms).\n",
            "\n",
            "For a guide to updating your code to use the new functions, please see\n",
            "https://gist.github.com/mwaskom/de44147ed2974457ad6372750bbe5751\n",
            "\n",
            "\n"
          ]
        },
        {
          "output_type": "execute_result",
          "data": {
            "text/plain": [
              "<Axes: xlabel='release_year'>"
            ]
          },
          "metadata": {},
          "execution_count": 44
        },
        {
          "output_type": "display_data",
          "data": {
            "text/plain": [
              "<Figure size 640x480 with 1 Axes>"
            ],
            "image/png": "[encoded data removed]"
          },
          "metadata": {}
        }
      ]
    },
    {
      "cell_type": "code",
      "source": [],
      "metadata": {
        "id": "imz4JxaWEGXZ"
      },
      "execution_count": null,
      "outputs": []
    },
    {
      "cell_type": "code",
      "source": [],
      "metadata": {
        "id": "rITpS9EyDyks"
      },
      "execution_count": null,
      "outputs": []
    }
  ]
}